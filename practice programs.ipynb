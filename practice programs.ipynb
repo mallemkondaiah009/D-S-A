{
 "cells": [
  {
   "cell_type": "code",
   "execution_count": 1,
   "metadata": {},
   "outputs": [
    {
     "name": "stdout",
     "output_type": "stream",
     "text": [
      "1 2\n"
     ]
    }
   ],
   "source": [
    "#NTHadorable Number\n",
    "n=list(map(int,input(\"Enter:\").split()))\n",
    "li=[1]\n",
    "for i in range(1,sum(n)+1):\n",
    "    if i%2==0 or i%3==0 or i%5==0:\n",
    "        li.append(i)\n",
    "print(li[n[0]-1],li[n[1]-1])"
   ]
  },
  {
   "cell_type": "code",
   "execution_count": null,
   "metadata": {},
   "outputs": [
    {
     "name": "stdout",
     "output_type": "stream",
     "text": [
      "[288325195312500000, 50837316566580]\n"
     ]
    }
   ],
   "source": [
    "def NthAdorableNumber(Input):\n",
    "    # Initialize a list to store the extraordinary numbers\n",
    "    extraordinary_numbers = [1]\n",
    "    # Initialize pointers for multiples of 2, 3, and 5\n",
    "    i2, i3, i5 = 0, 0, 0\n",
    "    \n",
    "    # Generate extraordinary numbers until we reach the maximum N in the Input\n",
    "    for _ in range(max(Input)):\n",
    "        # Calculate the next extraordinary number by taking the minimum of multiples of 2, 3, and 5\n",
    "        next_number = min(extraordinary_numbers[i2] * 2, extraordinary_numbers[i3] * 3, extraordinary_numbers[i5] * 5)\n",
    "        extraordinary_numbers.append(next_number)\n",
    "        \n",
    "        # Update pointers based on which multiple was chosen\n",
    "        if next_number == extraordinary_numbers[i2] * 2:\n",
    "            i2 += 1\n",
    "        if next_number == extraordinary_numbers[i3] * 3:\n",
    "            i3 += 1\n",
    "        if next_number == extraordinary_numbers[i5] * 5:\n",
    "            i5 += 1\n",
    "    \n",
    "    # Prepare the result list by fetching the Nth adorable number for each N in Input\n",
    "    result = [extraordinary_numbers[n - 1] for n in Input]\n",
    "    return result\n",
    "\n",
    "# Test the function with sample input\n",
    "print(NthAdorableNumber([10000, 5000]))\n"
   ]
  },
  {
   "cell_type": "code",
   "execution_count": null,
   "metadata": {},
   "outputs": [
    {
     "name": "stdout",
     "output_type": "stream",
     "text": [
      "46368\n"
     ]
    }
   ],
   "source": [
    "def fib(n):\n",
    "    if n <= 1:\n",
    "        return n\n",
    "    else:\n",
    "        return fib(n-1) + fib(n-2)\n",
    "\n",
    "print(fib(24))\n"
   ]
  },
  {
   "cell_type": "code",
   "execution_count": null,
   "metadata": {},
   "outputs": [
    {
     "name": "stdout",
     "output_type": "stream",
     "text": [
      "[0, 1, 1, 2, 3, 5, 8, 13, 21, 34, 55, 89, 144, 233, 377, 610, 987, 1597, 2584, 4181]\n"
     ]
    }
   ],
   "source": [
    "def fib(n):\n",
    "    li=[0,1]\n",
    "    for i in range(2,n):\n",
    "        r=li[-1]+li[-2]\n",
    "        li.append(r)\n",
    "    return li\n",
    "print(fib(20))"
   ]
  },
  {
   "cell_type": "code",
   "execution_count": null,
   "metadata": {},
   "outputs": [
    {
     "name": "stdout",
     "output_type": "stream",
     "text": [
      "[3, 5, 7, 9]\n"
     ]
    }
   ],
   "source": [
    "li=[1,2,3,4,5]\n",
    "arr=[]\n",
    "for i in range(len(li)-1):\n",
    "    r=li[i]+li[i+1]\n",
    "    arr.append(r)\n",
    "print(arr)"
   ]
  },
  {
   "cell_type": "code",
   "execution_count": null,
   "metadata": {},
   "outputs": [
    {
     "name": "stdout",
     "output_type": "stream",
     "text": [
      "[1, 3, 6, 10, 15]\n"
     ]
    }
   ],
   "source": [
    "arr = [1, 2, 3, 4, 5]\n",
    "output = []\n",
    "\n",
    "cumulative_sum = 0\n",
    "for num in arr:\n",
    "    cumulative_sum += num\n",
    "    output.append(cumulative_sum)\n",
    "\n",
    "print(output)"
   ]
  },
  {
   "cell_type": "code",
   "execution_count": null,
   "metadata": {},
   "outputs": [
    {
     "name": "stdout",
     "output_type": "stream",
     "text": [
      "93326215443944152681699238856266700490715968264381621468592963895217599993229915608941463976156518286253697920827223758251185210916864000000000000000000000000\n"
     ]
    }
   ],
   "source": [
    "#Factorial Number using computational product\n",
    "n=int(input(\"Enter:\"))\n",
    "arr=list(range(1,n+1))\n",
    "li=[]\n",
    "c=1\n",
    "for i in arr:\n",
    "    c*=i\n",
    "    li.append(c)\n",
    "print(li[-1])"
   ]
  },
  {
   "cell_type": "code",
   "execution_count": null,
   "metadata": {},
   "outputs": [
    {
     "name": "stdout",
     "output_type": "stream",
     "text": [
      "93326215443944152681699238856266700490715968264381621468592963895217599993229915608941463976156518286253697920827223758251185210916864000000000000000000000000\n"
     ]
    }
   ],
   "source": [
    "import math\n",
    "print(math.factorial(100))"
   ]
  },
  {
   "cell_type": "code",
   "execution_count": null,
   "metadata": {},
   "outputs": [
    {
     "name": "stdout",
     "output_type": "stream",
     "text": [
      "[0, 1, 1, 2, 3, 5, 8, 13, 21, 34, 55]\n"
     ]
    }
   ],
   "source": [
    "#Fibonacci \n",
    "n=int(input(\"Enter:\"))\n",
    "li=[0,1]\n",
    "for i in range(2,n+1):\n",
    "    li.append(li[-1]+li[-2])\n",
    "print(li)"
   ]
  },
  {
   "cell_type": "code",
   "execution_count": null,
   "metadata": {},
   "outputs": [
    {
     "name": "stdout",
     "output_type": "stream",
     "text": [
      "100000000000000000000000000000000000000000000000000 is not a prime number\n"
     ]
    }
   ],
   "source": [
    "def is_prime(n):\n",
    "    if n <= 1:\n",
    "        return False\n",
    "    for i in range(2, int(n**0.5) + 1):\n",
    "        if n % i == 0:\n",
    "            return False\n",
    "    return True\n",
    "\n",
    "n = int(input(\"Enter a number: \"))\n",
    "if is_prime(n):\n",
    "    print(n,\"is a prime number\")\n",
    "else:\n",
    "    print(n,\"is not a prime number\")\n"
   ]
  },
  {
   "cell_type": "code",
   "execution_count": null,
   "metadata": {},
   "outputs": [
    {
     "name": "stdout",
     "output_type": "stream",
     "text": [
      "True\n"
     ]
    }
   ],
   "source": [
    "#sub-sequence in string\n",
    "li=[]\n",
    "a=\"abc\"\n",
    "b=\"ahbgdc\"\n",
    "s1=list(set(b))\n",
    "for i in a:\n",
    "    for j in s1:\n",
    "        if i==j:\n",
    "            li.append(i)\n",
    "print(len(li)==len(a))"
   ]
  },
  {
   "cell_type": "code",
   "execution_count": null,
   "metadata": {},
   "outputs": [
    {
     "name": "stdout",
     "output_type": "stream",
     "text": [
      "3\n"
     ]
    }
   ],
   "source": [
    "a = \"abc\"\n",
    "b = \"ahbgdc\"\n",
    "i = 0\n",
    "j = 0\n",
    "while i < len(a) and j < len(b):\n",
    "    if a[i] == b[j]:\n",
    "        i += 1\n",
    "    j += 1\n",
    "print(i)\n"
   ]
  },
  {
   "cell_type": "code",
   "execution_count": null,
   "metadata": {},
   "outputs": [
    {
     "name": "stdout",
     "output_type": "stream",
     "text": [
      "Length of longest increasing subsequence: [1, 1, 1, 2, 2, 3, 4, 4]\n"
     ]
    }
   ],
   "source": [
    "def longest_increasing_subsequence(nums):\n",
    "    if not nums:\n",
    "        return 0\n",
    "\n",
    "    n = len(nums)\n",
    "    dp = [1] * n\n",
    "\n",
    "    for i in range(1, n):\n",
    "        for j in range(i):\n",
    "            if nums[i] > nums[j]:\n",
    "                dp[i] = max(dp[i], dp[j] + 1)\n",
    "\n",
    "    return max(dp)\n",
    "\n",
    "# Example usage\n",
    "nums = [10, 9, 2, 5, 3, 7, 101, 18]\n",
    "print(\"Length of longest increasing subsequence:\", longest_increasing_subsequence(nums))  # Output: 4\n"
   ]
  },
  {
   "cell_type": "code",
   "execution_count": null,
   "metadata": {},
   "outputs": [
    {
     "name": "stdout",
     "output_type": "stream",
     "text": [
      "----------------------------------------------------------------------------------------------------\n",
      "-------------------------------------------------=--------------------------------------------------\n",
      "------------------------------------------------++--------------------------------------------------\n",
      "-----------------------------------------------+#=--------------------------------------------------\n",
      "---------------------------------------------=+#*---------------------------------------------------\n",
      "------------------------------------------=+*+*@+---------------------------------------------------\n",
      "----------------------------------------=+#**+%%----------------------------------------------------\n",
      "---------------------------+----------=++*#*##@*:---------------------------------------------------\n",
      "--------------------------=%-------=++***%%%@%#-----------------------------------------------------\n",
      "--------------------------*@=----=*###%###@@%#+--==-------------------------------------------------\n",
      "-------------------------+#@+:--+#%@@%@##%@@#%@%%#####**+-------------------------------------------\n",
      "------------------------+*%@-:-+%@@@%%@%##@%#@@@@@@%%#***#*+=---------------------------------------\n",
      "-----------------------=#*@@--*#@@@@#%@@##%#%@@@@@@@@@@%#*++++*+=-----------------------------------\n",
      "-----------------------*##@@=#%#@@@@#@@@@##%@@@@@@@@@@@@@@%*=======*+-------------------------------\n",
      "----------------------+*%%@@%%##%@@%#@@@@@@@@@@@@@@@@%#**+++====+*%#--------------------------------\n",
      "---------------------=*#@@@@%@%#%@@#%@@@@@@@@@@@@@@@@@@@%%####%%@@%---------------------------------\n",
      "---------------------+*%@@@%%@@##%#%@@@@@@@@@@@@@@@@@@@@@@@@@@@@@%=---------------------------------\n",
      "--------------------=*##@@@#%@@@%#%@@@@@@@@@@@@@@@@@@@@@@@@@@@@@%=----------------------------------\n",
      "--------------------+%##@@@#@@@@@@@@@@@@@@@@@@@@@@@@@@@@@@@@@@@@=-----------------------------------\n",
      "--------------------+@%#%@#%@@@@@@@@@@@@@@@@@@@@@@@@@@@@@@@@@#+*+-----------------------------------\n",
      "-----------------==:-%@%###@@@@@@@@@@@@@@@@@@@@@@@@@@@@@@@@@@%#*++=---------------------------------\n",
      "-----------------=*++@@@%%@@@@@@@@@@@@@@@@@@@@@@@@@@@@@@@@@@@@@@#**+--------------------------------\n",
      "-----------------=%##@@@@@@@@@@@@@@@@@@@@@@@@@@@@@@@@@@@@@@@@@@@@@@@%#*=----------------------------\n",
      "-----------------=@@@@@@@@@@@@@@@%@@@@@@@%@@@@@@@@@@@@@@@@@@@@@@@@%*==------------------------------\n",
      "------------------*@@@@@@@@@@@@@%*@@@@@@@#%@@@@@@@@@@@@@@@@@@@@@%#-::-------------------------------\n",
      "-------------------+@@@@@@@@@@@%#=%@@@@@@@*@@@@@@@@@@@@@@@@@@@@@@#*=--------------------------------\n",
      "-------------------=@@@@@@@@@@@#*-#@@@@@@@##@@%@@@@@@@@@@@@@@@@@@@#*+-------------------------------\n",
      "-------------------+@@@@@@@@@@%#+-+@@@@@@%%*@@@#@@@@@@@@@@@@@@@@@@@@%#*+=---------------------------\n",
      "-------------------+@@@@@@@@@@##=-=@@@@@@#@*%@@%#@@@@@@@@@@@@@@@@@@##*+=----------------------------\n",
      "-------------------*@@@@@@@@@%##---#@#@@@%###%@@*%@@@@@@@@@@@@@@@@@=::------------------------------\n",
      "-------------------*@@@@@@@@@##*---=@*#@@@*#*+#@%#@@@@@@@@@@@@@@@@%*--------------------------------\n",
      "------------------=*@@@@@@@@@*#+----*%-%@@%+**-%@*#@@@@@@@@@@@@@@@@*=-------------------------------\n",
      "------------------+#@@@@@@@@@*#+-----#+=%@@*+*-=%%+#@@%@@@@@@@@@@@@*+-------------------------------\n",
      "------------------+#@@@@@@@%@#*=-----==-=%@#=*=-+@++@@#%@@@@@@@@@%@*+-------------------------------\n",
      "------------------=#@@@@@@@*@%*=---------=%@++=--##-#@%*@@@@@@@@@%%#+-------------------------------\n",
      "------------------+%@@@@@@@+*@*=----------+@#++--=%==@@*@@@@@@@@@@%*+-------------------------------\n",
      "------------------*@@@@@@@@=-%#=-----------+@++---#+-#@*%@@@@@@@@@@#+=------------------------------\n",
      "-----------------+%@@@@@@@@=-+@+------------+#+--*+--+@#%@@@@@@@@@@@*+------------------------------\n",
      "----------------+@@@@@@@@@@==-*#-------------*+-##*=--%%#@@@@@@@@@@@@*=-----------------------------\n",
      "---------------=%@@@@@@@@@@==*=*--------------+*+=+*+:*%*@@@*=@@@@#@@@*-----------------------------\n",
      "-----------------===%@@@@@@=-=#*=-------==--=**=:-:-*-=@+%@*++*@@#--+#*-----------------------------\n",
      "-------------------:=@@@@@@=-+****+==----***##-:*@#:-=-%=#@++=*@@#----------------------------------\n",
      "--------------------=@@@@@@+=*=---+%#----+***+::#@@::--*-***=:*@@%----------------------------------\n",
      "--------------------=@@%+@@*+=:-%%-+#+------=-::-*=:::-=-++#+:#@*%=---------------------------------\n",
      "--------------------=@@@=%**+::=@@=:**--------::::::----:=+#=-%%:==---------------------------------\n",
      "--------------------=*+@##*--:::##::**---------::::-=----=**==@%-:----------------------------------\n",
      "-----------------------@*##--::::::+**---------=====-=---##-:*@@=-----------------------------------\n",
      "-----------------------*=+%=-=-:::=###=----------=-+*----%#+=%@@*+*+--------------------------------\n",
      "-----------------------:-=#+--=====*##=--------==*=-----=+--%*+@*:-=*=:-----------------------------\n",
      "-------------------------=*#--------*#----------:--:----+=+%@#+#%-::-++++**+=-:---------------------\n",
      "--------------------------+#=--------++--=--------------#%@@@**+*#+=-:-+++++*#*=--------------------\n",
      "---------------------------%+--------------------------=#@@@@#######%#+-:-++:-=+*+-:----------------\n",
      "---------------------------=*=-------------------------**@@@@@@%%###%%%#+::=#-::-=*+----------------\n",
      "--------------------------::=+----------=====--:------+#=@@@@@%%%##**#%+**=:=#---:-*#+--------------\n",
      "-------------------------==+#%=------=*++==+++++----:+#==@@@@@%%##****%***#=:+%*=--:=#*-------------\n",
      "----------------------=+#%@@@@%=-----=-::::::--=----=#*-=@@@@@@%#**#**%**#*#-:=#%*+-::+#=-----------\n",
      "--------------------=*%%%%@@@@@%=------=++++------:+#*=-=@@@@@###*#%**%##*%#+-:-**:=--:-+*----------\n",
      "------------------+*####%%@@@@@@%+-----=**+=------+#*=---%@@@@###*%#**%####%#**=:*+::--::+*---------\n",
      "-----------------##***###%@@@@@@@@*--------------*#*+----%@@@%####@#**%%#*%####%+:=**=----+#=-------\n",
      "----------------=%*****##*%@@@@@@@@%=----------+##*+-----#@@@####%@#**%#####*#%*#+:-#==---:+#-------\n",
      "----------------=#**#*****#@@@@@@@@@@*=------=*#**+------*@@@####@@#**%%#%#*%#*%*#+:=%------+*------\n",
      "----------------=#**%**####@@@@@@@@@%##*+==+*##**+=------+@@%####@@#**#%##*##%#*%*#=:#=::---:**-----\n",
      "----------------=#**%#*####%@@@@@@@@%*#######***+=-------+@@%###%@@#**#%##*######%*#-=#==-----#+:---\n",
      "----------------+#**%%*#####@@@@@@@@%*####*****+---------=@@%###@@@#**#%##%%#######**-#++------#----\n",
      "----------------+#**%@######@@@@@@@@#*##******+----------=@@%###@@@#***%*#%%###*#*#*#==+------:=*:--\n",
      "----------------*##*%@######@@@@@@@@####*****=-==--------=@@%##%@@@%***%#*#%#%#%####*=:=*+=-----*=--\n",
      "----------------*###%@######@@@@@@@@**#****+=-===--------=%@#%#%@@@%***%##**######*#*=--+#=+=---=#--\n",
      "----------------*###@@######@@@@@@@%==***+=-====---------=%@%%#%@@@@#**###%####*#****+*--*===----+=-\n",
      "----------------*###@@#####%@@@@@@@#=====-=====----------=%@%%#@@@@@#***@@@@%%#***####+*:+%-=+=---*-\n",
      "----------------####@@#####@@@@@@@%+=========------------=#@%%%%@@@@%***%####%@@##*##%**=-#*-==---*+\n",
      "---------------=###%@@####@@@@@@@%+=========-------------=*@%%%=@@@@@%**%%++++*#@%#*%#%+*-=#==----=#\n",
      "--------------:-*##@@@###@@@%%%%*==+======----------=====-#@%%=*@@@@@@%**@****+++#@####**=-*===----#\n",
      "--------------=*##%@@%##@@@%%#*+===*====------=++*+++===-=%@#=*@@@@@@@@@%@#****+++#%*#*#*+-*+==----+\n",
      "------------=*%@#%@@#%#@@@%%%#*=--=*=-=----=***+=-------=%#+=#@%@@%@@@%@@@#******++#%#*#**-=#===---=\n",
      "----------=*##@%%@@@#*@@%#%*==*#*-=*=----=**=----------=%*=*%@%#@@#@@@##@@#*******++%##*#*=-#*====--\n",
      "---------+%%#%@@@@@@@*%%###===-=+++*+--=++=-----------++=+%%#%@#@@#%@@@*#@#********+*%%*##+-+%*++===\n",
      "--------*%###@@@@@%%%%+###*-===---*#+=++=----------=+++*%%####@%%@%#@@@%*%#********++#@*#**=+%++=-==\n",
      "-------*%###%@@@%%%%##%**%+--=-----**+=----------==++*%%%#####%@#@@##@@@*************+%#**+==%======\n",
      "-----=#%##%%@%%%%%#####%#**=-------=+---------=+=++#@%#########@%%@@#%@@#************+*%*+*==#==++==\n",
      "----=%%%#%@%%%%%####%###%%#*++==-===-----==+==++##+*%######%####@%@@%#%@%**************%##+==%#*++==\n",
      "----#%%%%@%%%%#####%++###*+*#***#***+++++++**##+=--########%%#%#%@%@@%#@@#*************#%#*+=%*+=+==\n",
      "----%@%%@@%##%#####*:-#*#+--=**#+***#***##**+=---:=%########%#%##@%%@@##@####***********%%**-#+=====\n",
      "---=@%%@@%###%%####*:+###=-----++#%+*===----------*%########%#%#*%@#%@@#######**********#@**-*+=====\n",
      "--:=@@@%######%####%*###=------*++-#==-:---------+#%########%%%###%%##@@######***********@*#=**=====\n",
      "---+@@%#######%%#####*#+-------++*:+*=+=-------:=**@########%%%####@%##@@#########*******@*#=+#=====\n",
      "--#%@%#######*#%##***#*--------*#=:=***+-------=#+*@########%%%##*#%@%##%@###########****%##=+%==+==\n",
      "-=@@%%#########%#***##*+=-------#----==-----:=+**++%#########%@%####%@###%@%##########**#%##++%++===\n",
      "-+@%%%%%%######%#***#***#-------*---------=***+++++%%########%@%#%#*#@%####%%##########*#@##++#++=+*\n",
      "-#%%####%%###%*#***##***#=-----=*----+----*+*+++++*%%#########%#%#**#%@%####%###########%@%#**%###**\n",
      "-#%%#**++#%##%##***##++***==-*=+*--=**:--*+++*#**#**%#########%%#*#**#%@%##############%%@%#*##*#+**\n",
      "+#=--===*++##%%***#*****+*##=***+:+*+*+=*+++++*##=-=@########%%#*##***#%@%#############%@@%%*%%%#***\n",
      "+====----#--#%%%#*#+-#%#++++*+*%+=*+++**++++++*#---=%########%%#*#*****#%@%%#%%#######%@@@%#%@%#***#\n",
      "*+++*#=---*:*%%##*#=-+%++++++++%#++++++++++++++*---=%########@#*********#%@%#%#####%%#@@@@%*%@#*****\n",
      "=----=#+-:=+-@#-*#*=-+#++++++++##+++++++++++++#+---=%%######%%*#*********#%%%%%%%%##%@@@@@%**@#****=\n",
      "*-----=*=-:+=##-*%+--+*++++++++##++++*++++++**=----=#%######%###**********#%%%%%%%###%@@@@%**#@#***-\n",
      "#++=----+---++%*#%+---=*****+++##*++++++++**+------=#%#####%%*##***********#%%@%%%%####%@@%***%%*#+-\n",
      "#-+#=----=-:-=%%##=----+%#*++*#####***+++**#------=+*%####%@#*#*************#%%@%%%%%%######**#%*#--\n",
      "%--==-----+--:*%%*====-=%*+*######%%######%#==++++++*%####%%###**************#%%%%##%########**@*#--\n",
      "@+--------++:-=%%*+*+++############%#########+++++++*%###%@%*#****************#%%@@%#########**%%*--\n",
      "%#=-------=+:==%%+++++*%###################%*+++++++*@##%%@###******************%@@@#%%%#####**#@---\n",
      "\n"
     ]
    }
   ],
   "source": [
    "from PIL import Image\n",
    "\n",
    "# Load the image\n",
    "image = Image.open(\"C:\\\\Users\\\\Mallem Kondaiah\\\\OneDrive\\\\Pictures\\\\Saved Pictures\\\\luffy.jpg\")\n",
    "\n",
    "# Convert the image to grayscale\n",
    "image = image.convert(\"L\")\n",
    "\n",
    "# Resize the image to a smaller size\n",
    "width, height = image.size\n",
    "aspect_ratio = height / width\n",
    "new_width = 100\n",
    "new_height = int(aspect_ratio * new_width)\n",
    "image = image.resize((new_width, new_height))\n",
    "\n",
    "# Define ASCII characters to represent different shades of gray\n",
    "ascii_chars = \"@%#*+=-:. \"\n",
    "\n",
    "# Convert each pixel to an ASCII character based on its brightness\n",
    "ascii_image = \"\"\n",
    "for y in range(new_height):\n",
    "    for x in range(new_width):\n",
    "        pixel_brightness = image.getpixel((x, y))\n",
    "        ascii_image += ascii_chars[pixel_brightness // 32]\n",
    "    ascii_image += \"\\n\"\n",
    "\n",
    "# Print the ASCII image\n",
    "print(ascii_image)\n"
   ]
  },
  {
   "cell_type": "code",
   "execution_count": null,
   "metadata": {},
   "outputs": [
    {
     "name": "stdout",
     "output_type": "stream",
     "text": [
      "Note: you may need to restart the kernel to use updated packages.\n"
     ]
    },
    {
     "name": "stderr",
     "output_type": "stream",
     "text": [
      "WARNING: Ignoring invalid distribution ~umpy (C:\\Users\\Mallem Kondaiah\\AppData\\Roaming\\Python\\Python311\\site-packages)\n",
      "WARNING: Ignoring invalid distribution ~umpy (C:\\Users\\Mallem Kondaiah\\AppData\\Roaming\\Python\\Python311\\site-packages)\n",
      "ERROR: Could not find a version that satisfies the requirement PIL (from versions: none)\n",
      "ERROR: No matching distribution found for PIL\n",
      "WARNING: Ignoring invalid distribution ~umpy (C:\\Users\\Mallem Kondaiah\\AppData\\Roaming\\Python\\Python311\\site-packages)\n",
      "WARNING: Ignoring invalid distribution ~umpy (C:\\Users\\Mallem Kondaiah\\AppData\\Roaming\\Python\\Python311\\site-packages)\n",
      "WARNING: Ignoring invalid distribution ~umpy (C:\\Users\\Mallem Kondaiah\\AppData\\Roaming\\Python\\Python311\\site-packages)\n"
     ]
    }
   ],
   "source": [
    "pip install PIL"
   ]
  },
  {
   "cell_type": "code",
   "execution_count": null,
   "metadata": {},
   "outputs": [
    {
     "name": "stdout",
     "output_type": "stream",
     "text": [
      "not\n"
     ]
    }
   ],
   "source": [
    "arr=[\"smk\",\"sml\",\"mj\"]\n",
    "for i in range(len(arr)):\n",
    "    if arr[0][0]==arr[1][0]==arr[2][0]:\n",
    "        print(\"Are equal\")\n",
    "        break\n",
    "    else:\n",
    "        print(\"not\")\n",
    "        break"
   ]
  },
  {
   "cell_type": "code",
   "execution_count": null,
   "metadata": {},
   "outputs": [
    {
     "name": "stdout",
     "output_type": "stream",
     "text": [
      "YES its equal\n"
     ]
    }
   ],
   "source": [
    "arr=[\"smk\",\"sml\",\"smj\"]\n",
    "s=\"\"\n",
    "for i in range(len(arr)):\n",
    "    s+=(arr[i][0])\n",
    "if len(list(set(s)))==1:\n",
    "    print(\"YES its equal\")\n",
    "else:\n",
    "    print(\"not\")"
   ]
  },
  {
   "cell_type": "code",
   "execution_count": null,
   "metadata": {},
   "outputs": [
    {
     "name": "stdout",
     "output_type": "stream",
     "text": [
      "['s']\n",
      "['s']\n",
      "['m']\n"
     ]
    }
   ],
   "source": [
    "arr=[\"smk\",\"sml\",\"mj\"]\n",
    "for i in arr:\n",
    "    print(list(i[0]))"
   ]
  },
  {
   "cell_type": "code",
   "execution_count": null,
   "metadata": {},
   "outputs": [
    {
     "name": "stdout",
     "output_type": "stream",
     "text": [
      "flow\n",
      "['f', 'l', 'o', 'w']\n"
     ]
    }
   ],
   "source": [
    "arr=[\"flower\",\"flow\",\"flight\"]\n",
    "x=min(arr,key=len)\n",
    "print(x)\n",
    "li=[]\n",
    "e=[]\n",
    "m=min([len(i) for i in arr])\n",
    "for i in range(m):\n",
    "    for j in arr:\n",
    "        li.append(j[i])\n",
    "a=(list(set(li)))\n",
    "for i in x:\n",
    "    if i in a:\n",
    "        e.append(i)\n",
    "print(e)\n",
    "        \n",
    "\n",
    "    \n",
    "            \n"
   ]
  },
  {
   "cell_type": "code",
   "execution_count": null,
   "metadata": {},
   "outputs": [
    {
     "name": "stdout",
     "output_type": "stream",
     "text": [
      "['h', 'g', 'o', 'e', 't', 'i', 'r', 'f', 'w', 'l']\n"
     ]
    }
   ],
   "source": [
    "arr=[\"flower\",\"flow\",\"flight\"]\n",
    "s=\"\".join(arr)\n",
    "s1=list(set(s))\n",
    "print(s1)\n",
    "\n",
    "        \n",
    "\n",
    "            "
   ]
  },
  {
   "cell_type": "code",
   "execution_count": null,
   "metadata": {},
   "outputs": [
    {
     "name": "stdout",
     "output_type": "stream",
     "text": [
      "fl\n"
     ]
    }
   ],
   "source": [
    "def longest_common_prefix(arr):\n",
    "    if not arr:\n",
    "        return \"\"\n",
    "\n",
    "    # Find the shortest string in the array\n",
    "    min_length = min(len(s) for s in arr)\n",
    "    \n",
    "    # Iterate through characters at each index position\n",
    "    for i in range(min_length):\n",
    "        # Check if all characters at this index are the same\n",
    "        if len(set(s[i] for s in arr)) > 1:\n",
    "            return arr[0][:i]  # Return the prefix up to this point\n",
    "    # If loop completes, all characters matched up to the length of the shortest string\n",
    "    return arr[0][:min_length]\n",
    "\n",
    "# Example usage:\n",
    "arr = [\"flower\", \"flow\", \"flight\"]\n",
    "print(longest_common_prefix(arr))  \n"
   ]
  },
  {
   "cell_type": "code",
   "execution_count": null,
   "metadata": {},
   "outputs": [
    {
     "name": "stdout",
     "output_type": "stream",
     "text": [
      "fl\n"
     ]
    }
   ],
   "source": [
    "arr = [\"flower\", \"flow\", \"flight\"]\n",
    "m=min([len(i) for i in arr])\n",
    "for i in range(m):\n",
    "    if len(set([j[i] for j in arr]))>1:\n",
    "        print(arr[0][:i])\n",
    "        break\n",
    "    "
   ]
  },
  {
   "cell_type": "code",
   "execution_count": null,
   "metadata": {},
   "outputs": [
    {
     "name": "stdout",
     "output_type": "stream",
     "text": [
      "\n"
     ]
    }
   ],
   "source": [
    "arr = [\"ower\", \"flow\", \"flight\"]\n",
    "li=[]\n",
    "for i in range(min(len(s) for s in arr)):\n",
    "    a = [j[i] for j in arr]\n",
    "    if len(set(a)) > 1:\n",
    "        li.append(arr[0][:i])\n",
    "if len(li)>=1:\n",
    "    print(li[0])\n",
    "elif len(li)==0:\n",
    "    print(\"no\")\n",
    "\n"
   ]
  },
  {
   "cell_type": "code",
   "execution_count": null,
   "metadata": {},
   "outputs": [
    {
     "name": "stdout",
     "output_type": "stream",
     "text": [
      "\n"
     ]
    }
   ],
   "source": [
    "arr = [\"ower\", \"flow\", \"flight\"]\n",
    "li = []\n",
    "for i in range(min(len(s) for s in arr)):\n",
    "    a = [j[i] for j in arr]\n",
    "    if len(set(a)) > 1:\n",
    "        li.append(arr[0][:i])\n",
    "if li:\n",
    "    print(li[0])\n",
    "elif arr:\n",
    "    print(\"no\")\n",
    "else:\n",
    "    print(\"empty list\")\n"
   ]
  },
  {
   "cell_type": "code",
   "execution_count": null,
   "metadata": {},
   "outputs": [
    {
     "name": "stdout",
     "output_type": "stream",
     "text": [
      "All the integers of the list are multiples of 5\n"
     ]
    }
   ],
   "source": [
    "arr=[5,10,15,20]\n",
    "li=[]\n",
    "n=[]\n",
    "for i in arr:\n",
    "    if i%5==0:\n",
    "        li.append(i)\n",
    "    else:\n",
    "        n.append(i)\n",
    "if len(arr)==len(li):\n",
    "    print(\"All the integers of the list are multiples of 5\")\n",
    "else:\n",
    "    print(\"Integers which are not multiples of 5 are:\",n)\n",
    "    \n",
    "    \n",
    "    \n",
    "    "
   ]
  },
  {
   "cell_type": "code",
   "execution_count": null,
   "metadata": {},
   "outputs": [
    {
     "name": "stdout",
     "output_type": "stream",
     "text": [
      "[3, -1, 1, 5, 14, 16]\n"
     ]
    }
   ],
   "source": [
    "def sliding_window(nums, k):\n",
    "    if not nums:\n",
    "        return []\n",
    "\n",
    "    n = len(nums)\n",
    "    result = []\n",
    "\n",
    "    # Initialize the window\n",
    "    window_sum = sum(nums[:k])\n",
    "    result.append(window_sum)\n",
    "\n",
    "    # Slide the window and calculate the sum of each window\n",
    "    for i in range(1, n - k + 1):\n",
    "        window_sum = window_sum - nums[i - 1] + nums[i + k - 1]\n",
    "        result.append(window_sum)\n",
    "\n",
    "    return result\n",
    "\n",
    "# Example usage\n",
    "nums = [1, 3, -1, -3, 5, 3, 6, 7]\n",
    "k = 3\n",
    "print(sliding_window(nums, k))\n"
   ]
  },
  {
   "cell_type": "code",
   "execution_count": null,
   "metadata": {},
   "outputs": [
    {
     "name": "stdout",
     "output_type": "stream",
     "text": [
      "[0, 3, 2, 1]\n"
     ]
    }
   ],
   "source": [
    "def sum_and_place_ones(lst):\n",
    "    output = []\n",
    "    count_ones = 0\n",
    "\n",
    "    for num in lst:\n",
    "        if num == 1:\n",
    "            count_ones += 1\n",
    "        else:\n",
    "            if count_ones > 0:\n",
    "                output.append(count_ones)\n",
    "            count_ones = 0\n",
    "\n",
    "    if count_ones > 0:\n",
    "        output.append(count_ones)\n",
    "\n",
    "    output = [0] + output  # Adding a zero at the beginning\n",
    "    return output\n",
    "\n",
    "num = [0, 1, 1, 1, 0, 1, 1, 0, 1]\n",
    "output = sum_and_place_ones(num)\n",
    "print(output)\n"
   ]
  },
  {
   "cell_type": "code",
   "execution_count": null,
   "metadata": {},
   "outputs": [
    {
     "name": "stdout",
     "output_type": "stream",
     "text": [
      "5\n"
     ]
    }
   ],
   "source": [
    "num = [1,1,0,0,1,1,1,0,1]\n",
    "z=num.count(0)\n",
    "ones=num.count(1)\n",
    "\n",
    "if z==0:\n",
    "    print(ones-1)\n",
    "if z==1:\n",
    "    print(ones)\n",
    "if z>1:\n",
    "    print(ones-1)"
   ]
  },
  {
   "cell_type": "code",
   "execution_count": null,
   "metadata": {},
   "outputs": [
    {
     "name": "stdout",
     "output_type": "stream",
     "text": [
      "0\n"
     ]
    }
   ],
   "source": [
    "num = [ 1, 1, 1]\n",
    "z=num.count(0)\n",
    "print(z)\n"
   ]
  },
  {
   "cell_type": "code",
   "execution_count": null,
   "metadata": {},
   "outputs": [
    {
     "name": "stdout",
     "output_type": "stream",
     "text": [
      "8\n"
     ]
    }
   ],
   "source": [
    "def longestSubarray(nums):\n",
    "        z = nums.count(0)\n",
    "        ones = nums.count(1)\n",
    "        \n",
    "        if z==0:\n",
    "            return ones-1\n",
    "        if z==1:\n",
    "            return ones\n",
    "        if z>1:\n",
    "            return ones\n",
    "nums=[1, 0, 0, 1, 1, 0, 1, 0, 1, 0, 0, 0, 1, 1, 1]\n",
    "print(longestSubarray(nums))\n"
   ]
  },
  {
   "cell_type": "code",
   "execution_count": null,
   "metadata": {},
   "outputs": [
    {
     "name": "stdout",
     "output_type": "stream",
     "text": [
      "4\n"
     ]
    }
   ],
   "source": [
    "def longestSubarray(nums):\n",
    "    max_length = 0\n",
    "    current_length = 0\n",
    "    zero_count = 0\n",
    "    prev_zero_index = -1\n",
    "    \n",
    "    for i, num in enumerate(nums):\n",
    "        if num == 1:\n",
    "            current_length += 1\n",
    "        else:\n",
    "            zero_count += 1\n",
    "            if zero_count == 1:\n",
    "                current_length += 1\n",
    "            else:\n",
    "                max_length = max(max_length, current_length - 1)\n",
    "                current_length = i - prev_zero_index\n",
    "                prev_zero_index = i\n",
    "                \n",
    "    max_length = max(max_length, current_length - 1)\n",
    "    \n",
    "    return max_length if max_length != len(nums) else max_length - 1\n",
    "\n",
    "# Test cases\n",
    "\n",
    "nums2 = [1, 0, 0, 1, 1, 0, 1, 0, 1, 0, 0, 0, 1, 1, 1]\n",
    "\n",
    "  # Output: 3\n",
    "print(longestSubarray(nums2))  # Output: 5\n",
    "  # Output: 2\n"
   ]
  },
  {
   "cell_type": "code",
   "execution_count": null,
   "metadata": {},
   "outputs": [
    {
     "name": "stdout",
     "output_type": "stream",
     "text": [
      "[0, -4, 6, 5, -7]\n"
     ]
    }
   ],
   "source": [
    "nums=[-5,1,5,0,-7]\n",
    "li=[0]\n",
    "for i in range(len(nums)-1):\n",
    "    a=nums[i]+nums[i+1]\n",
    "    li.append(a)\n",
    "print(li)\n",
    "    "
   ]
  },
  {
   "cell_type": "code",
   "execution_count": null,
   "metadata": {},
   "outputs": [
    {
     "name": "stdout",
     "output_type": "stream",
     "text": [
      "1\n"
     ]
    }
   ],
   "source": [
    "arr = [-5,1,5,0,-7]\n",
    "output = [0]\n",
    "\n",
    "cumulative_sum = 0\n",
    "for num in arr:\n",
    "    cumulative_sum += num\n",
    "    output.append(cumulative_sum)\n",
    "\n",
    "print(max(output))"
   ]
  },
  {
   "cell_type": "code",
   "execution_count": null,
   "metadata": {},
   "outputs": [
    {
     "name": "stdout",
     "output_type": "stream",
     "text": [
      "lecoe\n"
     ]
    }
   ],
   "source": [
    "def removeStars(s):\n",
    "    result = []\n",
    "    for char in s:\n",
    "        if char == '*':\n",
    "            if result:\n",
    "                result.pop()  # Remove the closest non-star character\n",
    "        else:\n",
    "            result.append(char)\n",
    "    return ''.join(result)\n",
    "\n",
    "# Test cases\n",
    "print(removeStars(\"leet**cod*e\"))  \n",
    " \n",
    "\n",
    "    \n",
    "        "
   ]
  },
  {
   "cell_type": "code",
   "execution_count": null,
   "metadata": {},
   "outputs": [
    {
     "name": "stdout",
     "output_type": "stream",
     "text": [
      "[[1, 3], [4, 6]]\n"
     ]
    }
   ],
   "source": [
    "def findDifference( nums1, nums2):\n",
    "    first = list(set(nums1) - set(nums2))\n",
    "    second = list(set(nums2) - set(nums1))\n",
    "    return [first, second]\n",
    "nums1=[1,2,3]\n",
    "nums2=[2,4,6]\n",
    "print(findDifference(nums1,nums2))"
   ]
  },
  {
   "cell_type": "code",
   "execution_count": null,
   "metadata": {},
   "outputs": [
    {
     "name": "stdout",
     "output_type": "stream",
     "text": [
      "['a', 'a', 'b', 'b', 'b', 'c']\n"
     ]
    }
   ],
   "source": [
    "print(sorted(\"cabbba\"))"
   ]
  },
  {
   "cell_type": "code",
   "execution_count": null,
   "metadata": {},
   "outputs": [
    {
     "name": "stdout",
     "output_type": "stream",
     "text": [
      "True\n"
     ]
    }
   ],
   "source": [
    "a=sorted(\"cabbba\")\n",
    "b=sorted(\"cabbba\")\n",
    "print(a==b)"
   ]
  },
  {
   "cell_type": "code",
   "execution_count": null,
   "metadata": {},
   "outputs": [
    {
     "name": "stdout",
     "output_type": "stream",
     "text": [
      "False\n"
     ]
    }
   ],
   "source": [
    "a=\"cabbba\"\n",
    "b=\"abbccc\"\n",
    "s1=sorted(set(a))\n",
    "s2=sorted(set(b))\n",
    "li1=[]\n",
    "li2=[]\n",
    "for i in s1:\n",
    "    li1.append(a.count(i))\n",
    "    \n",
    "for j in s2:\n",
    "    li2.append(b.count(j))\n",
    "print(li1[0]==li2[0])\n",
    "\n",
    "    "
   ]
  },
  {
   "cell_type": "code",
   "execution_count": null,
   "metadata": {},
   "outputs": [
    {
     "name": "stdout",
     "output_type": "stream",
     "text": [
      "aaa\n",
      "bb\n"
     ]
    }
   ],
   "source": [
    "#Input: s = \"3[a]2[bc]\"\n",
    "#Output: \"aa\n",
    "s = \"3[a]2[bc]\"\n",
    "a=\"\"\n",
    "al=[]\n",
    "n=[]\n",
    "for i in s:\n",
    "    if i!=\"[\" and i!=\"]\":\n",
    "        a=a+i\n",
    "for j in a:\n",
    "    if j.isdigit():\n",
    "        n.append(j)\n",
    "    else:\n",
    "        al.append(j)\n",
    "for i in range(len(al)-1):\n",
    "    print(al[i]*(int(n[i])))  "
   ]
  },
  {
   "cell_type": "code",
   "execution_count": null,
   "metadata": {},
   "outputs": [
    {
     "name": "stdout",
     "output_type": "stream",
     "text": [
      "333\n"
     ]
    }
   ],
   "source": [
    "print(3*a)"
   ]
  },
  {
   "cell_type": "code",
   "execution_count": null,
   "metadata": {},
   "outputs": [
    {
     "name": "stdout",
     "output_type": "stream",
     "text": [
      "aaabcbc\n"
     ]
    }
   ],
   "source": [
    "def decodeString(s):\n",
    "    stack = []\n",
    "    curr_num = 0\n",
    "    curr_str = ''\n",
    "    \n",
    "    for char in s:\n",
    "        if char.isdigit():\n",
    "            curr_num = curr_num * 10 + int(char)\n",
    "        elif char == '[':\n",
    "            stack.append(curr_str)\n",
    "            stack.append(curr_num)\n",
    "            curr_str = ''\n",
    "            curr_num = 0\n",
    "        elif char == ']':\n",
    "            num = stack.pop()\n",
    "            prev_str = stack.pop()\n",
    "            curr_str = prev_str + curr_str * num\n",
    "        else:\n",
    "            curr_str += char\n",
    "    \n",
    "    return curr_str\n",
    "\n",
    "s = \"3[a]2[bc]\"\n",
    "print(decodeString(s))  # Output: \"aaabcbc\"\n"
   ]
  },
  {
   "cell_type": "code",
   "execution_count": null,
   "metadata": {},
   "outputs": [
    {
     "name": "stdout",
     "output_type": "stream",
     "text": [
      "0\n",
      "1\n",
      "1\n",
      "0\n"
     ]
    }
   ],
   "source": [
    "#int to binary\n",
    "print(2%2)\n",
    "print(2//2)\n",
    "print(1%2)\n",
    "print(1//2)"
   ]
  },
  {
   "cell_type": "code",
   "execution_count": null,
   "metadata": {},
   "outputs": [
    {
     "name": "stdout",
     "output_type": "stream",
     "text": [
      "00110\n"
     ]
    }
   ],
   "source": [
    "b='00'\n",
    "b+=(bin(6)[2:])\n",
    "print(b)"
   ]
  },
  {
   "cell_type": "code",
   "execution_count": null,
   "metadata": {},
   "outputs": [
    {
     "name": "stdout",
     "output_type": "stream",
     "text": [
      "['Students', 'learning']\n"
     ]
    }
   ],
   "source": [
    "n=\"Students are learning python and learning C\"\n",
    "a=list(n.split(\" \"))\n",
    "li=[]\n",
    "s1=(list(set(a)))\n",
    "s2=len(max(s1,key=len))\n",
    "for i in s1:\n",
    "    if len(i)==s2:\n",
    "        li.append(i)\n",
    "print(sorted(li))\n",
    "        \n"
   ]
  },
  {
   "cell_type": "code",
   "execution_count": null,
   "metadata": {},
   "outputs": [
    {
     "name": "stdout",
     "output_type": "stream",
     "text": [
      "[0, 1]\n"
     ]
    }
   ],
   "source": [
    "'''\n",
    "Input: nums = [2,7,11,15], target = 9\n",
    "Output: [0,1]\n",
    "Explanation: Because nums[0] + nums[1] == 9, we return [0, 1].'''\n",
    "t=5\n",
    "n=[3,2,4]\n",
    "li=[]\n",
    "for i in range(len(n)-1):\n",
    "    if n[i]+n[i+1]==t:\n",
    "        li.append(i)\n",
    "        li.append(i+1)\n",
    "print(li)\n",
    "\n"
   ]
  },
  {
   "cell_type": "code",
   "execution_count": null,
   "metadata": {},
   "outputs": [
    {
     "name": "stdout",
     "output_type": "stream",
     "text": [
      "1 2\n",
      "2 3\n"
     ]
    }
   ],
   "source": [
    "t=5\n",
    "num=[3,1,4,1]\n",
    "s={}\n",
    "for i, n in enumerate(num):\n",
    "    c=(t-n)\n",
    "    if c in s:\n",
    "        print(s[c],i)\n",
    "    s[n]=i"
   ]
  },
  {
   "cell_type": "code",
   "execution_count": null,
   "metadata": {},
   "outputs": [
    {
     "name": "stdout",
     "output_type": "stream",
     "text": [
      "[1, 4, 1, 4]\n"
     ]
    }
   ],
   "source": [
    "A = [-2, 1, -3, 4, -1, 2, 1, -5, 4]\n",
    "li=[]\n",
    "for i in A:\n",
    "    if (A.count(i))>1:\n",
    "        li.append(i)\n",
    "print(li)\n",
    "        "
   ]
  },
  {
   "cell_type": "code",
   "execution_count": null,
   "metadata": {},
   "outputs": [
    {
     "name": "stdout",
     "output_type": "stream",
     "text": [
      "6\n"
     ]
    }
   ],
   "source": [
    "n=[-2, 1, -3, 4, -1, 2, 1, -5, 4]\n",
    "c_sum=n[0]\n",
    "max_sum=n[0]\n",
    "for i in n[1:]:\n",
    "    c_sum=max(i,c_sum+i)\n",
    "    max_sum=max(max_sum,c_sum)\n",
    "print(max_sum)\n"
   ]
  },
  {
   "cell_type": "code",
   "execution_count": null,
   "metadata": {},
   "outputs": [
    {
     "name": "stdout",
     "output_type": "stream",
     "text": [
      "2,4\n"
     ]
    }
   ],
   "source": [
    "A=[1,2,4,2,4]\n",
    "c=[]\n",
    "for i in A:\n",
    "    if A.count(i)>1:\n",
    "        c.append(i)\n",
    "s=(list(set((c))))\n",
    "if c:\n",
    "    print(\",\".join(map(str,s)))\n",
    "else:\n",
    "    print(\"-1\")\n",
    "\n",
    "\n",
    "        \n",
    "\n"
   ]
  },
  {
   "cell_type": "code",
   "execution_count": null,
   "metadata": {},
   "outputs": [
    {
     "name": "stdout",
     "output_type": "stream",
     "text": [
      "[2, 4, 3]\n"
     ]
    }
   ],
   "source": [
    "A=[2,4,2,4,3]\n",
    "li=[]\n",
    "for i in A:\n",
    "    if i not in li:\n",
    "        li.append(i)\n",
    "print(li)"
   ]
  },
  {
   "cell_type": "code",
   "execution_count": null,
   "metadata": {},
   "outputs": [
    {
     "name": "stdout",
     "output_type": "stream",
     "text": [
      "1\n",
      "2\n",
      "3\n",
      "4\n",
      "5\n",
      "6\n",
      "4\n"
     ]
    }
   ],
   "source": [
    "#abs() function\n",
    "li=[-1,-2,3,4,5,-6,-4]\n",
    "for i in li:\n",
    "    print(abs(i))"
   ]
  },
  {
   "cell_type": "code",
   "execution_count": null,
   "metadata": {},
   "outputs": [
    {
     "name": "stdout",
     "output_type": "stream",
     "text": [
      "[9, 3, 2, 4]\n"
     ]
    }
   ],
   "source": [
    "A = [9,3,1, 2, 4, 2, 4,3,3,9]\n",
    "c = []\n",
    "for i in range(len(A)):\n",
    "    if A[i] in A[i+1:]:\n",
    "        if A[i] not in c:\n",
    "            c.append(A[i])\n",
    "print(c)\n",
    "\n",
    "        \n",
    "    "
   ]
  },
  {
   "cell_type": "code",
   "execution_count": null,
   "metadata": {},
   "outputs": [
    {
     "name": "stdout",
     "output_type": "stream",
     "text": [
      "[9, 2, 3, 4]\n"
     ]
    }
   ],
   "source": [
    "A = [9,3,1, 2, 4, 2, 4,3,3,9]\n",
    "c = []\n",
    "for i in range(len(A)):\n",
    "    if A[i] in A[i+1:]:\n",
    "        c.append(A[i])\n",
    "print(list(set(c)))\n"
   ]
  },
  {
   "cell_type": "code",
   "execution_count": null,
   "metadata": {},
   "outputs": [
    {
     "name": "stdout",
     "output_type": "stream",
     "text": [
      "{9: 2, 3: 3, 1: 1, 2: 2, 4: 2}\n"
     ]
    }
   ],
   "source": [
    "A = [9, 3, 1, 2, 4, 2, 4, 3, 3, 9]\n",
    "counts = {}\n",
    "for i in A:\n",
    "    if i in counts:\n",
    "        counts[i] += 1\n",
    "    else:\n",
    "        counts[i] = 1\n",
    "\n",
    "print(counts)\n"
   ]
  },
  {
   "cell_type": "code",
   "execution_count": null,
   "metadata": {},
   "outputs": [
    {
     "name": "stdout",
     "output_type": "stream",
     "text": [
      "[9, 3, 2, 4]\n"
     ]
    }
   ],
   "source": [
    "A = [9, 3, 1, 2, 4, 2, 4, 3, 3, 9]\n",
    "c={}\n",
    "for i in A:\n",
    "    if i in c:\n",
    "        c[i]+=1\n",
    "    else:\n",
    "        c[i]=1\n",
    "li=[]\n",
    "for i in c:\n",
    "    if c[i]>1:\n",
    "        li.append(i)\n",
    "if li:\n",
    "    "
   ]
  },
  {
   "cell_type": "code",
   "execution_count": null,
   "metadata": {},
   "outputs": [
    {
     "name": "stdout",
     "output_type": "stream",
     "text": [
      "[3, 4]\n"
     ]
    }
   ],
   "source": [
    "'''\n",
    "Input:[3 1 2 5 3] \n",
    "\n",
    "Output:[3, 4] \n",
    "'''\n",
    "\n",
    "s=[3,1,2 ,5, 3] \n",
    "c={}\n",
    "for i in s:\n",
    "    if i in c:\n",
    "        c[i]+=1\n",
    "    else:\n",
    "        c[i]=1\n",
    "li=[i for i in c if c[i]>1]\n",
    "\n",
    "\n",
    "for i in range(1,len(s)+1):\n",
    "    if i not in s:\n",
    "        li.append(i)\n",
    "print(li)\n",
    "    "
   ]
  },
  {
   "cell_type": "code",
   "execution_count": null,
   "metadata": {},
   "outputs": [
    {
     "name": "stdout",
     "output_type": "stream",
     "text": [
      "[[3, 1], [4, 2]]\n"
     ]
    }
   ],
   "source": [
    "m=([[1, 2], [3, 4]])\n",
    "t=[list(i) for i in zip(*m[::-1])]\n",
    "print(t)\n",
    "    "
   ]
  },
  {
   "cell_type": "code",
   "execution_count": null,
   "metadata": {},
   "outputs": [
    {
     "name": "stdout",
     "output_type": "stream",
     "text": [
      "[[3, 1], [4, 2]]\n"
     ]
    }
   ],
   "source": [
    "m=([[1, 2], [3, 4]])\n",
    "li=[]\n",
    "for i in zip(*m[::-1]):\n",
    "    li.append(list(i))\n",
    "print(li)\n",
    "    "
   ]
  },
  {
   "cell_type": "code",
   "execution_count": null,
   "metadata": {},
   "outputs": [
    {
     "name": "stdout",
     "output_type": "stream",
     "text": [
      "s m k r u t h l e s s\n"
     ]
    }
   ],
   "source": [
    "#Unpacking operator *\n",
    "m=\"smkruthless\"\n",
    "print(*m)"
   ]
  },
  {
   "cell_type": "code",
   "execution_count": null,
   "metadata": {},
   "outputs": [
    {
     "name": "stdout",
     "output_type": "stream",
     "text": [
      "9534330\n"
     ]
    }
   ],
   "source": [
    "def largestNumber(A):\n",
    "    A = sorted(map(str, A), key=lambda x: x*9, reverse=True)\n",
    "    # Handle case where all elements are 0\n",
    "    if A[0] == '0':\n",
    "        return '0'\n",
    "    return ''.join(A)\n",
    "\n",
    "# Example usage:\n",
    "A = [3, 30, 34, 5, 9]\n",
    "result = largestNumber(A)\n",
    "print(result)  # Output: \"9534330\"\n",
    "\n"
   ]
  },
  {
   "cell_type": "code",
   "execution_count": null,
   "metadata": {},
   "outputs": [
    {
     "name": "stdout",
     "output_type": "stream",
     "text": [
      "[4, 5, 1, 2, 3]\n"
     ]
    }
   ],
   "source": [
    "arr=[1,2,3,4,5]\n",
    "k=2\n",
    "\n",
    "print(arr[-k:] + arr[:-k])"
   ]
  },
  {
   "cell_type": "code",
   "execution_count": null,
   "metadata": {},
   "outputs": [
    {
     "name": "stdout",
     "output_type": "stream",
     "text": [
      "[1, 0, 0, 0, 0, 0, 0, 0, 0]\n"
     ]
    }
   ],
   "source": [
    "k=i//4*2%3\n",
    "li=[]\n",
    "for i in range(1,10):\n",
    "    k//=i\n",
    "    li.append(k)\n",
    "print(li)"
   ]
  },
  {
   "cell_type": "code",
   "execution_count": null,
   "metadata": {},
   "outputs": [
    {
     "name": "stdout",
     "output_type": "stream",
     "text": [
      "[1, 4, 9, 16]\n"
     ]
    }
   ],
   "source": [
    "arr=[1,2,3,4]\n",
    "print([i**2 for i in arr])\n"
   ]
  },
  {
   "cell_type": "code",
   "execution_count": null,
   "metadata": {},
   "outputs": [
    {
     "name": "stdout",
     "output_type": "stream",
     "text": [
      "15\n"
     ]
    }
   ],
   "source": [
    "\n",
    "def max_subarray_sum(arr):\n",
    "    max_sum = curr_sum = arr[0]\n",
    "    for num in arr[1:]:\n",
    "        curr_sum = max(num, curr_sum + num)\n",
    "        max_sum = max(max_sum, curr_sum)\n",
    "    return max_sum\n",
    "arr=[1,2,3,4,5]\n",
    "print(max_subarray_sum(arr))"
   ]
  },
  {
   "cell_type": "code",
   "execution_count": null,
   "metadata": {},
   "outputs": [
    {
     "name": "stdout",
     "output_type": "stream",
     "text": [
      "3\n"
     ]
    }
   ],
   "source": [
    "def missing_number(arr):\n",
    "    n = len(arr) + 1\n",
    "    return (n * (n + 1) // 2) - sum(arr)\n",
    "arr=[1,2,4,5]\n",
    "print(missing_number(arr))"
   ]
  },
  {
   "cell_type": "code",
   "execution_count": null,
   "metadata": {},
   "outputs": [
    {
     "name": "stdout",
     "output_type": "stream",
     "text": [
      "2\n"
     ]
    }
   ],
   "source": [
    "arr=[1,2,4,5]\n",
    "k=3\n",
    "print(sorted(arr, reverse=True)[k-1])"
   ]
  },
  {
   "cell_type": "code",
   "execution_count": null,
   "metadata": {},
   "outputs": [
    {
     "name": "stdout",
     "output_type": "stream",
     "text": [
      "[8, 9, 9, 9, 0, 0, 0, 1]\n"
     ]
    }
   ],
   "source": [
    "l1=[9,9,9,9,9,9,9]\n",
    "l2=[9,9,9,9]\n",
    "s1=l1[::-1]\n",
    "s2=l2[::-1]\n",
    "s3=\"\".join(map(str,s1))\n",
    "s4=\"\".join(map(str,s2))\n",
    "r=int(s3)+int(s4)\n",
    "r1=str(r)[::-1]\n",
    "arr=[]\n",
    "for i in r1:\n",
    "    arr.append(int(i))\n",
    "print(arr)"
   ]
  },
  {
   "cell_type": "code",
   "execution_count": null,
   "metadata": {},
   "outputs": [
    {
     "name": "stdout",
     "output_type": "stream",
     "text": [
      "['o', 'l', 'l', 'e', 'h']\n"
     ]
    }
   ],
   "source": [
    "s =[\"h\",\"e\",\"l\",\"l\",\"o\"]\n",
    "\n",
    "print(s[::-1])"
   ]
  },
  {
   "cell_type": "code",
   "execution_count": null,
   "metadata": {},
   "outputs": [
    {
     "name": "stdout",
     "output_type": "stream",
     "text": [
      "5\n"
     ]
    }
   ],
   "source": [
    "s = \"aaabb\"\n",
    "li=[]\n",
    "for i in s:\n",
    "    li.append(s.count(i))\n",
    "print(sum(set(li)))\n",
    "        "
   ]
  },
  {
   "cell_type": "code",
   "execution_count": null,
   "metadata": {},
   "outputs": [
    {
     "name": "stdout",
     "output_type": "stream",
     "text": [
      "[1, 2]\n"
     ]
    }
   ],
   "source": [
    "nums = [3,2,4]\n",
    "t=6\n",
    "li=[]\n",
    "for i in range(len(nums)):\n",
    "    for j in range(i+1,len(nums)):\n",
    "        if nums[i]+nums[j]==t:\n",
    "            li.append(i)\n",
    "            li.append(j)\n",
    "print(li)\n",
    "\n"
   ]
  },
  {
   "cell_type": "code",
   "execution_count": null,
   "metadata": {},
   "outputs": [
    {
     "name": "stdout",
     "output_type": "stream",
     "text": [
      "2\n"
     ]
    }
   ],
   "source": [
    "def removeDuplicates( nums):\n",
    "        replace = 1\n",
    "        for i in range(1, len(nums)):\n",
    "            if nums[i-1] != nums[i]:\n",
    "                nums[replace] = nums[i]\n",
    "                replace += 1\n",
    "        return replace\n",
    "nums = [1,1,2]\n",
    "print(removeDuplicates(nums))"
   ]
  },
  {
   "cell_type": "code",
   "execution_count": null,
   "metadata": {},
   "outputs": [
    {
     "name": "stdout",
     "output_type": "stream",
     "text": [
      "lucky chef\n"
     ]
    }
   ],
   "source": [
    "a,b,c=map(int,input().split())\n",
    "if c-a>b:\n",
    "    print(\"lucky chef\")\n",
    "else:\n",
    "    print(\"unlucky chef\")"
   ]
  },
  {
   "cell_type": "code",
   "execution_count": null,
   "metadata": {},
   "outputs": [
    {
     "name": "stdout",
     "output_type": "stream",
     "text": [
      "None\n"
     ]
    }
   ],
   "source": [
    "nums1 = [1,2,3,0,0,0]\n",
    "m = 3\n",
    "nums2 = [2,5,6]\n",
    "n = 3\n",
    "nums1[m:]=nums2[:n]\n",
    "print(nums1.sort())"
   ]
  },
  {
   "cell_type": "code",
   "execution_count": null,
   "metadata": {},
   "outputs": [
    {
     "name": "stdout",
     "output_type": "stream",
     "text": [
      "None\n"
     ]
    }
   ],
   "source": [
    "nums = [0,1,2,2,3,0,4,2]\n",
    "\n",
    "\n",
    "       \n"
   ]
  },
  {
   "cell_type": "code",
   "execution_count": null,
   "metadata": {},
   "outputs": [
    {
     "name": "stdout",
     "output_type": "stream",
     "text": [
      "[1, 4, 9, 16, 25]\n"
     ]
    }
   ],
   "source": [
    "# Example: Square each element in a list\n",
    "numbers = [1, 2, 3, 4, 5]\n",
    "\n",
    "squared = map(lambda x: x**2, numbers)\n",
    "# If you want to get the result as a list:\n",
    "squared_list = list(squared)\n",
    "\n",
    "print(squared_list)  # Output: [1, 4, 9, 16, 25]\n"
   ]
  },
  {
   "cell_type": "code",
   "execution_count": null,
   "metadata": {},
   "outputs": [
    {
     "name": "stdout",
     "output_type": "stream",
     "text": [
      "[2, 4, 6, 8, 10]\n"
     ]
    }
   ],
   "source": [
    "# Example: Filter out even numbers from a list\n",
    "numbers = [1, 2, 3, 4, 5, 6, 7, 8, 9, 10]\n",
    "\n",
    "even_numbers = filter(lambda x: x%2==0, numbers)\n",
    "print(list(even_numbers))"
   ]
  },
  {
   "cell_type": "code",
   "execution_count": null,
   "metadata": {},
   "outputs": [
    {
     "name": "stdout",
     "output_type": "stream",
     "text": [
      "[[0, 0, 0], [0, 0, 0]]\n"
     ]
    }
   ],
   "source": [
    "'''\n",
    "Input: nums = [-1,0,1,2,-1,-4]\n",
    "Output: [[-1,-1,2],[-1,0,1]]\n",
    "Explanation: \n",
    "nums[0] + nums[1] + nums[2] = (-1) + 0 + 1 = 0.\n",
    "nums[1] + nums[2] + nums[4] = 0 + 1 + (-1) = 0.\n",
    "nums[0] + nums[3] + nums[4] = (-1) + 2 + (-1) = 0.\n",
    "The distinct triplets are [-1,0,1] and [-1,-1,2].\n",
    "Notice that the order of the output and the order of the triplets does not matter.\n",
    "'''\n",
    "nums = [0,0,0]\n",
    "li=[]\n",
    "for i in nums:\n",
    "    for j in nums:\n",
    "        for k in nums:\n",
    "            if i+j+k==0:\n",
    "                li.append(list(((i,j,k))))\n",
    "                \n",
    "arr=[]               \n",
    "arr.append(li[1])\n",
    "arr.append(li[0])\n",
    "print(arr)\n",
    "                \n"
   ]
  },
  {
   "cell_type": "code",
   "execution_count": null,
   "metadata": {},
   "outputs": [
    {
     "name": "stdout",
     "output_type": "stream",
     "text": [
      "24\n"
     ]
    }
   ],
   "source": [
    "nums=[1,2,3,4]\n",
    "\n",
    "n = len(nums)\n",
    "nums.sort()\n",
    "print(max(nums[0] * nums[1] * nums[n - 1], nums[n-3] * nums[n - 2] * nums[n-1]))\n",
    "\n",
    "            "
   ]
  },
  {
   "cell_type": "code",
   "execution_count": null,
   "metadata": {},
   "outputs": [
    {
     "name": "stdout",
     "output_type": "stream",
     "text": [
      "24\n"
     ]
    }
   ],
   "source": [
    "n=[1,2,3,4]\n",
    "print(max(nums[0]*nums[1]*nums[2],nums[-1]*nums[-2]*nums[-3]))"
   ]
  },
  {
   "cell_type": "code",
   "execution_count": null,
   "metadata": {},
   "outputs": [
    {
     "name": "stdout",
     "output_type": "stream",
     "text": [
      "10 1\n",
      "30 1\n",
      "3 1\n",
      "4 2\n",
      "4 2\n",
      "20 1\n"
     ]
    }
   ],
   "source": [
    "arr=[10,30,3,4,4,20]\n",
    "for i in range(len(arr)):\n",
    "    print(arr[i],arr.count(arr[i]))"
   ]
  },
  {
   "cell_type": "code",
   "execution_count": null,
   "metadata": {},
   "outputs": [
    {
     "name": "stdout",
     "output_type": "stream",
     "text": [
      "10 1\n",
      "30 1\n",
      "3 1\n",
      "4 2\n",
      "20 1\n"
     ]
    }
   ],
   "source": [
    "arr=[10,30,3,4,4,20]\n",
    "d={}\n",
    "for i in arr:\n",
    "    if i in d:\n",
    "        d[i]+=1\n",
    "    else:\n",
    "        d[i]=1\n",
    "for num,count in d.items():\n",
    "    print(num,count)\n",
    "        "
   ]
  },
  {
   "cell_type": "code",
   "execution_count": null,
   "metadata": {},
   "outputs": [
    {
     "name": "stdout",
     "output_type": "stream",
     "text": [
      "\n",
      "\n",
      "\n"
     ]
    }
   ],
   "source": [
    "def gcd_of_strings(str1, str2):\n",
    "    # If the lengths of str1 and str2 are different, return an empty string\n",
    "    if len(str1) != len(str2):\n",
    "        return \"\"\n",
    "\n",
    "    # Check if str1 is a substring of str2 + str2\n",
    "    if str1 in str2 + str2:\n",
    "        # If it is, return str1\n",
    "        return str1\n",
    "\n",
    "    # Check if str2 is a substring of str1 + str1\n",
    "    if str2 in str1 + str1:\n",
    "        # If it is, return str2\n",
    "        return str2\n",
    "\n",
    "    # If neither of the above conditions is met, return an empty string\n",
    "    return \"\"\n",
    "\n",
    "# Test cases\n",
    "print(gcd_of_strings(\"ABCABC\", \"ABC\"))  # Output: \"ABC\"\n",
    "print(gcd_of_strings(\"ABABAB\", \"ABAB\"))  # Output: \"AB\"\n",
    "print(gcd_of_strings(\"LEET\", \"CODE\"))  # Output: \"\""
   ]
  },
  {
   "cell_type": "code",
   "execution_count": null,
   "metadata": {},
   "outputs": [],
   "source": [
    "def gcdOfStrings(self, str1: str, str2: str) -> str:\n",
    "        if str1 + str2 != str2 + str1:\n",
    "            return ''\n",
    "\n",
    "        a = len(str1)\n",
    "        b = len(str2)\n",
    "\n",
    "        #Finding gcd\n",
    "        while b != 0:\n",
    "            a, b = b, a % b\n",
    "        return str2[:a]"
   ]
  },
  {
   "cell_type": "code",
   "execution_count": null,
   "metadata": {},
   "outputs": [
    {
     "name": "stdout",
     "output_type": "stream",
     "text": [
      "60\n",
      "2\n"
     ]
    }
   ],
   "source": [
    "import math\n",
    "print(math.lcm(20,2,12))\n",
    "print(math.gcd(20,2))"
   ]
  },
  {
   "cell_type": "code",
   "execution_count": null,
   "metadata": {},
   "outputs": [
    {
     "name": "stdout",
     "output_type": "stream",
     "text": [
      "011\n"
     ]
    }
   ],
   "source": [
    "n=6\n",
    "a=(bin(n)[2:])\n",
    "print(str(a[::-1]))\n"
   ]
  },
  {
   "cell_type": "code",
   "execution_count": null,
   "metadata": {},
   "outputs": [
    {
     "name": "stdout",
     "output_type": "stream",
     "text": [
      "101\n"
     ]
    }
   ],
   "source": [
    "def int_to_binary(num):\n",
    "    binary = \"\"\n",
    "    if num == 0:\n",
    "        return \"0\"\n",
    "    else:\n",
    "        while num > 0:\n",
    "            binary = str(num % 2) + binary\n",
    "            num = num // 2\n",
    "    return binary\n",
    "\n",
    "number = int(input(\"Enter:\"))\n",
    "binary_representation = int_to_binary(number)\n",
    "print(binary_representation)"
   ]
  },
  {
   "cell_type": "code",
   "execution_count": null,
   "metadata": {},
   "outputs": [
    {
     "name": "stdout",
     "output_type": "stream",
     "text": [
      "5\n"
     ]
    }
   ],
   "source": [
    "n=int(input(\"Enter:\"))\n",
    "b=int(bin(n)[2:])\n",
    "r=str(b)[::-1]\n",
    "num=int(r)\n",
    "binary=(num)\n",
    "dec=0\n",
    "base=1\n",
    "while num>0:\n",
    "    rem=num%2\n",
    "    dec+=rem*base\n",
    "    num=num//10\n",
    "    base=base*2\n",
    "print(dec)"
   ]
  },
  {
   "cell_type": "code",
   "execution_count": null,
   "metadata": {},
   "outputs": [
    {
     "name": "stdout",
     "output_type": "stream",
     "text": [
      "2\n"
     ]
    }
   ],
   "source": [
    "nums=[1,2,2,2]\n",
    "i = 0\n",
    "for j in nums:\n",
    "    if nums[i]!=j:\n",
    "        i+=1\n",
    "        nums[i] = j\n",
    "print(i+1)"
   ]
  },
  {
   "cell_type": "code",
   "execution_count": null,
   "metadata": {},
   "outputs": [
    {
     "name": "stdout",
     "output_type": "stream",
     "text": [
      "[1, 2]\n"
     ]
    }
   ],
   "source": [
    "nums=[1,1,2]\n",
    "li=[]\n",
    "for i in nums:\n",
    "    if i not in li:\n",
    "        li.append(i)\n",
    "print(li)"
   ]
  },
  {
   "cell_type": "code",
   "execution_count": null,
   "metadata": {},
   "outputs": [
    {
     "name": "stdout",
     "output_type": "stream",
     "text": [
      "2\n"
     ]
    }
   ],
   "source": [
    "nums=[1,2,2]\n",
    "i = 0\n",
    "for j in nums:\n",
    "    if nums[i]!=j:\n",
    "        i+=1\n",
    "        nums[i]=j\n",
    "print(i+1)"
   ]
  },
  {
   "cell_type": "code",
   "execution_count": null,
   "metadata": {},
   "outputs": [
    {
     "name": "stdout",
     "output_type": "stream",
     "text": [
      "[1, 2, 2]\n"
     ]
    }
   ],
   "source": [
    "nums=[1,2,2]\n",
    "for i in nums:\n",
    "    nums[i]=j\n",
    "print(nums)\n"
   ]
  },
  {
   "cell_type": "code",
   "execution_count": null,
   "metadata": {},
   "outputs": [
    {
     "name": "stdout",
     "output_type": "stream",
     "text": [
      "[3]\n"
     ]
    }
   ],
   "source": [
    "nums = [3,2,3]\n",
    "d={}\n",
    "for i in nums:\n",
    "    if i in d:\n",
    "        d[i]+=1\n",
    "    else:\n",
    "        d[i]=1\n",
    "print([max(d,key=d.get)])"
   ]
  },
  {
   "cell_type": "code",
   "execution_count": null,
   "metadata": {},
   "outputs": [
    {
     "name": "stdout",
     "output_type": "stream",
     "text": [
      "5\n"
     ]
    }
   ],
   "source": [
    "nums=[1,1,1,2,2,3]\n",
    "i = 0\n",
    "while i < len(nums):\n",
    "    if nums.count(nums[i]) > 2: \n",
    "        nums.remove(nums[i])  \n",
    "        continue  \n",
    "    i += 1\n",
    "print(len(nums))"
   ]
  },
  {
   "cell_type": "code",
   "execution_count": null,
   "metadata": {},
   "outputs": [
    {
     "name": "stdout",
     "output_type": "stream",
     "text": [
      "5\n"
     ]
    }
   ],
   "source": [
    "def removeDuplicates(nums):\n",
    "    if not nums:\n",
    "        return 0\n",
    "\n",
    "    index = 1  # Position to place the next unique element\n",
    "    count = 1  # Count of the current element\n",
    "    length = len(nums)\n",
    "\n",
    "    for i in range(1, length):\n",
    "        if nums[i] == nums[i - 1]:\n",
    "            count += 1\n",
    "        else:\n",
    "            count = 1\n",
    "\n",
    "        if count <= 2:\n",
    "            nums[index] = nums[i]\n",
    "            index += 1\n",
    "\n",
    "    return index\n",
    "\n",
    "# Test cases\n",
    "nums1 = [1, 1, 1, 2, 2, 3]\n",
    "print(removeDuplicates(nums1))  # Output: 5, nums1 = [1, 1, 2, 2, 3, _, _]\n",
    "\n",
    "\n"
   ]
  },
  {
   "cell_type": "code",
   "execution_count": null,
   "metadata": {},
   "outputs": [
    {
     "name": "stdout",
     "output_type": "stream",
     "text": [
      "[1, 1, 2, 2, 3]\n"
     ]
    }
   ],
   "source": [
    "nums=[1,1,1,2,2,3]\n",
    "for i in range(len(nums)-1):\n",
    "    if nums.count(nums[i])>2:\n",
    "        nums.remove(nums[i])\n",
    "    \n",
    "print(nums)"
   ]
  },
  {
   "cell_type": "code",
   "execution_count": null,
   "metadata": {},
   "outputs": [
    {
     "name": "stdout",
     "output_type": "stream",
     "text": [
      "[5, 6, 7, 1, 2, 3, 4]\n"
     ]
    }
   ],
   "source": [
    "nums = [1,2,3,4,5,6,7]\n",
    "k = 3\n",
    "a=(k%len(nums))\n",
    "print(nums[-a:]+nums[:-a])"
   ]
  },
  {
   "cell_type": "code",
   "execution_count": null,
   "metadata": {},
   "outputs": [
    {
     "name": "stdout",
     "output_type": "stream",
     "text": [
      "2216\n"
     ]
    }
   ],
   "source": [
    "n=\"MCMXCIV\"\n",
    "d={\"I\":1,\"V\":5,\"X\":10,\"L\":50,\"C\":100,\"D\":500,\"M\":1000}\n",
    "a=[d[i] for i in n]\n",
    "print(sum(a))\n",
    "\n"
   ]
  },
  {
   "cell_type": "code",
   "execution_count": null,
   "metadata": {
    "vscode": {
     "languageId": "ruby"
    }
   },
   "outputs": [
    {
     "name": "stdout",
     "output_type": "stream",
     "text": [
      "[[-1, 0, 1], [-1, -1, 2]]\n"
     ]
    }
   ],
   "source": [
    "nums = [-1,0,1,2,-1,-4]\n",
    "li=[]\n",
    "for i in range(len(nums)):\n",
    "    for j in range(i+1,len(nums)):\n",
    "        for k in range(j+1,len(nums)):\n",
    "            if nums[i]+nums[j]+nums[k]==0:\n",
    "                t=(sorted([nums[i],nums[j],nums[k]]))\n",
    "                if t not in li:\n",
    "                    li.append(t)\n",
    "print(li)"
   ]
  },
  {
   "cell_type": "code",
   "execution_count": null,
   "metadata": {},
   "outputs": [
    {
     "name": "stdout",
     "output_type": "stream",
     "text": [
      "[[-1, 0, 1], [-1, -1, 2]]\n"
     ]
    }
   ],
   "source": [
    "nums = [-1, 0, 1, 2, -1, -4]\n",
    "triplets = []\n",
    "\n",
    "# Iterate over unique triplets of indices\n",
    "for i in range(len(nums)):\n",
    "    for j in range(i + 1, len(nums)):\n",
    "        for k in range(j + 1, len(nums)):\n",
    "            if nums[i] + nums[j] + nums[k] == 0:\n",
    "                triplet = sorted([nums[i], nums[j], nums[k]])\n",
    "                if triplet not in triplets:\n",
    "                    triplets.append(triplet)\n",
    "\n",
    "print(triplets)\n"
   ]
  },
  {
   "cell_type": "code",
   "execution_count": null,
   "metadata": {},
   "outputs": [
    {
     "name": "stdout",
     "output_type": "stream",
     "text": [
      "3\n",
      "[1, 2]\n"
     ]
    }
   ],
   "source": [
    "def twoSum(numbers,target):\n",
    "        \n",
    "        left=0\n",
    "        right=len(numbers)-1\n",
    "        print(right)\n",
    "        \n",
    "        while left < right:\n",
    "\n",
    "            cSum = numbers[left] + numbers[right]\n",
    "            if target > cSum:\n",
    "                left += 1\n",
    "            elif target < cSum:\n",
    "                right -= 1\n",
    "            else:\n",
    "                return [left+ 1, right + 1]\n",
    "n=[2,7,11,15]\n",
    "k=9\n",
    "print(twoSum(n,k))"
   ]
  },
  {
   "cell_type": "code",
   "execution_count": null,
   "metadata": {},
   "outputs": [
    {
     "name": "stdout",
     "output_type": "stream",
     "text": [
      "False\n"
     ]
    }
   ],
   "source": [
    "print(9>9)"
   ]
  },
  {
   "cell_type": "code",
   "execution_count": null,
   "metadata": {},
   "outputs": [
    {
     "name": "stdout",
     "output_type": "stream",
     "text": [
      "4\n"
     ]
    }
   ],
   "source": [
    "s = \"   fly me   to   the moon  \"\n",
    "s1=s.split()\n",
    "li=[]\n",
    "for i in s1:\n",
    "    li.append(i)\n",
    "print(len(li[-1]))"
   ]
  },
  {
   "cell_type": "code",
   "execution_count": null,
   "metadata": {},
   "outputs": [
    {
     "name": "stdout",
     "output_type": "stream",
     "text": [
      "True\n"
     ]
    }
   ],
   "source": [
    "s = \"A man, a plan, a canal: Panama\"\n",
    "a=\"\"\n",
    "for i in s:\n",
    "    if i.isalpha():\n",
    "        a+=i\n",
    "a1=a.lower()\n",
    "a2=a1[::-1].lower()\n",
    "print(a1==a2)\n",
    "  "
   ]
  },
  {
   "cell_type": "code",
   "execution_count": null,
   "metadata": {},
   "outputs": [
    {
     "name": "stdout",
     "output_type": "stream",
     "text": [
      "True\n"
     ]
    }
   ],
   "source": [
    "s1 = \"sadbutsad\"\n",
    "s2 = \"sad\"\n",
    "print(s2 in s1)"
   ]
  },
  {
   "cell_type": "code",
   "execution_count": null,
   "metadata": {},
   "outputs": [
    {
     "name": "stdout",
     "output_type": "stream",
     "text": [
      "0\n"
     ]
    }
   ],
   "source": [
    "import math\n",
    "s1=0\n",
    "f=math.factorial(s1)\n",
    "s1=str(f)\n",
    "print(s1.count(\"0\"))"
   ]
  },
  {
   "cell_type": "code",
   "execution_count": null,
   "metadata": {},
   "outputs": [
    {
     "name": "stdout",
     "output_type": "stream",
     "text": [
      "0\n"
     ]
    }
   ],
   "source": [
    "n=3\n",
    "count = 0\n",
    "while n >= 5:\n",
    "    n //= 5\n",
    "    count += n\n",
    "print(count)\n"
   ]
  },
  {
   "cell_type": "code",
   "execution_count": null,
   "metadata": {},
   "outputs": [
    {
     "name": "stdout",
     "output_type": "stream",
     "text": [
      "2\n"
     ]
    }
   ],
   "source": [
    "import math\n",
    "n=8\n",
    "s1=str(math.sqrt((n)))\n",
    "s2=s1.split(\".\")\n",
    "print(s2[0])"
   ]
  },
  {
   "cell_type": "code",
   "execution_count": null,
   "metadata": {},
   "outputs": [
    {
     "name": "stdout",
     "output_type": "stream",
     "text": [
      "[[1, 4], [2, 3], [-1, 6]]\n"
     ]
    }
   ],
   "source": [
    "arr=[1,2,3,4,5,6,-1]\n",
    "t=5\n",
    "li=[]\n",
    "for i in arr:\n",
    "    for j in arr:\n",
    "        if i+j==t:\n",
    "            r=sorted([i,j])\n",
    "            if r not in li:\n",
    "                li.append(r)\n",
    "print(li)"
   ]
  },
  {
   "cell_type": "code",
   "execution_count": null,
   "metadata": {},
   "outputs": [
    {
     "name": "stdout",
     "output_type": "stream",
     "text": [
      "[[-1, 0, 1], [-1, -1, 2]]\n"
     ]
    }
   ],
   "source": [
    "nums = [-1, 0, 1, 2, -1, -4]\n",
    "triplets = []\n",
    "\n",
    "# Iterate over unique triplets of indices\n",
    "for i in range(len(nums)):\n",
    "    for j in range(i + 1, len(nums)):\n",
    "        for k in range(j + 1, len(nums)):\n",
    "            if nums[i] + nums[j] + nums[k] == 0:\n",
    "                triplet = sorted([nums[i], nums[j], nums[k]])\n",
    "                if triplet not in triplets:\n",
    "                    triplets.append(triplet)\n",
    "\n",
    "print(triplets)"
   ]
  },
  {
   "cell_type": "code",
   "execution_count": null,
   "metadata": {},
   "outputs": [
    {
     "name": "stdout",
     "output_type": "stream",
     "text": [
      "[[3, 4], [3, 4, -7, 1, 3, 3], [1, 3, 3], [3, 3, 1]]\n"
     ]
    }
   ],
   "source": [
    "nums = [3, 4, -7, 1, 3, 3, 1, 4]\n",
    "target_sum = 7\n",
    "subarrays = []\n",
    "for i in range(len(nums)):\n",
    "    current_sum = 0\n",
    "    for j in range(i, len(nums)):\n",
    "        current_sum += nums[j]\n",
    "        if current_sum == target_sum:\n",
    "            subarrays.append(nums[i:j+1])\n",
    "print(subarrays)"
   ]
  },
  {
   "cell_type": "code",
   "execution_count": null,
   "metadata": {},
   "outputs": [
    {
     "name": "stdout",
     "output_type": "stream",
     "text": [
      "[3, 4]\n",
      "[3, 4, -7, 1, 3, 3]\n",
      "[1, 3, 3]\n",
      "[3, 3, 1]\n"
     ]
    }
   ],
   "source": [
    "def find_subarrays(nums, target_sum):\n",
    "    result = []\n",
    "    for i in range(len(nums)):\n",
    "        current_sum = 0\n",
    "        for j in range(i, len(nums)):\n",
    "            current_sum += nums[j]\n",
    "            if current_sum == target_sum:\n",
    "                result.append(nums[i:j + 1])\n",
    "    for k in result:\n",
    "        print(k)\n",
    "# Example usage:\n",
    "nums = [3, 4, -7, 1, 3, 3, 1, 4]\n",
    "target = 7\n",
    "(find_subarrays(nums, target))"
   ]
  },
  {
   "cell_type": "code",
   "execution_count": null,
   "metadata": {},
   "outputs": [
    {
     "name": "stdout",
     "output_type": "stream",
     "text": [
      "550\n"
     ]
    }
   ],
   "source": [
    "n=10\n",
    "s1=[n*i for i in range(1,n+1)]\n",
    "print(sum(s1))\n"
   ]
  },
  {
   "cell_type": "code",
   "execution_count": null,
   "metadata": {},
   "outputs": [
    {
     "name": "stdout",
     "output_type": "stream",
     "text": [
      "[7, 7, 7, 6]\n"
     ]
    }
   ],
   "source": [
    "arr = [2, 4, 7, 1, 6, 3]\n",
    "k = 3\n",
    "max_numbers = []\n",
    "for i in range(len(arr) - k + 1):\n",
    "    window = arr[i:i+k]\n",
    "    max_numbers.append(max(window))\n",
    "\n",
    "print(max_numbers)\n"
   ]
  },
  {
   "cell_type": "code",
   "execution_count": null,
   "metadata": {},
   "outputs": [
    {
     "name": "stdout",
     "output_type": "stream",
     "text": [
      "{'Girl 1': {'pens': 1, 'pencils': 1}, 'Girl 2': {'pens': 1, 'pencils': 1}, 'Girl 3': {'pens': 1, 'pencils': 1}, 'Girl 4': {'pens': 1, 'pencils': 1}}\n"
     ]
    }
   ],
   "source": [
    "n=4\n",
    "pens=5\n",
    "pencils=10\n",
    "d={}\n",
    "s={\"pens\":1,\"pencils\":1}\n",
    "for i in range(1,n+1):\n",
    "    if i in d:\n",
    "        d[f\"Girl {i}\"]+=s\n",
    "    else:\n",
    "        d[f\"Girl {i}\"]=s\n",
    "\n",
    "print(d)"
   ]
  },
  {
   "cell_type": "code",
   "execution_count": null,
   "metadata": {},
   "outputs": [
    {
     "name": "stdout",
     "output_type": "stream",
     "text": [
      "[1, 2, 3, 4, 5]\n",
      "[1, 2, 3, 4, 5]\n",
      "[1, 2, 3, 4, 5]\n",
      "[1, 2, 3, 4, 5]\n",
      "[1, 2, 3, 4, 5]\n",
      "[1, 2, 3, 4, 5]\n",
      "[1, 2, 3, 4, 5]\n",
      "[1, 2, 3, 4, 5]\n",
      "[1, 2, 3, 4, 5]\n",
      "[1, 2, 3, 4, 5]\n"
     ]
    }
   ],
   "source": [
    "li=[1,2,3,4,5]\n",
    "c=10\n",
    "for i in range(1,c+1):\n",
    "    print(li)"
   ]
  },
  {
   "cell_type": "code",
   "execution_count": null,
   "metadata": {},
   "outputs": [
    {
     "name": "stdout",
     "output_type": "stream",
     "text": [
      "120\n"
     ]
    }
   ],
   "source": [
    "n=5\n",
    "c=1\n",
    "li=[]\n",
    "for i in range(1,n+1):\n",
    "    c*=i\n",
    "    li.append(c)\n",
    "print(li[-1])\n",
    "    "
   ]
  },
  {
   "cell_type": "code",
   "execution_count": null,
   "metadata": {},
   "outputs": [
    {
     "name": "stdout",
     "output_type": "stream",
     "text": [
      "120\n"
     ]
    }
   ],
   "source": [
    "from math import factorial as ft\n",
    "print(ft(5))"
   ]
  },
  {
   "cell_type": "code",
   "execution_count": null,
   "metadata": {},
   "outputs": [
    {
     "name": "stdout",
     "output_type": "stream",
     "text": [
      "[0, 1, 1, 2, 3, 5, 8, 13, 21, 34, 55, 89]\n"
     ]
    }
   ],
   "source": [
    "f=12\n",
    "li=[0,1]\n",
    "for i in range(f):\n",
    "    li.append(li[-1]+li[-2])\n",
    "print([i for i in li[:f]])"
   ]
  },
  {
   "cell_type": "code",
   "execution_count": null,
   "metadata": {},
   "outputs": [
    {
     "name": "stdout",
     "output_type": "stream",
     "text": [
      "[0, 1, 1, 2, 3, 5, 8, 13, 21, 34, 55, 89]\n"
     ]
    }
   ],
   "source": [
    "f=12\n",
    "a=0\n",
    "b=1\n",
    "c=0\n",
    "li=[]\n",
    "for i in range(f):\n",
    "    li.append(c)\n",
    "    a=b\n",
    "    b=c\n",
    "    c=a+b\n",
    "print(li)"
   ]
  },
  {
   "cell_type": "code",
   "execution_count": null,
   "metadata": {},
   "outputs": [
    {
     "name": "stdout",
     "output_type": "stream",
     "text": [
      "[1, 2, 3, 4, 1, 2, 3, 4, 1, 2]\n"
     ]
    }
   ],
   "source": [
    "n=10\n",
    "li=[1,2,3,4]\n",
    "arr=[]\n",
    "for j in range(n):\n",
    "    for i in li:\n",
    "        arr.append(i)\n",
    "print(arr[:n])    "
   ]
  },
  {
   "cell_type": "code",
   "execution_count": null,
   "metadata": {},
   "outputs": [
    {
     "name": "stdout",
     "output_type": "stream",
     "text": [
      "[[1, 4], [2, 3]]\n"
     ]
    }
   ],
   "source": [
    "n=5\n",
    "li=[1,2,3,4,5]\n",
    "arr=[]\n",
    "q=[]\n",
    "for i in li:\n",
    "    for j in li:\n",
    "        if i+j==n:\n",
    "            a=sorted(list((i,j)))\n",
    "            if a not in q:\n",
    "                q.append(a)\n",
    "            \n",
    "print(q)           \n",
    "            \n",
    "    "
   ]
  },
  {
   "cell_type": "code",
   "execution_count": null,
   "metadata": {},
   "outputs": [
    {
     "name": "stdout",
     "output_type": "stream",
     "text": [
      "1\n"
     ]
    }
   ],
   "source": [
    "n=10\n",
    "b=bin(n)[2:]\n",
    "s1=b.count(\"1\")\n",
    "s2=b.count(\"0\")\n",
    "if s1==s2:\n",
    "    print(\"1\")\n",
    "else:\n",
    "    print(\"0\")"
   ]
  },
  {
   "cell_type": "code",
   "execution_count": null,
   "metadata": {},
   "outputs": [
    {
     "name": "stdout",
     "output_type": "stream",
     "text": [
      "True\n",
      "True\n",
      "True\n",
      "True\n",
      "True\n",
      "True\n",
      "False\n",
      "False\n"
     ]
    }
   ],
   "source": [
    "s=\"How many apples are in a one-packing, 12?\"\n",
    "li=[]\n",
    "s1=s.split()\n",
    "for i in s1:\n",
    "    print(i.isalnum())"
   ]
  },
  {
   "cell_type": "code",
   "execution_count": null,
   "metadata": {},
   "outputs": [
    {
     "name": "stdout",
     "output_type": "stream",
     "text": [
      "7\n"
     ]
    }
   ],
   "source": [
    "def WordCount(Str):\n",
    "    words = Str.split()  # Split the string into words\n",
    "    count = 0\n",
    "    for word in words:\n",
    "        if all(c.isalpha() or c == '-' for c in word[:-1]):  # Check if all characters in the word are alphabets or hyphens\n",
    "            count += 1\n",
    "    return count\n",
    "\n",
    "# Test the function with the provided sample test case\n",
    "str = \"How many apples are in a one-packing, 12?\"\n",
    "print(WordCount(str))  # Output should be 7\n"
   ]
  },
  {
   "cell_type": "code",
   "execution_count": null,
   "metadata": {},
   "outputs": [
    {
     "name": "stdout",
     "output_type": "stream",
     "text": [
      "How\n",
      "many\n",
      "apples\n",
      "are\n",
      "in\n",
      "a\n",
      "one-packing,\n",
      "12\n",
      "%\n"
     ]
    }
   ],
   "source": [
    "\n",
    "s=\"How many apples are in a one-packing, 12?\"\n",
    "li=[]\n",
    "n=s.split()\n",
    "for i in n:\n",
    "    if i.isalnum() or for i in "
   ]
  },
  {
   "cell_type": "code",
   "execution_count": null,
   "metadata": {},
   "outputs": [
    {
     "name": "stdout",
     "output_type": "stream",
     "text": [
      "798 x 1 = 798\n",
      "798 x 2 = 1596\n",
      "798 x 3 = 2394\n",
      "798 x 4 = 3192\n",
      "798 x 5 = 3990\n",
      "798 x 6 = 4788\n",
      "798 x 7 = 5586\n",
      "798 x 8 = 6384\n",
      "798 x 9 = 7182\n",
      "798 x 10 = 7980\n"
     ]
    }
   ],
   "source": [
    "n=int(input(\"Enter: \"))\n",
    "for i in range(1,10+1):\n",
    "    print(f\"{n} x {i} =\",n*i)\n",
    "    "
   ]
  },
  {
   "cell_type": "code",
   "execution_count": null,
   "metadata": {},
   "outputs": [
    {
     "name": "stdout",
     "output_type": "stream",
     "text": [
      "1\n"
     ]
    }
   ],
   "source": [
    "nums=[2,1,2]\n",
    "arr=[]\n",
    "for i in range(len(nums)):\n",
    "    if sum(nums[i+1:]) == sum(nums[:i]):\n",
    "        print(i)"
   ]
  },
  {
   "cell_type": "code",
   "execution_count": null,
   "metadata": {},
   "outputs": [
    {
     "name": "stdout",
     "output_type": "stream",
     "text": [
      "0 []\n",
      "1 [1]\n",
      "2 [1, 2]\n",
      "3 [1, 2, 3]\n",
      "4 [1, 2, 3, 4]\n"
     ]
    }
   ],
   "source": [
    "nums=[1,2,3,4,5]\n",
    "for i in range(len(nums)):\n",
    "    print(i,nums[:i])"
   ]
  },
  {
   "cell_type": "code",
   "execution_count": null,
   "metadata": {},
   "outputs": [
    {
     "name": "stdout",
     "output_type": "stream",
     "text": [
      "etantracod\n"
     ]
    }
   ],
   "source": [
    "n=\"codetantra\"\n",
    "k=0\n",
    "v=3\n",
    "if k==1:\n",
    "    print(n[-v:]+n[:-v])\n",
    "elif k==0:\n",
    "    print(n[v:]+n[:v])"
   ]
  },
  {
   "cell_type": "code",
   "execution_count": null,
   "metadata": {},
   "outputs": [
    {
     "name": "stdout",
     "output_type": "stream",
     "text": [
      "codetantra\n"
     ]
    }
   ],
   "source": [
    "n=\"codetantra\"\n",
    "print(n[:3]+n[3:])\n"
   ]
  },
  {
   "cell_type": "code",
   "execution_count": null,
   "metadata": {},
   "outputs": [
    {
     "name": "stdout",
     "output_type": "stream",
     "text": [
      "[[20, 1, 6], [8, 13, 20], [1, 7, 20], [13, 16, 20]]\n"
     ]
    }
   ],
   "source": [
    "def convert_to_sublists(array, size):\n",
    "    sublists = []\n",
    "    for i in range(0, len(array), size):\n",
    "        sublists.append(array[i:i+size])\n",
    "    return sublists\n",
    "\n",
    "array = [20, 1, 6, 8, 13, 20, 1, 7, 20, 13, 16, 20]\n",
    "size = 3\n",
    "sublists = convert_to_sublists(array, size)\n",
    "print(sublists)\n"
   ]
  },
  {
   "cell_type": "code",
   "execution_count": null,
   "metadata": {},
   "outputs": [
    {
     "name": "stdout",
     "output_type": "stream",
     "text": [
      "True\n"
     ]
    }
   ],
   "source": [
    "arr=[20, 1, 6, 8, 13, 20, 1, 7, 20, 13, 16]\n",
    "sz=3\n",
    "k=20\n",
    "li=[]\n",
    "for i in range(0,len(arr),sz):\n",
    "    li.append(arr[i:i+sz])\n",
    "for j in li:\n",
    "    if k in j:\n",
    "        print(True)\n",
    "        break\n",
    "    else:\n",
    "        print(False)"
   ]
  },
  {
   "cell_type": "code",
   "execution_count": null,
   "metadata": {},
   "outputs": [
    {
     "name": "stdout",
     "output_type": "stream",
     "text": [
      "No\n"
     ]
    }
   ],
   "source": [
    "def check_20_in_each_dimension(sublists):\n",
    "    for sublist in sublists:\n",
    "        if 20 not in sublist:\n",
    "            return False\n",
    "    return True\n",
    "\n",
    "array = [20, 1, 6, 8, 13, 20, 1, 7, 20, 13, 16]\n",
    "size = 3\n",
    "sublists = convert_to_sublists(array, size)\n",
    "result = check_20_in_each_dimension(sublists)\n",
    "\n",
    "if result:\n",
    "    print(\"Yes\")\n",
    "else:\n",
    "    print(\"No\")\n"
   ]
  },
  {
   "cell_type": "code",
   "execution_count": null,
   "metadata": {},
   "outputs": [
    {
     "name": "stdout",
     "output_type": "stream",
     "text": [
      "54321 5021461\n"
     ]
    }
   ],
   "source": [
    "n=[\"12345\", \"1641205\"]\n",
    "li=[]\n",
    "for i in n:\n",
    "    li.append(i[::-1])\n",
    "print(\" \".join(li))"
   ]
  },
  {
   "cell_type": "code",
   "execution_count": null,
   "metadata": {},
   "outputs": [
    {
     "name": "stdout",
     "output_type": "stream",
     "text": [
      "['10', '12', '13', '14', '15']\n"
     ]
    }
   ],
   "source": [
    "li=[]\n",
    "for i in range(10,15+1):\n",
    "    li.append(str(i))\n",
    "a=[]\n",
    "for j in li:\n",
    "    if j[::-1]!=j:\n",
    "        a.append(j)\n",
    "print(len(a))\n",
    "         "
   ]
  },
  {
   "cell_type": "code",
   "execution_count": null,
   "metadata": {},
   "outputs": [
    {
     "name": "stdout",
     "output_type": "stream",
     "text": [
      "22\n"
     ]
    }
   ],
   "source": [
    "li=[8,2,7,20]\n",
    "a=sum(li[1::2])\n",
    "b=sum(li[::2])\n",
    "print(max(a,b))\n"
   ]
  },
  {
   "cell_type": "code",
   "execution_count": null,
   "metadata": {},
   "outputs": [
    {
     "name": "stdout",
     "output_type": "stream",
     "text": [
      "[1, 0]\n"
     ]
    }
   ],
   "source": [
    "nums=[6,5]\n",
    "li=[]\n",
    "for i in nums:\n",
    "    r=(bin(i)[2:])\n",
    "    if r[::-1]==r:\n",
    "        li.append(0)\n",
    "    else:\n",
    "        li.append(1)\n",
    "print(li)"
   ]
  },
  {
   "cell_type": "code",
   "execution_count": null,
   "metadata": {},
   "outputs": [
    {
     "name": "stdout",
     "output_type": "stream",
     "text": [
      "[0, 1]\n"
     ]
    }
   ],
   "source": [
    "nums=[0,3]\n",
    "li=[]\n",
    "for i in nums:\n",
    "    if i==0 or i==1:\n",
    "        li.append(0)\n",
    "    elif 2%i!=0:\n",
    "        li.append(1)\n",
    "print(li)\n"
   ]
  },
  {
   "cell_type": "code",
   "execution_count": null,
   "metadata": {},
   "outputs": [
    {
     "name": "stdout",
     "output_type": "stream",
     "text": [
      "0 ---- 0\n",
      "1 ---- 1\n",
      "2 ---- 10\n",
      "3 ---- 11\n",
      "4 ---- 100\n",
      "5 ---- 101\n",
      "6 ---- 110\n",
      "7 ---- 111\n",
      "8 ---- 1000\n",
      "9 ---- 1001\n",
      "10 ---- 1010\n"
     ]
    }
   ],
   "source": [
    "for i in range(0,10+1):\n",
    "    print(i,\"----\",bin(i)[2:])"
   ]
  },
  {
   "cell_type": "code",
   "execution_count": null,
   "metadata": {},
   "outputs": [
    {
     "name": "stdout",
     "output_type": "stream",
     "text": [
      "[1, 0]\n"
     ]
    }
   ],
   "source": [
    "def BinaryPalindromeConversion(Input):\n",
    "    def is_palindrome(s):\n",
    "        return s == s[::-1]\n",
    "    \n",
    "    results = []\n",
    "    for num in Input:\n",
    "        binary_str = bin(num)[2:]\n",
    "        if is_palindrome(binary_str):\n",
    "            results.append(0)\n",
    "        else:\n",
    "            # Check for both incrementing and decrementing to find the nearest palindrome\n",
    "            inc_num = num\n",
    "            dec_num = num\n",
    "            inc_count = 0\n",
    "            dec_count = 0\n",
    "            \n",
    "            # Incrementing path\n",
    "            while True:\n",
    "                inc_num += 1\n",
    "                inc_count += 1\n",
    "                if is_palindrome(bin(inc_num)[2:]):\n",
    "                    break\n",
    "            \n",
    "            # Decrementing path\n",
    "            while dec_num > 0:\n",
    "                dec_num -= 1\n",
    "                dec_count += 1\n",
    "                if is_palindrome(bin(dec_num)[2:]):\n",
    "                    break\n",
    "            \n",
    "            # Add the minimum number of operations to results\n",
    "            results.append(min(inc_count, dec_count))\n",
    "    \n",
    "    return results\n",
    "\n",
    "# Example usage:\n",
    "print(BinaryPalindromeConversion([2, 0]))  # Output: [0, 3]\n"
   ]
  },
  {
   "cell_type": "code",
   "execution_count": null,
   "metadata": {},
   "outputs": [
    {
     "name": "stdout",
     "output_type": "stream",
     "text": [
      "[1, 0]\n"
     ]
    }
   ],
   "source": [
    "nums=[2,0]\n",
    "li=[]\n",
    "for i in nums:\n",
    "    if i%2!=0:\n",
    "        li.append(0)\n",
    "    elif i==1 or i==0:\n",
    "        li.append(0)\n",
    "    else:\n",
    "        li.append(1)\n",
    "print(li)"
   ]
  },
  {
   "cell_type": "code",
   "execution_count": null,
   "metadata": {},
   "outputs": [
    {
     "name": "stdout",
     "output_type": "stream",
     "text": [
      "#Roronoa Zoro\n",
      "#Roronoa Zoro\n",
      "#Roronoa Zoro\n",
      "#Roronoa Zoro\n",
      "#Roronoa Zoro\n",
      "#Roronoa Zoro\n",
      "#Roronoa Zoro\n",
      "#Roronoa Zoro\n",
      "#Roronoa Zoro\n",
      "#Roronoa Zoro\n"
     ]
    }
   ],
   "source": [
    "li=[1,2,3,4,5,6,7,8,9,10]\n",
    "for i in li:\n",
    "    print(\"#Roronoa Zoro\")"
   ]
  },
  {
   "cell_type": "code",
   "execution_count": null,
   "metadata": {},
   "outputs": [
    {
     "name": "stdout",
     "output_type": "stream",
     "text": [
      "['a', 'c', 'r']\n"
     ]
    }
   ],
   "source": [
    "s=\"car\"\n",
    "a=\"rac\"\n",
    "print(sorted(a))"
   ]
  },
  {
   "cell_type": "code",
   "execution_count": null,
   "metadata": {},
   "outputs": [
    {
     "name": "stdout",
     "output_type": "stream",
     "text": [
      "{'aet': ['eat', 'tea', 'ate'], 'ant': ['tan', 'nat'], 'abt': ['bat']}\n"
     ]
    }
   ],
   "source": [
    "def group_anagrams(strs):\n",
    "    \n",
    "    anagram_dict = {}\n",
    "\n",
    "    for word in strs:\n",
    "        \n",
    "        key = ''.join(sorted(word))\n",
    "        \n",
    "        \n",
    "        if key not in anagram_dict:\n",
    "            anagram_dict[key] = []\n",
    "        anagram_dict[key].append(word)\n",
    "    \n",
    "    \n",
    "    return (anagram_dict)\n",
    "\n",
    "\n",
    "strs = [\"eat\", \"tea\", \"tan\", \"ate\", \"nat\", \"bat\"]\n",
    "output = group_anagrams(strs)\n",
    "print(output)"
   ]
  },
  {
   "cell_type": "code",
   "execution_count": null,
   "metadata": {},
   "outputs": [
    {
     "name": "stdout",
     "output_type": "stream",
     "text": [
      "('f', 'f', 'f')\n",
      "('l', 'l', 'l')\n",
      "('o', 'o', 'i')\n",
      "('w', 'w', 'g')\n"
     ]
    }
   ],
   "source": [
    "strs = [\"flower\",\"flow\",\"flight\"]\n",
    "for i in zip(*strs):\n",
    "    print(i)"
   ]
  },
  {
   "cell_type": "code",
   "execution_count": null,
   "metadata": {},
   "outputs": [
    {
     "name": "stdout",
     "output_type": "stream",
     "text": [
      "fl\n"
     ]
    }
   ],
   "source": [
    "def longestCommonPrefix(strs):\n",
    "        strs.sort()\n",
    "        pre = []\n",
    "        \n",
    "        for a,b in zip(strs[0], strs[-1]):\n",
    "            if a == b:\n",
    "                pre.append(a)\n",
    "            else:\n",
    "                break\n",
    "        \n",
    "        return \"\".join(pre)\n",
    "strs = [\"flower\",\"flow\",\"flight\"]\n",
    "print(longestCommonPrefix(strs))"
   ]
  },
  {
   "cell_type": "code",
   "execution_count": null,
   "metadata": {},
   "outputs": [
    {
     "name": "stdout",
     "output_type": "stream",
     "text": [
      "fl\n"
     ]
    }
   ],
   "source": [
    "strs = [\"flower\",\"flow\",\"flight\"]\n",
    "li=[]\n",
    "for a,b,c in zip(*strs):\n",
    "    if a==b==c:\n",
    "        li.append(a)\n",
    "print(\"\".join(li))"
   ]
  },
  {
   "cell_type": "code",
   "execution_count": null,
   "metadata": {},
   "outputs": [
    {
     "name": "stdout",
     "output_type": "stream",
     "text": [
      "23\n"
     ]
    }
   ],
   "source": [
    "s = \"(1+(4+5+2)-3)+(6+8)\"\n",
    "print(eval(s))"
   ]
  },
  {
   "cell_type": "code",
   "execution_count": null,
   "metadata": {},
   "outputs": [
    {
     "name": "stdout",
     "output_type": "stream",
     "text": [
      "20\n"
     ]
    }
   ],
   "source": [
    "import pandas as pd\n",
    "print(pd.options.display.max_columns)"
   ]
  },
  {
   "cell_type": "code",
   "execution_count": null,
   "metadata": {},
   "outputs": [],
   "source": [
    "pd.options.display.max_rows=1000"
   ]
  },
  {
   "cell_type": "code",
   "execution_count": null,
   "metadata": {},
   "outputs": [
    {
     "name": "stdout",
     "output_type": "stream",
     "text": [
      "1000\n"
     ]
    }
   ],
   "source": [
    "print(pd.options.display.max_rows)"
   ]
  },
  {
   "cell_type": "code",
   "execution_count": null,
   "metadata": {},
   "outputs": [],
   "source": [
    "import pandas as pd\n",
    "import numpy as np\n",
    "\n",
    "# Create a sample DataFrame\n",
    "df = pd.DataFrame({\n",
    "    \"name\": ['Alfred', 'Batman', 'Catwoman'],\n",
    "    \"toy\": [np.nan, 'Batmobile', 'Bullwhip'],\n",
    "    \"born\": [pd.NaT, pd.Timestamp(\"1940-04-25\"), pd.NaT]\n",
    "})\n"
   ]
  },
  {
   "cell_type": "code",
   "execution_count": null,
   "metadata": {},
   "outputs": [
    {
     "data": {
      "text/html": [
       "<div>\n",
       "<style scoped>\n",
       "    .dataframe tbody tr th:only-of-type {\n",
       "        vertical-align: middle;\n",
       "    }\n",
       "\n",
       "    .dataframe tbody tr th {\n",
       "        vertical-align: top;\n",
       "    }\n",
       "\n",
       "    .dataframe thead th {\n",
       "        text-align: right;\n",
       "    }\n",
       "</style>\n",
       "<table border=\"1\" class=\"dataframe\">\n",
       "  <thead>\n",
       "    <tr style=\"text-align: right;\">\n",
       "      <th></th>\n",
       "      <th>name</th>\n",
       "      <th>toy</th>\n",
       "      <th>born</th>\n",
       "    </tr>\n",
       "  </thead>\n",
       "  <tbody>\n",
       "    <tr>\n",
       "      <th>0</th>\n",
       "      <td>Alfred</td>\n",
       "      <td>NaN</td>\n",
       "      <td>NaT</td>\n",
       "    </tr>\n",
       "    <tr>\n",
       "      <th>1</th>\n",
       "      <td>Batman</td>\n",
       "      <td>Batmobile</td>\n",
       "      <td>1940-04-25</td>\n",
       "    </tr>\n",
       "    <tr>\n",
       "      <th>2</th>\n",
       "      <td>Catwoman</td>\n",
       "      <td>Bullwhip</td>\n",
       "      <td>NaT</td>\n",
       "    </tr>\n",
       "  </tbody>\n",
       "</table>\n",
       "</div>"
      ],
      "text/plain": [
       "       name        toy       born\n",
       "0    Alfred        NaN        NaT\n",
       "1    Batman  Batmobile 1940-04-25\n",
       "2  Catwoman   Bullwhip        NaT"
      ]
     },
     "execution_count": 7,
     "metadata": {},
     "output_type": "execute_result"
    }
   ],
   "source": [
    "df"
   ]
  },
  {
   "cell_type": "code",
   "execution_count": null,
   "metadata": {},
   "outputs": [
    {
     "name": "stdout",
     "output_type": "stream",
     "text": [
      "     name        toy       born\n",
      "1  Batman  Batmobile 1940-04-25\n"
     ]
    }
   ],
   "source": [
    "# Drop rows with missing values\n",
    "cleaned_df = df.dropna()\n",
    "print(cleaned_df)"
   ]
  },
  {
   "cell_type": "code",
   "execution_count": null,
   "metadata": {},
   "outputs": [
    {
     "data": {
      "text/html": [
       "<div>\n",
       "<style scoped>\n",
       "    .dataframe tbody tr th:only-of-type {\n",
       "        vertical-align: middle;\n",
       "    }\n",
       "\n",
       "    .dataframe tbody tr th {\n",
       "        vertical-align: top;\n",
       "    }\n",
       "\n",
       "    .dataframe thead th {\n",
       "        text-align: right;\n",
       "    }\n",
       "</style>\n",
       "<table border=\"1\" class=\"dataframe\">\n",
       "  <thead>\n",
       "    <tr style=\"text-align: right;\">\n",
       "      <th></th>\n",
       "      <th>name</th>\n",
       "      <th>toy</th>\n",
       "      <th>born</th>\n",
       "    </tr>\n",
       "  </thead>\n",
       "  <tbody>\n",
       "    <tr>\n",
       "      <th>1</th>\n",
       "      <td>Batman</td>\n",
       "      <td>Batmobile</td>\n",
       "      <td>1940-04-25</td>\n",
       "    </tr>\n",
       "  </tbody>\n",
       "</table>\n",
       "</div>"
      ],
      "text/plain": [
       "     name        toy       born\n",
       "1  Batman  Batmobile 1940-04-25"
      ]
     },
     "execution_count": 10,
     "metadata": {},
     "output_type": "execute_result"
    }
   ],
   "source": [
    "df.dropna(inplace = True)\n",
    "df"
   ]
  },
  {
   "cell_type": "code",
   "execution_count": null,
   "metadata": {},
   "outputs": [
    {
     "data": {
      "text/html": [
       "<div>\n",
       "<style scoped>\n",
       "    .dataframe tbody tr th:only-of-type {\n",
       "        vertical-align: middle;\n",
       "    }\n",
       "\n",
       "    .dataframe tbody tr th {\n",
       "        vertical-align: top;\n",
       "    }\n",
       "\n",
       "    .dataframe thead th {\n",
       "        text-align: right;\n",
       "    }\n",
       "</style>\n",
       "<table border=\"1\" class=\"dataframe\">\n",
       "  <thead>\n",
       "    <tr style=\"text-align: right;\">\n",
       "      <th></th>\n",
       "      <th>name</th>\n",
       "      <th>toy</th>\n",
       "      <th>born</th>\n",
       "    </tr>\n",
       "  </thead>\n",
       "  <tbody>\n",
       "    <tr>\n",
       "      <th>1</th>\n",
       "      <td>Batman</td>\n",
       "      <td>Batmobile</td>\n",
       "      <td>1940-04-25</td>\n",
       "    </tr>\n",
       "  </tbody>\n",
       "</table>\n",
       "</div>"
      ],
      "text/plain": [
       "     name        toy       born\n",
       "1  Batman  Batmobile 1940-04-25"
      ]
     },
     "execution_count": 11,
     "metadata": {},
     "output_type": "execute_result"
    }
   ],
   "source": [
    "df.fillna(0)\n",
    "df"
   ]
  },
  {
   "cell_type": "code",
   "execution_count": null,
   "metadata": {},
   "outputs": [],
   "source": [
    "import pandas as pd\n",
    "import numpy as np\n",
    "\n",
    "# Create a sample DataFrame\n",
    "df = pd.DataFrame({\n",
    "    \"name\": ['Alfred', 'Batman', 'Catwoman'],\n",
    "    \"toy\": [np.nan, 'Batmobile', 'Bullwhip'],\n",
    "    \"born\": [pd.NaT, pd.Timestamp(\"1940-04-25\"), pd.NaT]\n",
    "})"
   ]
  },
  {
   "cell_type": "code",
   "execution_count": null,
   "metadata": {},
   "outputs": [
    {
     "data": {
      "text/html": [
       "<div>\n",
       "<style scoped>\n",
       "    .dataframe tbody tr th:only-of-type {\n",
       "        vertical-align: middle;\n",
       "    }\n",
       "\n",
       "    .dataframe tbody tr th {\n",
       "        vertical-align: top;\n",
       "    }\n",
       "\n",
       "    .dataframe thead th {\n",
       "        text-align: right;\n",
       "    }\n",
       "</style>\n",
       "<table border=\"1\" class=\"dataframe\">\n",
       "  <thead>\n",
       "    <tr style=\"text-align: right;\">\n",
       "      <th></th>\n",
       "      <th>name</th>\n",
       "      <th>toy</th>\n",
       "      <th>born</th>\n",
       "    </tr>\n",
       "  </thead>\n",
       "  <tbody>\n",
       "    <tr>\n",
       "      <th>0</th>\n",
       "      <td>Alfred</td>\n",
       "      <td>0</td>\n",
       "      <td>0</td>\n",
       "    </tr>\n",
       "    <tr>\n",
       "      <th>1</th>\n",
       "      <td>Batman</td>\n",
       "      <td>Batmobile</td>\n",
       "      <td>1940-04-25 00:00:00</td>\n",
       "    </tr>\n",
       "    <tr>\n",
       "      <th>2</th>\n",
       "      <td>Catwoman</td>\n",
       "      <td>Bullwhip</td>\n",
       "      <td>0</td>\n",
       "    </tr>\n",
       "  </tbody>\n",
       "</table>\n",
       "</div>"
      ],
      "text/plain": [
       "       name        toy                 born\n",
       "0    Alfred          0                    0\n",
       "1    Batman  Batmobile  1940-04-25 00:00:00\n",
       "2  Catwoman   Bullwhip                    0"
      ]
     },
     "execution_count": 18,
     "metadata": {},
     "output_type": "execute_result"
    }
   ],
   "source": [
    "df.fillna(0,inplace=True)\n",
    "df"
   ]
  },
  {
   "cell_type": "code",
   "execution_count": null,
   "metadata": {},
   "outputs": [
    {
     "data": {
      "text/html": [
       "<div>\n",
       "<style scoped>\n",
       "    .dataframe tbody tr th:only-of-type {\n",
       "        vertical-align: middle;\n",
       "    }\n",
       "\n",
       "    .dataframe tbody tr th {\n",
       "        vertical-align: top;\n",
       "    }\n",
       "\n",
       "    .dataframe thead th {\n",
       "        text-align: right;\n",
       "    }\n",
       "</style>\n",
       "<table border=\"1\" class=\"dataframe\">\n",
       "  <thead>\n",
       "    <tr style=\"text-align: right;\">\n",
       "      <th></th>\n",
       "      <th>name</th>\n",
       "      <th>toy</th>\n",
       "      <th>born</th>\n",
       "    </tr>\n",
       "  </thead>\n",
       "  <tbody>\n",
       "    <tr>\n",
       "      <th>0</th>\n",
       "      <td>Alfred</td>\n",
       "      <td>0</td>\n",
       "      <td>0</td>\n",
       "    </tr>\n",
       "    <tr>\n",
       "      <th>1</th>\n",
       "      <td>Batman</td>\n",
       "      <td>Batmobile</td>\n",
       "      <td>1940-04-25 00:00:00</td>\n",
       "    </tr>\n",
       "    <tr>\n",
       "      <th>2</th>\n",
       "      <td>Catwoman</td>\n",
       "      <td>Bullwhip</td>\n",
       "      <td>0</td>\n",
       "    </tr>\n",
       "  </tbody>\n",
       "</table>\n",
       "</div>"
      ],
      "text/plain": [
       "       name        toy                 born\n",
       "0    Alfred          0                    0\n",
       "1    Batman  Batmobile  1940-04-25 00:00:00\n",
       "2  Catwoman   Bullwhip                    0"
      ]
     },
     "execution_count": 22,
     "metadata": {},
     "output_type": "execute_result"
    }
   ],
   "source": [
    "df[\"toy\"].fillna(1,inplace=False)\n",
    "df"
   ]
  },
  {
   "cell_type": "code",
   "execution_count": null,
   "metadata": {},
   "outputs": [],
   "source": [
    "import pandas as pd\n",
    "import numpy as np\n",
    "\n",
    "# Create a sample DataFrame\n",
    "df = pd.DataFrame({\n",
    "    \"name\": ['Alfred', 'Batman', 'Catwoman'],\n",
    "    \"toy\": [np.nan, 'Batmobile', 'Bullwhip'],\n",
    "    \"born\": [pd.NaT, pd.Timestamp(\"1940-04-25\"), pd.NaT]\n",
    "})"
   ]
  },
  {
   "cell_type": "code",
   "execution_count": null,
   "metadata": {},
   "outputs": [
    {
     "data": {
      "text/html": [
       "<div>\n",
       "<style scoped>\n",
       "    .dataframe tbody tr th:only-of-type {\n",
       "        vertical-align: middle;\n",
       "    }\n",
       "\n",
       "    .dataframe tbody tr th {\n",
       "        vertical-align: top;\n",
       "    }\n",
       "\n",
       "    .dataframe thead th {\n",
       "        text-align: right;\n",
       "    }\n",
       "</style>\n",
       "<table border=\"1\" class=\"dataframe\">\n",
       "  <thead>\n",
       "    <tr style=\"text-align: right;\">\n",
       "      <th></th>\n",
       "      <th>name</th>\n",
       "      <th>toy</th>\n",
       "      <th>born</th>\n",
       "    </tr>\n",
       "  </thead>\n",
       "  <tbody>\n",
       "    <tr>\n",
       "      <th>0</th>\n",
       "      <td>Alfred</td>\n",
       "      <td>NaN</td>\n",
       "      <td>NaT</td>\n",
       "    </tr>\n",
       "    <tr>\n",
       "      <th>1</th>\n",
       "      <td>Batman</td>\n",
       "      <td>Batmobile</td>\n",
       "      <td>1940-04-25</td>\n",
       "    </tr>\n",
       "    <tr>\n",
       "      <th>2</th>\n",
       "      <td>Catwoman</td>\n",
       "      <td>Bullwhip</td>\n",
       "      <td>NaT</td>\n",
       "    </tr>\n",
       "  </tbody>\n",
       "</table>\n",
       "</div>"
      ],
      "text/plain": [
       "       name        toy       born\n",
       "0    Alfred        NaN        NaT\n",
       "1    Batman  Batmobile 1940-04-25\n",
       "2  Catwoman   Bullwhip        NaT"
      ]
     },
     "execution_count": 4,
     "metadata": {},
     "output_type": "execute_result"
    }
   ],
   "source": [
    "df"
   ]
  },
  {
   "cell_type": "code",
   "execution_count": null,
   "metadata": {},
   "outputs": [
    {
     "data": {
      "text/html": [
       "<div>\n",
       "<style scoped>\n",
       "    .dataframe tbody tr th:only-of-type {\n",
       "        vertical-align: middle;\n",
       "    }\n",
       "\n",
       "    .dataframe tbody tr th {\n",
       "        vertical-align: top;\n",
       "    }\n",
       "\n",
       "    .dataframe thead th {\n",
       "        text-align: right;\n",
       "    }\n",
       "</style>\n",
       "<table border=\"1\" class=\"dataframe\">\n",
       "  <thead>\n",
       "    <tr style=\"text-align: right;\">\n",
       "      <th></th>\n",
       "      <th>name</th>\n",
       "      <th>toy</th>\n",
       "      <th>born</th>\n",
       "    </tr>\n",
       "  </thead>\n",
       "  <tbody>\n",
       "    <tr>\n",
       "      <th>0</th>\n",
       "      <td>Alfred</td>\n",
       "      <td>1</td>\n",
       "      <td>1</td>\n",
       "    </tr>\n",
       "    <tr>\n",
       "      <th>1</th>\n",
       "      <td>Batman</td>\n",
       "      <td>Batmobile</td>\n",
       "      <td>1940-04-25 00:00:00</td>\n",
       "    </tr>\n",
       "    <tr>\n",
       "      <th>2</th>\n",
       "      <td>Catwoman</td>\n",
       "      <td>Bullwhip</td>\n",
       "      <td>1</td>\n",
       "    </tr>\n",
       "  </tbody>\n",
       "</table>\n",
       "</div>"
      ],
      "text/plain": [
       "       name        toy                 born\n",
       "0    Alfred          1                    1\n",
       "1    Batman  Batmobile  1940-04-25 00:00:00\n",
       "2  Catwoman   Bullwhip                    1"
      ]
     },
     "execution_count": 29,
     "metadata": {},
     "output_type": "execute_result"
    }
   ],
   "source": [
    "df[\"born\"].astype(str).fillna(1,inplace=True)\n",
    "df"
   ]
  },
  {
   "cell_type": "code",
   "execution_count": null,
   "metadata": {},
   "outputs": [
    {
     "data": {
      "text/plain": [
       "3"
      ]
     },
     "execution_count": 11,
     "metadata": {},
     "output_type": "execute_result"
    }
   ],
   "source": [
    "df.shape[0]\n",
    "df.shape[1]"
   ]
  },
  {
   "cell_type": "code",
   "execution_count": null,
   "metadata": {},
   "outputs": [
    {
     "data": {
      "text/plain": [
       "[]"
      ]
     },
     "execution_count": 17,
     "metadata": {},
     "output_type": "execute_result"
    }
   ],
   "source": [
    "index = df[df['born'] == 1].index.tolist()\n",
    "index"
   ]
  },
  {
   "cell_type": "code",
   "execution_count": null,
   "metadata": {},
   "outputs": [],
   "source": []
  },
  {
   "cell_type": "code",
   "execution_count": null,
   "metadata": {},
   "outputs": [
    {
     "name": "stdout",
     "output_type": "stream",
     "text": [
      "B2\n"
     ]
    }
   ],
   "source": [
    "s=\"RGR0BB\"\n",
    "li=[]\n",
    "k=[]\n",
    "for i in s:\n",
    "    if i not in li:\n",
    "        li.append(i)\n",
    "for j in li:\n",
    "    if s.count(j)>1:\n",
    "        k.append([j,s.count(j)])\n",
    "print(\"\".join(map(str,k[-1])))"
   ]
  },
  {
   "cell_type": "code",
   "execution_count": null,
   "metadata": {},
   "outputs": [
    {
     "name": "stdout",
     "output_type": "stream",
     "text": [
      "S3M2N1B4G2D1R1E1\n"
     ]
    }
   ],
   "source": [
    "s=\"SSSMMNBGBBBGDRE\"\n",
    "l=len(s)\n",
    "li=[]\n",
    "c=[]\n",
    "for i in s:\n",
    "    if i not in li:\n",
    "        li.append(i)\n",
    "for j in li:\n",
    "    c.append([j,s.count(j)])\n",
    "r=\"\"\n",
    "for h in c:\n",
    "    r+=(f\"{h[0]}{h[1]}\")\n",
    "print(r)\n"
   ]
  },
  {
   "cell_type": "code",
   "execution_count": null,
   "metadata": {},
   "outputs": [
    {
     "name": "stdout",
     "output_type": "stream",
     "text": [
      "S3M2N1B4G2D1R1E1\n"
     ]
    }
   ],
   "source": [
    "s = \"SSSMMNBGBBBGDRE\"\n",
    "li = []\n",
    "c = []\n",
    "\n",
    "# Collect unique colors\n",
    "for i in s:\n",
    "    if i not in li:\n",
    "        li.append(i)\n",
    "\n",
    "# Count occurrences of each color\n",
    "for j in li:\n",
    "    c.append([j, s.count(j)])\n",
    "\n",
    "# Convert the list of lists into a formatted string\n",
    "result = ''.join([f\"{item[0]}{item[1]}\" for item in c])\n",
    "print(result)\n"
   ]
  },
  {
   "cell_type": "code",
   "execution_count": null,
   "metadata": {},
   "outputs": [
    {
     "name": "stdout",
     "output_type": "stream",
     "text": [
      "False\n"
     ]
    }
   ],
   "source": [
    "n1=2\n",
    "print(not(n1 <6 or n1>1))"
   ]
  },
  {
   "cell_type": "code",
   "execution_count": null,
   "metadata": {},
   "outputs": [
    {
     "name": "stdout",
     "output_type": "stream",
     "text": [
      "(1, 4, 2, 3)\n"
     ]
    }
   ],
   "source": [
    "li=[1,4,2,3]\n",
    "print(tuple(li))"
   ]
  },
  {
   "cell_type": "code",
   "execution_count": null,
   "metadata": {},
   "outputs": [
    {
     "name": "stdout",
     "output_type": "stream",
     "text": [
      "-321\n"
     ]
    }
   ],
   "source": [
    "n=-123\n",
    "a=\"\"\n",
    "s=\"\"\n",
    "s1=str(n)\n",
    "for i in s1:\n",
    "    if i.isdigit():\n",
    "        a+=i\n",
    "    else:\n",
    "        s+=i\n",
    "print(s+a[::-1])              "
   ]
  },
  {
   "cell_type": "code",
   "execution_count": null,
   "metadata": {},
   "outputs": [
    {
     "name": "stdout",
     "output_type": "stream",
     "text": [
      "3\n"
     ]
    }
   ],
   "source": [
    "n=[1,3,5,6]\n",
    "t=6\n",
    "if t not in n:\n",
    "    n.append(t)\n",
    "    print(sorted(n).index(t))\n",
    "else:\n",
    "    print(n.index(t))"
   ]
  },
  {
   "cell_type": "code",
   "execution_count": null,
   "metadata": {},
   "outputs": [
    {
     "name": "stdout",
     "output_type": "stream",
     "text": [
      "[0, 2]\n"
     ]
    }
   ],
   "source": [
    "import pandas as pd\n",
    "\n",
    "# Sample DataFrame\n",
    "data = {\n",
    "    'name': ['Alfred', 'Batman', 'Catwoman'],\n",
    "    'toy': [1, 'Batmobile', 'Bullwhip'],\n",
    "    'born': [1, '1940-04-25 00:00:00', 1]\n",
    "}\n",
    "\n",
    "# Create DataFrame\n",
    "df = pd.DataFrame(data)\n",
    "\n",
    "# Find the indices of the rows where born is 1\n",
    "indices = df[df['born'] == 1].index.tolist()\n",
    "\n",
    "# Display the indices\n",
    "print(indices)\n"
   ]
  },
  {
   "cell_type": "code",
   "execution_count": null,
   "metadata": {},
   "outputs": [
    {
     "name": "stdout",
     "output_type": "stream",
     "text": [
      "      name  age\n",
      "0  Ulysses   13\n"
     ]
    }
   ],
   "source": [
    "import pandas as pd\n",
    "\n",
    "# Sample DataFrame\n",
    "data = {\n",
    "    'student_id': [101, 53, 128, 3],\n",
    "    'name': ['Ulysses', 'William', 'Henry', 'Henry'],\n",
    "    'age': [13, 10, 6, 11]\n",
    "}\n",
    "\n",
    "# Create DataFrame\n",
    "students = pd.DataFrame(data)\n",
    "\n",
    "# Find the index of the row where student_id is 101\n",
    "index = students[students['student_id'] == 101].index[0]\n",
    "\n",
    "# Use iloc to select the name and age columns for the found index\n",
    "result = students.iloc[[index], [1, 2]]\n",
    "\n",
    "# Display the result\n",
    "print(result)\n"
   ]
  },
  {
   "cell_type": "code",
   "execution_count": null,
   "metadata": {},
   "outputs": [],
   "source": [
    "import pandas as pd\n",
    "\n",
    "# Sample DataFrame\n",
    "data = {\n",
    "    'student_id': [101, 53, 128, 3],\n",
    "    'name': ['Ulysses', 'William', 'Henry', 'Henry'],\n",
    "    'age': [13, 10, 6, 11]\n",
    "}"
   ]
  },
  {
   "cell_type": "code",
   "execution_count": null,
   "metadata": {},
   "outputs": [
    {
     "data": {
      "text/html": [
       "<div>\n",
       "<style scoped>\n",
       "    .dataframe tbody tr th:only-of-type {\n",
       "        vertical-align: middle;\n",
       "    }\n",
       "\n",
       "    .dataframe tbody tr th {\n",
       "        vertical-align: top;\n",
       "    }\n",
       "\n",
       "    .dataframe thead th {\n",
       "        text-align: right;\n",
       "    }\n",
       "</style>\n",
       "<table border=\"1\" class=\"dataframe\">\n",
       "  <thead>\n",
       "    <tr style=\"text-align: right;\">\n",
       "      <th></th>\n",
       "      <th>student_id</th>\n",
       "      <th>name</th>\n",
       "      <th>age</th>\n",
       "    </tr>\n",
       "  </thead>\n",
       "  <tbody>\n",
       "    <tr>\n",
       "      <th>0</th>\n",
       "      <td>101</td>\n",
       "      <td>Ulysses</td>\n",
       "      <td>13</td>\n",
       "    </tr>\n",
       "    <tr>\n",
       "      <th>1</th>\n",
       "      <td>53</td>\n",
       "      <td>William</td>\n",
       "      <td>10</td>\n",
       "    </tr>\n",
       "    <tr>\n",
       "      <th>2</th>\n",
       "      <td>128</td>\n",
       "      <td>Henry</td>\n",
       "      <td>6</td>\n",
       "    </tr>\n",
       "    <tr>\n",
       "      <th>3</th>\n",
       "      <td>3</td>\n",
       "      <td>Henry</td>\n",
       "      <td>11</td>\n",
       "    </tr>\n",
       "  </tbody>\n",
       "</table>\n",
       "</div>"
      ],
      "text/plain": [
       "   student_id     name  age\n",
       "0         101  Ulysses   13\n",
       "1          53  William   10\n",
       "2         128    Henry    6\n",
       "3           3    Henry   11"
      ]
     },
     "execution_count": 23,
     "metadata": {},
     "output_type": "execute_result"
    }
   ],
   "source": [
    "d1=pd.DataFrame(data)\n",
    "d1"
   ]
  },
  {
   "cell_type": "code",
   "execution_count": null,
   "metadata": {},
   "outputs": [
    {
     "data": {
      "text/plain": [
       "2"
      ]
     },
     "execution_count": 25,
     "metadata": {},
     "output_type": "execute_result"
    }
   ],
   "source": [
    "ind=d1[d1[\"age\"]==6].index[0]\n",
    "ind"
   ]
  },
  {
   "cell_type": "code",
   "execution_count": null,
   "metadata": {},
   "outputs": [
    {
     "name": "stdout",
     "output_type": "stream",
     "text": [
      "1\n"
     ]
    }
   ],
   "source": [
    "n = [-8,-7,-6]\n",
    "for i in range(max(n)+2):\n",
    "    if i not in n:\n",
    "        print(i)\n",
    "for j in n:\n",
    "    if j<0:\n",
    "        print(\"1\")\n",
    "        break"
   ]
  },
  {
   "cell_type": "code",
   "execution_count": null,
   "metadata": {},
   "outputs": [
    {
     "name": "stdout",
     "output_type": "stream",
     "text": [
      "6\n"
     ]
    }
   ],
   "source": [
    "\"\"\"\n",
    "Input: chars = [\"a\",\"a\",\"b\",\"b\",\"c\",\"c\",\"c\"]\n",
    "Output: Return 6, and the first 6 characters of the input array should be: [\"a\",\"2\",\"b\",\"2\",\"c\",\"3\"]\n",
    "Explanation: The groups are \"aa\", \"bb\", and \"ccc\". This compresses to \"a2b2c3\".\n",
    "\"\"\"\n",
    "chars = [\"a\",\"a\",\"b\",\"b\",\"c\",\"c\",\"c\"]\n",
    "print(len(set(chars))*2)\n",
    "\n",
    "\n",
    "\n",
    "\n",
    "\n",
    "\n",
    "\n"
   ]
  },
  {
   "cell_type": "code",
   "execution_count": null,
   "metadata": {},
   "outputs": [
    {
     "name": "stdout",
     "output_type": "stream",
     "text": [
      "2\n"
     ]
    }
   ],
   "source": [
    "A=[2,1,2]\n",
    "c=\"\"\n",
    "for i in set(A):\n",
    "    if A.count(i)>1:\n",
    "        c+=str(i)\n",
    "print(c)"
   ]
  },
  {
   "cell_type": "code",
   "execution_count": null,
   "metadata": {},
   "outputs": [
    {
     "name": "stdout",
     "output_type": "stream",
     "text": [
      "[[1, 2, 3], [1, 3, 2], [2, 1, 3], [2, 3, 1], [3, 1, 2], [3, 2, 1]]\n"
     ]
    }
   ],
   "source": [
    "# Define the list\n",
    "arr = [1, 2, 3]\n",
    "result = [[]]\n",
    "for num in arr:\n",
    "    new_result = []\n",
    "    for perm in result:\n",
    "        for i in range(len(perm) + 1):\n",
    "            new_perm = perm[:i] + [num] + perm[i:]\n",
    "            new_result.append(new_perm)\n",
    "    \n",
    "    result = new_result\n",
    "print((sorted(result)))\n"
   ]
  },
  {
   "cell_type": "code",
   "execution_count": null,
   "metadata": {},
   "outputs": [
    {
     "name": "stdout",
     "output_type": "stream",
     "text": [
      "[]\n"
     ]
    },
    {
     "ename": "AttributeError",
     "evalue": "'list' object has no attribute 'apppend'",
     "output_type": "error",
     "traceback": [
      "\u001b[1;31m---------------------------------------------------------------------------\u001b[0m",
      "\u001b[1;31mAttributeError\u001b[0m                            Traceback (most recent call last)",
      "Cell \u001b[1;32mIn[31], line 5\u001b[0m\n\u001b[0;32m      3\u001b[0m \u001b[38;5;28;01mfor\u001b[39;00m i \u001b[38;5;129;01min\u001b[39;00m r:\n\u001b[0;32m      4\u001b[0m     \u001b[38;5;28mprint\u001b[39m(i)\n\u001b[1;32m----> 5\u001b[0m     \u001b[43mr\u001b[49m\u001b[38;5;241;43m.\u001b[39;49m\u001b[43mapppend\u001b[49m(arr)\n",
      "\u001b[1;31mAttributeError\u001b[0m: 'list' object has no attribute 'apppend'"
     ]
    }
   ],
   "source": [
    "arr=[1,2,3]\n",
    "r=[[]]\n",
    "for i in r:\n",
    "    print\n",
    "    r=arr  "
   ]
  },
  {
   "cell_type": "code",
   "execution_count": null,
   "metadata": {},
   "outputs": [
    {
     "name": "stdout",
     "output_type": "stream",
     "text": [
      "[[1, 2, 3, 4], [1, 2, 4, 3], [1, 3, 2, 4], [1, 3, 4, 2], [1, 4, 2, 3], [1, 4, 3, 2], [2, 1, 3, 4], [2, 1, 4, 3], [2, 3, 1, 4], [2, 3, 4, 1], [2, 4, 1, 3], [2, 4, 3, 1], [3, 1, 2, 4], [3, 1, 4, 2], [3, 2, 1, 4], [3, 2, 4, 1], [3, 4, 1, 2], [3, 4, 2, 1], [4, 1, 2, 3], [4, 1, 3, 2], [4, 2, 1, 3], [4, 2, 3, 1], [4, 3, 1, 2], [4, 3, 2, 1]]\n"
     ]
    }
   ],
   "source": [
    "def permute(lst):\n",
    "    # Base case: if the list is empty, return a list containing an empty list\n",
    "    if not lst:\n",
    "        return [[]]\n",
    "    \n",
    "    permutations = []  # This will store all the permutations\n",
    "    \n",
    "    # Iterate through the list, pop each element, and generate permutations of the remaining elements\n",
    "    for i in range(len(lst)):\n",
    "        # Remove the element at index i\n",
    "        elem = lst.pop(i)\n",
    "        \n",
    "        # Generate all permutations of the remaining list\n",
    "        for perm in permute(lst):\n",
    "    \n",
    "            permutations.append([elem] + perm)\n",
    "        \n",
    "        # Add the element back to the list to restore its original state\n",
    "        lst.insert(i, elem)\n",
    "    \n",
    "    return permutations\n",
    "\n",
    "# Example usage\n",
    "example_list = [1, 2, 3,4]\n",
    "print(permute(example_list))\n"
   ]
  },
  {
   "cell_type": "code",
   "execution_count": null,
   "metadata": {},
   "outputs": [
    {
     "name": "stdout",
     "output_type": "stream",
     "text": [
      "lecoe\n"
     ]
    }
   ],
   "source": [
    "def removeStars(s):\n",
    "    result = []\n",
    "    for char in s:\n",
    "        if char == '*':\n",
    "            if result:\n",
    "                result.pop()  # Remove the closest non-star character\n",
    "        else:\n",
    "            result.append(char)\n",
    "    return ''.join(result)\n",
    "\n",
    "# Test cases\n",
    "print(removeStars(\"leet**cod*e\"))          "
   ]
  },
  {
   "cell_type": "code",
   "execution_count": null,
   "metadata": {},
   "outputs": [
    {
     "name": "stdout",
     "output_type": "stream",
     "text": [
      "[1, 2, 3, 1, 2, 3, 1, 2, 3]\n"
     ]
    }
   ],
   "source": [
    "li=[1,2,3]\n",
    "l1=len(li)\n",
    "print(li*l1)"
   ]
  },
  {
   "cell_type": "code",
   "execution_count": null,
   "metadata": {},
   "outputs": [
    {
     "name": "stdout",
     "output_type": "stream",
     "text": [
      "120\n"
     ]
    }
   ],
   "source": [
    "print(24*5)"
   ]
  },
  {
   "cell_type": "code",
   "execution_count": null,
   "metadata": {},
   "outputs": [
    {
     "name": "stdout",
     "output_type": "stream",
     "text": [
      "3\n",
      "4\n"
     ]
    }
   ],
   "source": [
    "nums = [5,7,7,8,8,10]\n",
    "t=8\n",
    "for i in range(len(nums)):\n",
    "    if nums[i]==t:\n",
    "        print(i)\n",
    "        "
   ]
  },
  {
   "cell_type": "code",
   "execution_count": null,
   "metadata": {},
   "outputs": [
    {
     "name": "stdout",
     "output_type": "stream",
     "text": [
      "[3, 4]\n"
     ]
    }
   ],
   "source": [
    "nums=[5,7,7,8,8,10]\n",
    "target=8\n",
    "arr=[]\n",
    "for i in range(len(nums)):\n",
    "    if nums[i]==target:\n",
    "        arr.append(i)\n",
    "if len(arr)>1:\n",
    "    print(arr)\n",
    "elif len(arr)==1:\n",
    "    print(arr+arr)\n",
    "else:\n",
    "    print([-1,-1])"
   ]
  },
  {
   "cell_type": "code",
   "execution_count": null,
   "metadata": {},
   "outputs": [
    {
     "name": "stdout",
     "output_type": "stream",
     "text": [
      "yes\n"
     ]
    }
   ],
   "source": [
    "m=[[1,3,5,7],[10,11,16,20],[23,30,34,60]]\n",
    "li=[]\n",
    "t=11\n",
    "for i in m:\n",
    "    for j in i:\n",
    "        li.append(j)\n",
    "if t in li:\n",
    "    print(\"yes\")\n",
    "else:\n",
    "    print(\"no\")\n",
    "      \n",
    "            "
   ]
  },
  {
   "cell_type": "code",
   "execution_count": null,
   "metadata": {},
   "outputs": [
    {
     "name": "stdout",
     "output_type": "stream",
     "text": [
      "[[], [1], [2], [1, 2], [3], [1, 3], [2, 3], [1, 2, 3]]\n"
     ]
    }
   ],
   "source": [
    "nums = [1,2,3]\n",
    "result = [[]]\n",
    "for num in nums:\n",
    "    result += [curr + [num] for curr in result]\n",
    "print(result)"
   ]
  },
  {
   "cell_type": "code",
   "execution_count": null,
   "metadata": {},
   "outputs": [
    {
     "name": "stdout",
     "output_type": "stream",
     "text": [
      "[[(1, 2, 3), (1, 3, 2), (2, 1, 3), (2, 3, 1), (3, 1, 2), (3, 2, 1)]]\n"
     ]
    }
   ],
   "source": [
    "import itertools\n",
    "\n",
    "nums = [1, 2, 3]\n",
    "result = [list(itertools.permutations(nums))]\n",
    "\n",
    "print(result)\n"
   ]
  },
  {
   "cell_type": "code",
   "execution_count": null,
   "metadata": {},
   "outputs": [
    {
     "name": "stdout",
     "output_type": "stream",
     "text": [
      "w\n",
      "w\n",
      "w\n"
     ]
    }
   ],
   "source": [
    "s = \"pwwkew\"\n",
    "for i in s:\n",
    "    if s.count(i)>1:\n",
    "        print(i)\n",
    "\n",
    " \n",
    "\n"
   ]
  },
  {
   "cell_type": "code",
   "execution_count": null,
   "metadata": {},
   "outputs": [
    {
     "name": "stdout",
     "output_type": "stream",
     "text": [
      "15\n"
     ]
    }
   ],
   "source": [
    "arr=[1,2,3,4,5,6]\n",
    "k=3\n",
    "c=0\n",
    "m=0\n",
    "for i in range(len(arr)-k):\n",
    "    for j in range(i,k):\n",
    "        c+=arr[j]\n",
    "    m=max(m,c)\n",
    "print(m+1)"
   ]
  },
  {
   "cell_type": "code",
   "execution_count": null,
   "metadata": {},
   "outputs": [
    {
     "name": "stdout",
     "output_type": "stream",
     "text": [
      "15\n"
     ]
    }
   ],
   "source": [
    "arr = [1, 2, 3, 4, 5, 6]\n",
    "k = 3\n",
    "m = 0\n",
    "\n",
    "for i in range(len(arr) - k + 1):\n",
    "    c = 0\n",
    "    for j in range(i, i + k):\n",
    "        c += arr[j]\n",
    "    m = max(m, c)\n",
    "\n",
    "print(m)\n"
   ]
  },
  {
   "cell_type": "code",
   "execution_count": null,
   "metadata": {},
   "outputs": [
    {
     "name": "stdout",
     "output_type": "stream",
     "text": [
      "5\n"
     ]
    }
   ],
   "source": [
    "prices=[7,1,5,3,6,4]\n",
    "buy_price = prices[0]\n",
    "profit = 0\n",
    "\n",
    "for p in prices[1:]:\n",
    "    if buy_price > p:\n",
    "        buy_price = p\n",
    "            \n",
    "    profit = max(profit, p - buy_price)\n",
    "        \n",
    "print(profit)"
   ]
  },
  {
   "cell_type": "code",
   "execution_count": null,
   "metadata": {},
   "outputs": [
    {
     "name": "stdout",
     "output_type": "stream",
     "text": [
      "['let1 art can', 'let2 own kit dig', 'let3 art zero']\n"
     ]
    }
   ],
   "source": [
    "#Input: logs = [\"dig1 8 1 5 1\",\"let1 art can\",\"dig2 3 6\",\"let2 own kit dig\",\"let3 art zero\"]\n",
    "#Output: [\"let1 art can\",\"let3 art zero\",\"let2 own kit dig\",\"dig1 8 1 5 1\",\"dig2 3 6\"]\n",
    "\n",
    "logs = [\"dig1 8 1 5 1\",\"let1 art can\",\"dig2 3 6\",\"let2 own kit dig\",\"let3 art zero\"]\n",
    "\n",
    "letter_logs = []\n",
    "digit_logs = []\n",
    "    \n",
    "for log in logs:\n",
    "    parts = log.split(\" \", 1)\n",
    "    if parts[1][0].isdigit():\n",
    "        digit_logs.append(log)\n",
    "    else:\n",
    "        letter_logs.append(log)\n",
    "print(letter_logs)\n",
    "\n"
   ]
  },
  {
   "cell_type": "code",
   "execution_count": null,
   "metadata": {},
   "outputs": [
    {
     "name": "stdout",
     "output_type": "stream",
     "text": [
      "['let1 art can', 'let3 art zero', 'let2 own kit dig']\n"
     ]
    }
   ],
   "source": [
    "s = [\"dig1 8 1 5 1\",\"let1 art can\",\"dig2 3 6\",\"let2 own kit dig\",\"let3 art zero\"]\n",
    "lg=[]\n",
    "dg=[]\n",
    "\n",
    "for i in s:\n",
    "    sp=(i.split(\" \",1))\n",
    "    if sp[1][0].isdigit():\n",
    "        dg.append(i)\n",
    "    else:\n",
    "        lg.append(i)\n",
    "lg.sort(key=lambda x:(x.split(\" \",1)[1],x.split(\" \",1)[0]))\n",
    "print(lg)\n",
    "    "
   ]
  },
  {
   "cell_type": "code",
   "execution_count": null,
   "metadata": {},
   "outputs": [
    {
     "name": "stdout",
     "output_type": "stream",
     "text": [
      "love\n",
      "ele\n",
      "ee\n",
      "etcode\n"
     ]
    }
   ],
   "source": [
    "#Input: s = \"loveleetcode\", c = \"e\"\n",
    "#Output: [3,2,1,0,1,0,0,1,2,2,1,0]\n",
    "\n",
    "s = \"loveleetcode\"\n",
    "c=\"e\"\n",
    "li=[0]\n",
    "for i in range(len(s)):\n",
    "    if s[i]==\"e\":\n",
    "        li.append(i)\n",
    "\n",
    "result = [[li[i], li[i + 1]] for i in range(len(li) - 1)]\n",
    "for k,d in result:\n",
    "    a=s[k:d+1]\n",
    "    print(a)\n",
    "    "
   ]
  },
  {
   "cell_type": "code",
   "execution_count": null,
   "metadata": {},
   "outputs": [],
   "source": [
    "li=[1,2,3,4,5,6,7,8,9]\n",
    "a=(list(map(lambda x:(x**2),li)))"
   ]
  },
  {
   "cell_type": "code",
   "execution_count": null,
   "metadata": {},
   "outputs": [
    {
     "name": "stdout",
     "output_type": "stream",
     "text": [
      "['1', '2', 'fizz', '4', 'buzz', 'fizz', '7', '8', 'fizz', 'buzz', '11', 'fizz', '13', '14', 'fizzbuzz']\n"
     ]
    }
   ],
   "source": [
    "li=[]\n",
    "for i in range(1,15+1):\n",
    "    if i%3==0 and i%5==0:\n",
    "        li.append(\"fizzbuzz\")\n",
    "    elif i%3==0:\n",
    "        li.append(\"fizz\")\n",
    "    elif i%5==0:\n",
    "        li.append(\"buzz\")\n",
    "    else:\n",
    "        li.append(str(i))\n",
    "print(li)\n",
    "        \n",
    "        \n",
    "    "
   ]
  },
  {
   "cell_type": "code",
   "execution_count": null,
   "metadata": {},
   "outputs": [
    {
     "name": "stdout",
     "output_type": "stream",
     "text": [
      "[-3, -2, -1, 0, 0]\n"
     ]
    }
   ],
   "source": [
    "def minSessions(tasks, sessionTime):\n",
    "    tasks.sort(reverse=True)\n",
    "    sessions = []\n",
    "    for task in tasks:\n",
    "        for i in range(len(sessions)):\n",
    "            if sessions[i] >= task:\n",
    "                sessions[i] -= task\n",
    "                break\n",
    "        else:\n",
    "            sessions.append(sessionTime - task)\n",
    "    \n",
    "    return (sessions)\n",
    "\n",
    "# Example usage\n",
    "tasks = [1, 2, 3,4,5,6]\n",
    "sessionTime = 3\n",
    "print(minSessions(tasks, sessionTime))  # Output: 2"
   ]
  },
  {
   "cell_type": "code",
   "execution_count": null,
   "metadata": {},
   "outputs": [
    {
     "name": "stdout",
     "output_type": "stream",
     "text": [
      "0\n"
     ]
    }
   ],
   "source": [
    "print(15 & 16)"
   ]
  },
  {
   "cell_type": "code",
   "execution_count": null,
   "metadata": {},
   "outputs": [
    {
     "name": "stdout",
     "output_type": "stream",
     "text": [
      "[5, 6, 9]\n"
     ]
    }
   ],
   "source": [
    "nums = [4,3,2,7,8,2,3,1]\n",
    "li=[]\n",
    "m1=max(set(nums))\n",
    "for i in range(1,m1+2):\n",
    "    if i not in nums:\n",
    "        li.append(i)\n",
    "print(li)"
   ]
  },
  {
   "cell_type": "code",
   "execution_count": null,
   "metadata": {},
   "outputs": [
    {
     "ename": "IndexError",
     "evalue": "list index out of range",
     "output_type": "error",
     "traceback": [
      "\u001b[1;31m---------------------------------------------------------------------------\u001b[0m",
      "\u001b[1;31mIndexError\u001b[0m                                Traceback (most recent call last)",
      "Cell \u001b[1;32mIn[11], line 4\u001b[0m\n\u001b[0;32m      2\u001b[0m \u001b[38;5;28;01mfor\u001b[39;00m num \u001b[38;5;129;01min\u001b[39;00m nums:\n\u001b[0;32m      3\u001b[0m     index \u001b[38;5;241m=\u001b[39m \u001b[38;5;28mabs\u001b[39m(num) \u001b[38;5;241m-\u001b[39m \u001b[38;5;241m1\u001b[39m \n\u001b[1;32m----> 4\u001b[0m     nums[index] \u001b[38;5;241m=\u001b[39m \u001b[38;5;241m-\u001b[39m\u001b[38;5;28mabs\u001b[39m(\u001b[43mnums\u001b[49m\u001b[43m[\u001b[49m\u001b[43mindex\u001b[49m\u001b[43m]\u001b[49m)\n\u001b[0;32m      5\u001b[0m \u001b[38;5;28mprint\u001b[39m(nums)  \n",
      "\u001b[1;31mIndexError\u001b[0m: list index out of range"
     ]
    }
   ],
   "source": [
    "nums = [1,2,4,6,7,8]\n",
    "for num in nums:\n",
    "    index = abs(num) - 1 \n",
    "    nums[index] = -abs(nums[index])\n",
    "print(nums)  \n",
    "    \n",
    "   "
   ]
  },
  {
   "cell_type": "code",
   "execution_count": null,
   "metadata": {},
   "outputs": [
    {
     "name": "stdout",
     "output_type": "stream",
     "text": [
      "[3, 5]\n"
     ]
    }
   ],
   "source": [
    "# Step 2: Collect indices of positive numbers, these are the missing numbers\n",
    "missing_numbers = []\n",
    "for i in range(len(nums)):\n",
    "    if nums[i] > 0:\n",
    "        missing_numbers.append(i + 1)  # i+1 is the missing number\n",
    "\n",
    "print(missing_numbers)"
   ]
  },
  {
   "cell_type": "code",
   "execution_count": null,
   "metadata": {},
   "outputs": [
    {
     "name": "stdout",
     "output_type": "stream",
     "text": [
      "Maximum subarray sum is: 6\n"
     ]
    }
   ],
   "source": [
    "#sub-array problems\n",
    "\n",
    "def max_subarray_sum(arr):\n",
    "    if len(arr) == 0:\n",
    "        return 0  # if array is empty, return 0\n",
    "\n",
    "    max_current = max_global = arr[0]\n",
    "\n",
    "    for num in arr[1:]:\n",
    "        max_current = max(num, max_current + num)\n",
    "        if max_current > max_global:\n",
    "            max_global = max_current\n",
    "\n",
    "    return max_global\n",
    "\n",
    "# Example usage\n",
    "arr = [-2, 1, -3, 4, -1, 2, 1, -5, 4]\n",
    "print(\"Maximum subarray sum is:\", max_subarray_sum(arr))\n"
   ]
  },
  {
   "cell_type": "code",
   "execution_count": null,
   "metadata": {},
   "outputs": [
    {
     "name": "stdout",
     "output_type": "stream",
     "text": [
      "13\n"
     ]
    }
   ],
   "source": [
    "li=[3,-4,1,0,3,6,4,-7,-9]\n",
    "k=3\n",
    "c=0\n",
    "arr=[]\n",
    "for i in range(len(li)-k):\n",
    "    c=li[i]+li[i+1]+li[i+2]\n",
    "    arr.append(c)\n",
    "print(max(arr))"
   ]
  },
  {
   "cell_type": "code",
   "execution_count": null,
   "metadata": {},
   "outputs": [
    {
     "name": "stdout",
     "output_type": "stream",
     "text": [
      "13\n"
     ]
    }
   ],
   "source": [
    "li = [3, -4, 1, 0, 3, 6, 4, -7, -9]\n",
    "k = 3\n",
    "\n",
    "# Initialize the sum of the first window\n",
    "current_sum = sum(li[:k])\n",
    "max_sum = current_sum\n",
    "\n",
    "# Slide the window over the list\n",
    "for i in range(k, len(li)):\n",
    "    current_sum += li[i] - li[i - k]\n",
    "    max_sum = max(max_sum, current_sum)\n",
    "\n",
    "print(max_sum)\n"
   ]
  },
  {
   "cell_type": "code",
   "execution_count": null,
   "metadata": {},
   "outputs": [
    {
     "name": "stdout",
     "output_type": "stream",
     "text": [
      "15\n"
     ]
    }
   ],
   "source": [
    "nums = [5,4,-1,7,8]\n",
    "li=[]\n",
    "c=0\n",
    "for i in range(len(nums)-4):\n",
    "    c=sum(nums[i:i+4])\n",
    "    li.append(c)\n",
    "print(max(li))"
   ]
  },
  {
   "cell_type": "code",
   "execution_count": null,
   "metadata": {},
   "outputs": [
    {
     "name": "stdout",
     "output_type": "stream",
     "text": [
      "-1\n"
     ]
    }
   ],
   "source": [
    "nums = [5,4,-1,7,8]\n",
    "m1=nums[0]\n",
    "c1=nums[0]\n",
    "li=[]\n",
    "for i in range(1,len(nums)):\n",
    "    m1=min(nums[i],m1+nums[i])\n",
    "    if m1<c1:\n",
    "        c1=m1\n",
    "print(c1)"
   ]
  },
  {
   "cell_type": "code",
   "execution_count": null,
   "metadata": {},
   "outputs": [
    {
     "name": "stdout",
     "output_type": "stream",
     "text": [
      "-1\n"
     ]
    }
   ],
   "source": [
    "nums = [5, 4, -1, 7, 8]\n",
    "\n",
    "# Initialize min_current and min_global to the first element\n",
    "min_current = min_global = nums[0]\n",
    "\n",
    "# Iterate through the array starting from the second element\n",
    "for i in range(1, len(nums)):\n",
    "    # Update min_current to be the minimum of the current element or the sum of min_current and the current element\n",
    "    min_current = min(nums[i], min_current + nums[i])\n",
    "    # Update min_global if min_current is smaller\n",
    "    if min_current < min_global:\n",
    "        min_global = min_current\n",
    "\n",
    "# Print the minimum subarray sum\n",
    "print(min_global)\n"
   ]
  },
  {
   "cell_type": "code",
   "execution_count": null,
   "metadata": {},
   "outputs": [
    {
     "name": "stdout",
     "output_type": "stream",
     "text": [
      "{1, 3, 5}\n"
     ]
    }
   ],
   "source": [
    "nums=[1,5,0,3,5]\n",
    "s1=set(nums)\n",
    "print(s1-{0})\n",
    "       "
   ]
  },
  {
   "cell_type": "code",
   "execution_count": null,
   "metadata": {},
   "outputs": [
    {
     "name": "stdout",
     "output_type": "stream",
     "text": [
      "['abba', 'cd']\n"
     ]
    }
   ],
   "source": [
    "words = [\"abba\",\"baba\",\"bbaa\",\"cd\",\"cd\"]\n",
    "li=[]\n",
    "arr=[]\n",
    "for j in range(len(words)-1):\n",
    "    if sorted(words[j])==sorted(words[j+1]):\n",
    "        li.append(words[j])\n",
    "arr.append(li[0])\n",
    "arr.append(li[-1])\n",
    "print(arr)"
   ]
  },
  {
   "cell_type": "code",
   "execution_count": null,
   "metadata": {},
   "outputs": [
    {
     "name": "stdout",
     "output_type": "stream",
     "text": [
      "['(}']\n",
      "False\n"
     ]
    }
   ],
   "source": [
    "s = \"(}\"\n",
    "p1=[\"()\",\"[]\",\"{}\"]\n",
    "li=[]\n",
    "for i in range(len(s)-1):\n",
    "    li.append(s[i]+s[i+1])\n",
    "c1=(li[0::2])\n",
    "print(c1)\n",
    "for j in c1:\n",
    "    if j in p1:\n",
    "        print(True)\n",
    "    else:\n",
    "        print(False)\n",
    "    \n"
   ]
  },
  {
   "cell_type": "code",
   "execution_count": null,
   "metadata": {},
   "outputs": [
    {
     "name": "stdout",
     "output_type": "stream",
     "text": [
      "4\n",
      "16\n"
     ]
    }
   ],
   "source": [
    "print(16//4)\n",
    "print(4*4)\n"
   ]
  },
  {
   "cell_type": "code",
   "execution_count": null,
   "metadata": {},
   "outputs": [
    {
     "name": "stdout",
     "output_type": "stream",
     "text": [
      "aaa\n"
     ]
    }
   ],
   "source": [
    "s = \"aaa\"\n",
    "k = 1\n",
    "li=[]\n",
    "for i in s:\n",
    "    li.append(i)\n",
    "print(\"\".join([li.pop(k)]+li))\n"
   ]
  },
  {
   "cell_type": "code",
   "execution_count": null,
   "metadata": {},
   "outputs": [
    {
     "name": "stdout",
     "output_type": "stream",
     "text": [
      "2\n"
     ]
    }
   ],
   "source": [
    "s=\"loveleetcode\"\n",
    "li=[]\n",
    "for i in range(0,len(s)):\n",
    "    if s.count(str(s[i]))==1:\n",
    "        print(i)\n",
    "        break\n",
    "else:\n",
    "    print(\"-1\")"
   ]
  },
  {
   "cell_type": "code",
   "execution_count": null,
   "metadata": {},
   "outputs": [
    {
     "name": "stdout",
     "output_type": "stream",
     "text": [
      "0\n",
      "-1\n"
     ]
    }
   ],
   "source": [
    "s=\"abb\"\n",
    "d={}\n",
    "for i in s:\n",
    "    if i in d:\n",
    "        d[i]+=1\n",
    "    else:\n",
    "        d[i]=1    \n",
    "for j,i in enumerate(s):\n",
    "    if d[i]==1:\n",
    "        print(j)\n",
    "else:\n",
    "    print(\"-1\")\n",
    "    "
   ]
  },
  {
   "cell_type": "code",
   "execution_count": null,
   "metadata": {},
   "outputs": [
    {
     "name": "stdout",
     "output_type": "stream",
     "text": [
      "{3: 2, 2: 1}\n"
     ]
    }
   ],
   "source": [
    "nums = [3,2,3]\n",
    "d={}\n",
    "for i in nums:\n",
    "    if i in d:\n",
    "        d[i]+=1\n",
    "    else:\n",
    "        d[i]=1\n",
    "print(d)"
   ]
  },
  {
   "cell_type": "code",
   "execution_count": null,
   "metadata": {},
   "outputs": [
    {
     "name": "stdout",
     "output_type": "stream",
     "text": [
      "0\n",
      "-1\n"
     ]
    }
   ],
   "source": [
    "s=\"abb\"\n",
    "d={}\n",
    "for i in s:\n",
    "    if i in d:\n",
    "        d[i]+=1\n",
    "    else:\n",
    "        d[i]=1 \n",
    "for j,i in enumerate(s):   \n",
    "    if d[i]==1:\n",
    "        print(j)\n",
    "        break\n",
    "print(\"-1\")\n",
    "    "
   ]
  },
  {
   "cell_type": "code",
   "execution_count": null,
   "metadata": {},
   "outputs": [
    {
     "name": "stdout",
     "output_type": "stream",
     "text": [
      "0\n",
      "-1\n"
     ]
    }
   ],
   "source": [
    "def strStr(haystack, needle):\n",
    "    return haystack.find(needle)\n",
    "\n",
    "# Example usage:\n",
    "haystack1 = \"sadbutsad\"\n",
    "needle1 = \"sad\"\n",
    "print(strStr(haystack1, needle1))  # Output: 0\n",
    "\n",
    "haystack2 = \"leetcode\"\n",
    "needle2 = \"leeto\"\n",
    "print(strStr(haystack2, needle2))  # Output: -1\n"
   ]
  },
  {
   "cell_type": "code",
   "execution_count": null,
   "metadata": {},
   "outputs": [
    {
     "name": "stdout",
     "output_type": "stream",
     "text": [
      "True\n"
     ]
    }
   ],
   "source": [
    "s = \"abab\"\n",
    "li=[]\n",
    "s1=set(s)\n",
    "for i in s1:\n",
    "    li.append(s.count(i))\n",
    "print(sum(li)==len(s))"
   ]
  },
  {
   "cell_type": "code",
   "execution_count": null,
   "metadata": {},
   "outputs": [
    {
     "name": "stdout",
     "output_type": "stream",
     "text": [
      "bababa\n"
     ]
    }
   ],
   "source": [
    "s = \"abab\"\n",
    "a=s+s\n",
    "print(a[1:-1])"
   ]
  },
  {
   "cell_type": "code",
   "execution_count": null,
   "metadata": {},
   "outputs": [
    {
     "name": "stdout",
     "output_type": "stream",
     "text": [
      "5\n"
     ]
    }
   ],
   "source": [
    "import re\n",
    "txt = \"The rain in Spain\"\n",
    "x = re.findall(\"ai\", txt)\n",
    "print(txt.find(x[0]))"
   ]
  },
  {
   "cell_type": "code",
   "execution_count": null,
   "metadata": {},
   "outputs": [
    {
     "name": "stdout",
     "output_type": "stream",
     "text": [
      "No match\n"
     ]
    }
   ],
   "source": [
    "import re\n",
    "\n",
    "pattern = \"hello\"\n",
    "string = \"world hello\"\n",
    "match = re.match(pattern, string)\n",
    "if match:\n",
    "    print(\"Match found:\", match.group())  # Output: Match found: hello\n",
    "else:\n",
    "    print(\"No match\")\n"
   ]
  },
  {
   "cell_type": "code",
   "execution_count": null,
   "metadata": {},
   "outputs": [
    {
     "name": "stdout",
     "output_type": "stream",
     "text": [
      "Match found: world\n"
     ]
    }
   ],
   "source": [
    "import re\n",
    "\n",
    "pattern = r\"world\"\n",
    "string = \"hello world\"\n",
    "match = re.search(pattern, string)\n",
    "if match:\n",
    "    print(\"Match found:\", match.group())  # Output: Match found: world\n",
    "else:\n",
    "    print(\"No match\")\n"
   ]
  },
  {
   "cell_type": "code",
   "execution_count": null,
   "metadata": {},
   "outputs": [
    {
     "name": "stdout",
     "output_type": "stream",
     "text": [
      "['d']\n"
     ]
    }
   ],
   "source": [
    "s = \"cbbd\"\n",
    "li=[]\n",
    "for i in range(len(s)):\n",
    "    if ((s[i:i+4])[::-1]==s[i:i+3]):\n",
    "        li.append(s[i:i+3])\n",
    "print(li)\n"
   ]
  },
  {
   "cell_type": "code",
   "execution_count": null,
   "metadata": {},
   "outputs": [
    {
     "name": "stdout",
     "output_type": "stream",
     "text": [
      "[[5, 4, -1, 7]]\n"
     ]
    }
   ],
   "source": [
    "nums = [5,4,-1,7,8]\n",
    "li=[]\n",
    "c=0\n",
    "for i in range(len(nums)-4):\n",
    "    c=(nums[i:i+4])\n",
    "    li.append(c)\n",
    "print((li))"
   ]
  },
  {
   "cell_type": "code",
   "execution_count": null,
   "metadata": {},
   "outputs": [
    {
     "name": "stdout",
     "output_type": "stream",
     "text": [
      "bab\n"
     ]
    }
   ],
   "source": [
    "def is_pal(s):\n",
    "    return s[::-1]==s\n",
    "def pal(s):\n",
    "    ps=\"\"\n",
    "    for i in range(len(s)):\n",
    "        for j in range(i,len(s)):\n",
    "             sub=(s[i:j+1])\n",
    "             if is_pal(sub) and len(sub)>len(ps):\n",
    "                 ps=sub\n",
    "    print(ps)\n",
    "s=\"babad\"\n",
    "pal(s)"
   ]
  },
  {
   "cell_type": "code",
   "execution_count": null,
   "metadata": {},
   "outputs": [
    {
     "name": "stdout",
     "output_type": "stream",
     "text": [
      "a\n",
      "ab\n",
      "abc\n",
      "b\n",
      "bc\n",
      "bca\n",
      "c\n",
      "ca\n",
      "cab\n",
      "a\n",
      "ab\n",
      "abc\n",
      "b\n",
      "bc\n",
      "c\n",
      "cb\n",
      "b\n",
      "b\n"
     ]
    }
   ],
   "source": [
    "s = \"abcabcbb\"\n",
    "for i in range(len(s)):\n",
    "    for j in range(i,len(s)):\n",
    "        sub=s[i:j+1]\n",
    "        if (len(set(sub))==len(sub)):\n",
    "            print(sub)\n",
    "        \n"
   ]
  },
  {
   "cell_type": "code",
   "execution_count": null,
   "metadata": {},
   "outputs": [
    {
     "name": "stdout",
     "output_type": "stream",
     "text": [
      "[(-1, 0, 1), (-1, -1, 2)]\n"
     ]
    }
   ],
   "source": [
    "from itertools import combinations\n",
    "nums = [-1, 0, 1, 2, -1, -4]\n",
    "z=combinations(nums,3)\n",
    "\n",
    "s=set()\n",
    "for i in z:\n",
    "    if sum(i)==0:\n",
    "        s.add(tuple(sorted(i)))\n",
    "print(list(s))\n"
   ]
  },
  {
   "cell_type": "code",
   "execution_count": null,
   "metadata": {},
   "outputs": [
    {
     "name": "stdout",
     "output_type": "stream",
     "text": [
      "[[-1, 0, 1], [-1, -1, 2]]\n"
     ]
    }
   ],
   "source": [
    "from itertools import combinations\n",
    "\n",
    "# Input list\n",
    "nums = [-1, 0, 1, 2, -1, -4]\n",
    "\n",
    "# Generate all possible triplets\n",
    "z = combinations(nums, 3)\n",
    "\n",
    "# Initialize a set to store unique triplets that sum to zero\n",
    "s = set()\n",
    "\n",
    "# Check each triplet\n",
    "for i in z:\n",
    "    if sum(i) == 0:\n",
    "        # Sort the triplet and add to the set\n",
    "        s.add(tuple(sorted(i)))\n",
    "\n",
    "# Convert the set of tuples to a list of lists\n",
    "result = [list(triplet) for triplet in s]\n",
    "\n",
    "# Print the result\n",
    "print(result)\n"
   ]
  },
  {
   "cell_type": "code",
   "execution_count": null,
   "metadata": {},
   "outputs": [
    {
     "name": "stdout",
     "output_type": "stream",
     "text": [
      "[[1, 2, 3], [1, 2, 3], [1, 2, 3], [1, 2, 3], [1, 2, 3], [1, 2, 3]]\n"
     ]
    }
   ],
   "source": [
    "from itertools import permutations\n",
    "n=[1,2,3]\n",
    "p=(permutations(n,len(n)))\n",
    "print([list(sorted(i)) for i in p])"
   ]
  },
  {
   "cell_type": "code",
   "execution_count": null,
   "metadata": {},
   "outputs": [
    {
     "name": "stdout",
     "output_type": "stream",
     "text": [
      "valid\n"
     ]
    }
   ],
   "source": [
    "n=20\n",
    "s=15\n",
    "li=[]\n",
    "for i in range(n,s):\n",
    "    if i>1:\n",
    "        for j in range(2,i):\n",
    "            if i%j==0:\n",
    "                break\n",
    "        else:\n",
    "            li.append(i)\n",
    "if n>s:\n",
    "    print(\"valid\")\n",
    "else:\n",
    "    print(li)"
   ]
  },
  {
   "cell_type": "code",
   "execution_count": null,
   "metadata": {},
   "outputs": [
    {
     "name": "stdout",
     "output_type": "stream",
     "text": [
      "2\n"
     ]
    }
   ],
   "source": [
    "n=\"hello\"\n",
    "s=\"ll\"\n",
    "print(n.find(s))"
   ]
  },
  {
   "cell_type": "code",
   "execution_count": null,
   "metadata": {},
   "outputs": [
    {
     "data": {
      "text/plain": [
       "-13"
      ]
     },
     "execution_count": 1,
     "metadata": {},
     "output_type": "execute_result"
    }
   ],
   "source": [
    "#complement\n",
    "~12"
   ]
  },
  {
   "cell_type": "code",
   "execution_count": null,
   "metadata": {},
   "outputs": [
    {
     "data": {
      "text/plain": [
       "12"
      ]
     },
     "execution_count": 2,
     "metadata": {},
     "output_type": "execute_result"
    }
   ],
   "source": [
    "#Bitwise AND(&)\n",
    "12 & 13"
   ]
  },
  {
   "cell_type": "code",
   "execution_count": null,
   "metadata": {},
   "outputs": [
    {
     "data": {
      "text/plain": [
       "14"
      ]
     },
     "execution_count": 4,
     "metadata": {},
     "output_type": "execute_result"
    }
   ],
   "source": [
    "#Bitwise OR(|)\n",
    "12 | 6"
   ]
  },
  {
   "cell_type": "code",
   "execution_count": null,
   "metadata": {},
   "outputs": [],
   "source": [
    "n=15\n",
    "c=0\n",
    "li=[]\n",
    "while c<=n:\n",
    "    if c>1:\n",
    "        for i in range(2,c):\n",
    "            if c%i==0:\n",
    "                break\n",
    "        else:\n",
    "            li.append(c)\n",
    "    c+=1"
   ]
  },
  {
   "cell_type": "code",
   "execution_count": null,
   "metadata": {},
   "outputs": [
    {
     "name": "stdout",
     "output_type": "stream",
     "text": [
      "[2, 3, 5, 7, 11, 13]\n"
     ]
    }
   ],
   "source": [
    "n = 15\n",
    "c = 0\n",
    "li = []\n",
    "\n",
    "while c <= n:\n",
    "    if c > 1:\n",
    "        for i in range(2, c):\n",
    "            if c % i == 0:\n",
    "                break\n",
    "        else:\n",
    "            li.append(c)\n",
    "    c += 1\n",
    "\n",
    "print(li)\n"
   ]
  },
  {
   "cell_type": "code",
   "execution_count": null,
   "metadata": {},
   "outputs": [
    {
     "name": "stdout",
     "output_type": "stream",
     "text": [
      "True\n"
     ]
    }
   ],
   "source": [
    "n=12\n",
    "c=0\n",
    "while n%2==0:\n",
    "    print(True)\n",
    "    break\n",
    "    "
   ]
  },
  {
   "cell_type": "code",
   "execution_count": null,
   "metadata": {},
   "outputs": [
    {
     "name": "stdout",
     "output_type": "stream",
     "text": [
      "True\n"
     ]
    }
   ],
   "source": [
    "n=12\n",
    "c=0\n",
    "while c<1 and n%2==0:\n",
    "    print(True)\n",
    "    c+=1"
   ]
  },
  {
   "cell_type": "code",
   "execution_count": null,
   "metadata": {},
   "outputs": [
    {
     "name": "stdout",
     "output_type": "stream",
     "text": [
      "4\n"
     ]
    }
   ],
   "source": [
    "li=[1,2,3,4,5]\n",
    "c=0\n",
    "l=[]\n",
    "while c<=len(li)-len(li):\n",
    "    print(li[c]+li[c+2])\n",
    "        \n",
    "    c+=1"
   ]
  },
  {
   "cell_type": "code",
   "execution_count": null,
   "metadata": {},
   "outputs": [
    {
     "ename": "IndexError",
     "evalue": "string index out of range",
     "output_type": "error",
     "traceback": [
      "\u001b[1;31m---------------------------------------------------------------------------\u001b[0m",
      "\u001b[1;31mIndexError\u001b[0m                                Traceback (most recent call last)",
      "Cell \u001b[1;32mIn[11], line 4\u001b[0m\n\u001b[0;32m      2\u001b[0m n\u001b[38;5;241m=\u001b[39m\u001b[38;5;124m\"\u001b[39m\u001b[38;5;124m3479\u001b[39m\u001b[38;5;124m\"\u001b[39m\n\u001b[0;32m      3\u001b[0m \u001b[38;5;28;01mfor\u001b[39;00m i \u001b[38;5;129;01min\u001b[39;00m \u001b[38;5;28mrange\u001b[39m(\u001b[38;5;28mlen\u001b[39m(d)\u001b[38;5;241m-\u001b[39m\u001b[38;5;241m1\u001b[39m):\n\u001b[1;32m----> 4\u001b[0m     \u001b[38;5;28;01mif\u001b[39;00m d\u001b[38;5;241m.\u001b[39mvalues()\u001b[38;5;241m==\u001b[39m\u001b[43mn\u001b[49m\u001b[43m[\u001b[49m\u001b[43mi\u001b[49m\u001b[43m]\u001b[49m:\n\u001b[0;32m      5\u001b[0m         \u001b[38;5;28mprint\u001b[39m(d\u001b[38;5;241m.\u001b[39mkeys())\n",
      "\u001b[1;31mIndexError\u001b[0m: string index out of range"
     ]
    }
   ],
   "source": [
    "d={\"I\":1,\"V\":5,\"X\":10,\"L\":50,\"C\":100,\"D\":500,\"M\":1000}\n",
    "n=\"3479\"\n",
    "for i in range(len(d)-1):\n",
    "    if d.values()==n[i]:\n",
    "        print(d.keys())"
   ]
  },
  {
   "cell_type": "code",
   "execution_count": null,
   "metadata": {},
   "outputs": [
    {
     "name": "stdout",
     "output_type": "stream",
     "text": [
      "3.479\n"
     ]
    }
   ],
   "source": [
    "print(3479//1000)"
   ]
  },
  {
   "cell_type": "code",
   "execution_count": null,
   "metadata": {},
   "outputs": [
    {
     "ename": "IndexError",
     "evalue": "list index out of range",
     "output_type": "error",
     "traceback": [
      "\u001b[1;31m---------------------------------------------------------------------------\u001b[0m",
      "\u001b[1;31mIndexError\u001b[0m                                Traceback (most recent call last)",
      "Cell \u001b[1;32mIn[15], line 17\u001b[0m\n\u001b[0;32m     15\u001b[0m i\u001b[38;5;241m=\u001b[39m\u001b[38;5;241m0\u001b[39m\n\u001b[0;32m     16\u001b[0m \u001b[38;5;28;01mwhile\u001b[39;00m n\u001b[38;5;241m>\u001b[39m\u001b[38;5;241m0\u001b[39m:\n\u001b[1;32m---> 17\u001b[0m     \u001b[38;5;28;01mfor\u001b[39;00m _ \u001b[38;5;129;01min\u001b[39;00m \u001b[38;5;28mrange\u001b[39m(n\u001b[38;5;241m/\u001b[39m\u001b[38;5;241m/\u001b[39m\u001b[43mval\u001b[49m\u001b[43m[\u001b[49m\u001b[43mi\u001b[49m\u001b[43m]\u001b[49m):\n\u001b[0;32m     18\u001b[0m         r\u001b[38;5;241m+\u001b[39m\u001b[38;5;241m=\u001b[39msyb[i]\n\u001b[0;32m     19\u001b[0m     i\u001b[38;5;241m+\u001b[39m\u001b[38;5;241m=\u001b[39m\u001b[38;5;241m1\u001b[39m\n",
      "\u001b[1;31mIndexError\u001b[0m: list index out of range"
     ]
    }
   ],
   "source": [
    "n=3479\n",
    "val = [\n",
    "        1000, 900, 500, 400,\n",
    "        100, 90, 50, 40,\n",
    "        10, 9, 5, 4,\n",
    "        1\n",
    "        ]\n",
    "syb = [\n",
    "        \"M\", \"CM\", \"D\", \"CD\",\n",
    "        \"C\", \"XC\", \"L\", \"XL\",\n",
    "        \"X\", \"IX\", \"V\", \"IV\",\n",
    "        \"I\"\n",
    "        ]\n",
    "r=\"\"\n",
    "i=0\n",
    "while n>0:\n",
    "    for _ in range(n//val[i]):\n",
    "        r+=syb[i]\n",
    "        \n",
    "    i+=1\n",
    "print(r)\n",
    "\n",
    "    "
   ]
  },
  {
   "cell_type": "code",
   "execution_count": null,
   "metadata": {},
   "outputs": [
    {
     "name": "stdout",
     "output_type": "stream",
     "text": [
      "2479\n"
     ]
    }
   ],
   "source": [
    "n=3479\n",
    "for i in range(1):\n",
    "    n-=1000\n",
    "print(n)"
   ]
  },
  {
   "cell_type": "code",
   "execution_count": null,
   "metadata": {},
   "outputs": [
    {
     "data": {
      "text/plain": [
       "2"
      ]
     },
     "execution_count": 19,
     "metadata": {},
     "output_type": "execute_result"
    }
   ],
   "source": [
    "2479//900"
   ]
  },
  {
   "cell_type": "code",
   "execution_count": null,
   "metadata": {},
   "outputs": [
    {
     "name": "stdout",
     "output_type": "stream",
     "text": [
      "False\n"
     ]
    }
   ],
   "source": [
    "s1=\"leet\"\n",
    "s2=\"code\"\n",
    "if s2 in s1:\n",
    "    print(\"True\")\n",
    "else:\n",
    "    print(False)"
   ]
  },
  {
   "cell_type": "code",
   "execution_count": null,
   "metadata": {},
   "outputs": [
    {
     "name": "stdout",
     "output_type": "stream",
     "text": [
      "[2, 2]\n"
     ]
    }
   ],
   "source": [
    "arr=[3,2,2,3]\n",
    "k=3\n",
    "li=[]\n",
    "for i in arr:\n",
    "    if i!=k:\n",
    "        li.append(i)\n",
    "        \n",
    "print(li)"
   ]
  },
  {
   "cell_type": "code",
   "execution_count": null,
   "metadata": {},
   "outputs": [
    {
     "name": "stdout",
     "output_type": "stream",
     "text": [
      "bab\n",
      "aba\n"
     ]
    }
   ],
   "source": [
    "s = \"babad\"\n",
    "for i in range(len(s)):\n",
    "    for j in range(i,len(s)):\n",
    "        if ((s[i:j+1])[::-1]==s[i:j+1]) and len(s[i:j+1])>1:\n",
    "            print(s[i:j+1])"
   ]
  },
  {
   "cell_type": "code",
   "execution_count": null,
   "metadata": {},
   "outputs": [
    {
     "name": "stdout",
     "output_type": "stream",
     "text": [
      "110\n"
     ]
    }
   ],
   "source": [
    "costs = [[10,20],[30,200],[400,50],[30,20]]\n",
    "costs.sort(key=lambda x: x[0] - x[1])\n",
    "n=len(costs)//2\n",
    "c=0\n",
    "for i in range(n):\n",
    "    c+=costs[i][0]\n",
    "for i in range(n,len(costs)):\n",
    "    c+=costs[i][1]\n",
    "print(c)"
   ]
  },
  {
   "cell_type": "code",
   "execution_count": null,
   "metadata": {},
   "outputs": [
    {
     "data": {
      "text/plain": [
       "[0, 2, 4, 6, 8, 10]"
      ]
     },
     "execution_count": 3,
     "metadata": {},
     "output_type": "execute_result"
    }
   ],
   "source": [
    "li=[0,1,2,3,4,5,6,7,8,9,10]\n",
    "li[0::2]"
   ]
  },
  {
   "cell_type": "code",
   "execution_count": null,
   "metadata": {},
   "outputs": [
    {
     "name": "stdout",
     "output_type": "stream",
     "text": [
      "1\n"
     ]
    }
   ],
   "source": [
    "nums = [2,2,1]\n",
    "for i in nums:\n",
    "    if nums.count(i)==1:\n",
    "        print(i)"
   ]
  },
  {
   "cell_type": "code",
   "execution_count": null,
   "metadata": {},
   "outputs": [
    {
     "name": "stdout",
     "output_type": "stream",
     "text": [
      "[5, 7, 2, 3, 2]\n"
     ]
    }
   ],
   "source": [
    "pref = [5,2,0,3,1]\n",
    "arr=[pref[0]]\n",
    "for i in range(len(pref)-1):\n",
    "    arr.append(pref[i]^pref[i+1])\n",
    "print(arr)"
   ]
  },
  {
   "cell_type": "code",
   "execution_count": null,
   "metadata": {},
   "outputs": [
    {
     "name": "stdout",
     "output_type": "stream",
     "text": [
      "0 0\n",
      "1 1\n",
      "2 2\n",
      "3 2\n",
      "4 1\n"
     ]
    }
   ],
   "source": [
    "nums = [0,1,2,3,4]\n",
    "index = [0,1,2,2,1]\n",
    "li=[]\n",
    "for i in range(len(nums)):\n",
    "    li.append(nums[i],index[i])"
   ]
  },
  {
   "cell_type": "code",
   "execution_count": null,
   "metadata": {},
   "outputs": [
    {
     "name": "stdout",
     "output_type": "stream",
     "text": [
      "['0']\n",
      "['0', '01']\n",
      "['0', '01', '012']\n",
      "['0', '01', '012', '0123']\n",
      "['0', '01', '012', '0123', '01234']\n"
     ]
    }
   ],
   "source": [
    "c=\"\"\n",
    "li=[]\n",
    "for i in range(len(nums)):\n",
    "    c+=str(i)\n",
    "    li.append(c)\n",
    "    print(li)\n",
    "    \n"
   ]
  },
  {
   "cell_type": "code",
   "execution_count": null,
   "metadata": {},
   "outputs": [
    {
     "ename": "ValueError",
     "evalue": "Unknown format code 'b' for object of type 'str'",
     "output_type": "error",
     "traceback": [
      "\u001b[1;31m---------------------------------------------------------------------------\u001b[0m",
      "\u001b[1;31mValueError\u001b[0m                                Traceback (most recent call last)",
      "Cell \u001b[1;32mIn[10], line 3\u001b[0m\n\u001b[0;32m      1\u001b[0m n \u001b[38;5;241m=\u001b[39m \u001b[38;5;241m11111111111111111111111111111101\u001b[39m\n\u001b[0;32m      2\u001b[0m n1\u001b[38;5;241m=\u001b[39m\u001b[38;5;28mbin\u001b[39m(n)\n\u001b[1;32m----> 3\u001b[0m binary_str \u001b[38;5;241m=\u001b[39m \u001b[38;5;124mf\u001b[39m\u001b[38;5;124m'\u001b[39m\u001b[38;5;132;43;01m{\u001b[39;49;00m\u001b[43mn1\u001b[49m\u001b[38;5;132;43;01m:\u001b[39;49;00m\u001b[38;5;124;43m032b\u001b[39;49m\u001b[38;5;132;43;01m}\u001b[39;49;00m\u001b[38;5;124m'\u001b[39m\n\u001b[0;32m      4\u001b[0m reversed_binary_str \u001b[38;5;241m=\u001b[39m binary_str[::\u001b[38;5;241m-\u001b[39m\u001b[38;5;241m1\u001b[39m]\n\u001b[0;32m      5\u001b[0m reversed_int \u001b[38;5;241m=\u001b[39m \u001b[38;5;28mint\u001b[39m(reversed_binary_str, \u001b[38;5;241m2\u001b[39m)\n",
      "\u001b[1;31mValueError\u001b[0m: Unknown format code 'b' for object of type 'str'"
     ]
    }
   ],
   "source": [
    "n = 11111111111111111111111111111101\n",
    "n1=bin(n)\n",
    "binary_str = f'{n1:032b}'\n",
    "reversed_binary_str = binary_str[::-1]\n",
    "reversed_int = int(reversed_binary_str, 2)\n",
    "print(reversed_int)"
   ]
  },
  {
   "cell_type": "code",
   "execution_count": null,
   "metadata": {},
   "outputs": [
    {
     "name": "stdout",
     "output_type": "stream",
     "text": [
      "0b1111111100111101100001100010101000111010111001100010000000100000100000010000111000111000111000111000111\n"
     ]
    }
   ],
   "source": [
    "n = \"11111111111111111111111111111101\"\n",
    "n1=n[::-1]\n",
    "print(bin(int(n1)))"
   ]
  },
  {
   "cell_type": "code",
   "execution_count": null,
   "metadata": {},
   "outputs": [
    {
     "name": "stdout",
     "output_type": "stream",
     "text": [
      "4\n"
     ]
    }
   ],
   "source": [
    "arr=[2,8,3,5,7,4,1,2]\n",
    "c=0\n",
    "a=0\n",
    "li=[]\n",
    "for i in range(len(arr)):\n",
    "    c+=arr[i]\n",
    "    li.append(c)\n",
    "for j in li:\n",
    "    if 14<j:\n",
    "        k=(li.index(j))\n",
    "        break\n",
    "print(len(li[:k+1])) "
   ]
  },
  {
   "cell_type": "code",
   "execution_count": null,
   "metadata": {},
   "outputs": [
    {
     "name": "stdout",
     "output_type": "stream",
     "text": [
      "4\n"
     ]
    }
   ],
   "source": [
    "arr=[2,8,3,5,7,4,1,2]\n",
    "c=0\n",
    "for i,food in enumerate(arr):\n",
    "    c+=food\n",
    "    if c>=14:\n",
    "        print(i+1)\n",
    "        break\n",
    "else:\n",
    "    print(\"0\")"
   ]
  },
  {
   "cell_type": "code",
   "execution_count": null,
   "metadata": {},
   "outputs": [
    {
     "name": "stdout",
     "output_type": "stream",
     "text": [
      "[1, 2, 3, 4, 5]\n",
      "True\n"
     ]
    }
   ],
   "source": [
    "nums=[1,2,3,4,5,14]\n",
    "s1=map(str,nums)\n",
    "li=[]\n",
    "t=[]\n",
    "for i in s1:\n",
    "    if len(i)==1:\n",
    "        li.append(int(i))\n",
    "    elif len(i)>=2:\n",
    "        t.append(int(i))\n",
    "\n",
    "print(sum(li)>=sum(t))\n"
   ]
  },
  {
   "cell_type": "code",
   "execution_count": null,
   "metadata": {},
   "outputs": [
    {
     "name": "stdout",
     "output_type": "stream",
     "text": [
      "1000\n",
      "100\n",
      "1000\n",
      "10\n",
      "100\n",
      "1\n",
      "5\n"
     ]
    }
   ],
   "source": [
    "s=\"MCMXCIV\"\n",
    "roman_to_int = {\n",
    "        'I': 1,\n",
    "        'V': 5,\n",
    "        'X': 10,\n",
    "        'L': 50,\n",
    "        'C': 100,\n",
    "        'D': 500,\n",
    "        'M': 1000\n",
    "    }\n",
    "\n",
    "for i in s:\n",
    "    print(roman_to_int[i])"
   ]
  },
  {
   "cell_type": "code",
   "execution_count": null,
   "metadata": {},
   "outputs": [
    {
     "ename": "KeyboardInterrupt",
     "evalue": "",
     "output_type": "error",
     "traceback": [
      "\u001b[1;31m---------------------------------------------------------------------------\u001b[0m",
      "\u001b[1;31mKeyboardInterrupt\u001b[0m                         Traceback (most recent call last)",
      "Cell \u001b[1;32mIn[1], line 11\u001b[0m\n\u001b[0;32m      9\u001b[0m a\u001b[38;5;241m=\u001b[39m\u001b[38;5;241m33333333333333333\u001b[39m\n\u001b[0;32m     10\u001b[0m b\u001b[38;5;241m=\u001b[39m\u001b[38;5;241m66666666666666666666666789\u001b[39m\n\u001b[1;32m---> 11\u001b[0m \u001b[38;5;28mprint\u001b[39m(\u001b[43mlcm\u001b[49m\u001b[43m(\u001b[49m\u001b[43ma\u001b[49m\u001b[43m,\u001b[49m\u001b[43mb\u001b[49m\u001b[43m)\u001b[49m)\n",
      "Cell \u001b[1;32mIn[1], line 6\u001b[0m, in \u001b[0;36mlcm\u001b[1;34m(a, b)\u001b[0m\n\u001b[0;32m      4\u001b[0m \u001b[38;5;66;03m# Increment by the larger number until we find a common multiple\u001b[39;00m\n\u001b[0;32m      5\u001b[0m \u001b[38;5;28;01mwhile\u001b[39;00m \u001b[38;5;28;01mTrue\u001b[39;00m:\n\u001b[1;32m----> 6\u001b[0m     \u001b[38;5;28;01mif\u001b[39;00m \u001b[43mlarger\u001b[49m\u001b[43m \u001b[49m\u001b[38;5;241;43m%\u001b[39;49m\u001b[43m \u001b[49m\u001b[43ma\u001b[49m \u001b[38;5;241m==\u001b[39m \u001b[38;5;241m0\u001b[39m \u001b[38;5;129;01mand\u001b[39;00m larger \u001b[38;5;241m%\u001b[39m b \u001b[38;5;241m==\u001b[39m \u001b[38;5;241m0\u001b[39m:\n\u001b[0;32m      7\u001b[0m         \u001b[38;5;28;01mreturn\u001b[39;00m larger\n\u001b[0;32m      8\u001b[0m     larger \u001b[38;5;241m+\u001b[39m\u001b[38;5;241m=\u001b[39m \u001b[38;5;241m1\u001b[39m\n",
      "\u001b[1;31mKeyboardInterrupt\u001b[0m: "
     ]
    }
   ],
   "source": [
    "def lcm(a, b):\n",
    "    # Start from the maximum of the two numbers\n",
    "    larger = max(a, b)\n",
    "    # Increment by the larger number until we find a common multiple\n",
    "    while True:\n",
    "        if larger % a == 0 and larger % b == 0:\n",
    "            return larger\n",
    "        larger += 1\n",
    "a=33333333333333333\n",
    "b=66666666666666666666666789\n",
    "print(lcm(a,b))"
   ]
  },
  {
   "cell_type": "code",
   "execution_count": null,
   "metadata": {},
   "outputs": [
    {
     "name": "stdout",
     "output_type": "stream",
     "text": [
      "34\n",
      "68\n",
      "102\n",
      "136\n",
      "170\n",
      "204\n",
      "238\n",
      "272\n",
      "306\n",
      "340\n",
      "374\n",
      "408\n",
      "None\n"
     ]
    }
   ],
   "source": [
    "def lcm(a, b):\n",
    "    # Start from the maximum of the two numbers and go up to a * b\n",
    "    max_ab = max(a, b)\n",
    "    for multiple in range(max_ab, a * b + 1, max_ab):\n",
    "        print(multiple)\n",
    "a=12\n",
    "b=34\n",
    "print(lcm(a,b))"
   ]
  },
  {
   "cell_type": "code",
   "execution_count": null,
   "metadata": {},
   "outputs": [
    {
     "name": "stdout",
     "output_type": "stream",
     "text": [
      "66\n"
     ]
    }
   ],
   "source": [
    "a=3\n",
    "b=66\n",
    "m=max(a,b)\n",
    "for i in range(m,a*b+1,m):\n",
    "    if i%a==0 and i%b==0:\n",
    "        print(i)\n",
    "        break"
   ]
  },
  {
   "cell_type": "code",
   "execution_count": null,
   "metadata": {},
   "outputs": [
    {
     "name": "stdout",
     "output_type": "stream",
     "text": [
      "3\n",
      "740740740740740733333334692592592592592579\n"
     ]
    }
   ],
   "source": [
    "def gcd(a, b):\n",
    "    while b:\n",
    "        a, b = b, a % b\n",
    "    return a\n",
    "\n",
    "def lcm(a, b):\n",
    "    return abs(a * b) // gcd(a, b)\n",
    "\n",
    "# Example usage with large numbers\n",
    "a = 33333333333333333\n",
    "b = 66666666666666666666666789\n",
    "\n",
    "print(gcd(a,b))\n",
    "print(lcm(a,b))\n"
   ]
  },
  {
   "cell_type": "code",
   "execution_count": null,
   "metadata": {},
   "outputs": [
    {
     "name": "stdout",
     "output_type": "stream",
     "text": [
      "1\n"
     ]
    }
   ],
   "source": [
    "def gcd(a,b):\n",
    "    while b:\n",
    "        a,b=b,a%b\n",
    "    return a\n",
    "print(gcd(12,23))"
   ]
  },
  {
   "cell_type": "code",
   "execution_count": null,
   "metadata": {},
   "outputs": [
    {
     "name": "stdout",
     "output_type": "stream",
     "text": [
      "2\n"
     ]
    }
   ],
   "source": [
    "#Three numbers or more\n",
    "def hcf(a,b):\n",
    "    while b:\n",
    "        a,b=b,a%b\n",
    "    return a\n",
    "def three_hcf(a,b,c,d):\n",
    "    return hcf(hcf(a,b),hcf(c,d))\n",
    "print(three_hcf(12,34,56,68))"
   ]
  },
  {
   "cell_type": "code",
   "execution_count": null,
   "metadata": {},
   "outputs": [
    {
     "name": "stdout",
     "output_type": "stream",
     "text": [
      "24\n"
     ]
    }
   ],
   "source": [
    "def lcm(a,b):\n",
    "    return abs(a*b)//hcf(a,b)\n",
    "print(lcm(12,24))"
   ]
  },
  {
   "cell_type": "code",
   "execution_count": null,
   "metadata": {},
   "outputs": [
    {
     "name": "stdout",
     "output_type": "stream",
     "text": [
      "24\n"
     ]
    }
   ],
   "source": [
    "import math\n",
    "print(math.lcm(12,24))"
   ]
  },
  {
   "cell_type": "code",
   "execution_count": null,
   "metadata": {},
   "outputs": [
    {
     "name": "stdout",
     "output_type": "stream",
     "text": [
      "58081\n"
     ]
    }
   ],
   "source": [
    "li=[]\n",
    "for i in range(0,241*2):\n",
    "    if i%2!=0:\n",
    "        li.append(i)\n",
    "print(sum(li))"
   ]
  },
  {
   "cell_type": "code",
   "execution_count": null,
   "metadata": {},
   "outputs": [
    {
     "name": "stdout",
     "output_type": "stream",
     "text": [
      "[] ------> 0\n",
      "[1] ------> 1\n",
      "[1, 2] ------> 3\n",
      "[1, 2, 3] ------> 6\n",
      "[1, 2, 3, 4] ------> 10\n",
      "[1, 2, 3, 4, 5] ------> 15\n",
      "[] ------> 0\n",
      "[2] ------> 2\n",
      "[2, 3] ------> 5\n",
      "[2, 3, 4] ------> 9\n",
      "[2, 3, 4, 5] ------> 14\n",
      "[] ------> 0\n",
      "[3] ------> 3\n",
      "[3, 4] ------> 7\n",
      "[3, 4, 5] ------> 12\n",
      "[] ------> 0\n",
      "[4] ------> 4\n",
      "[4, 5] ------> 9\n",
      "[] ------> 0\n",
      "[5] ------> 5\n",
      "[] ------> 0\n"
     ]
    }
   ],
   "source": [
    "arr=[1,2,3,4,5,5]\n",
    "for i in range(len(arr)):\n",
    "    for j in range(i,len(arr)):\n",
    "        print(arr[i:j],\"------>\",sum(arr[i:j]))"
   ]
  },
  {
   "cell_type": "code",
   "execution_count": null,
   "metadata": {},
   "outputs": [
    {
     "name": "stdout",
     "output_type": "stream",
     "text": [
      "[]\n",
      "[4, 5]\n",
      "[3, 4, 5]\n",
      "[2, 3, 4, 5]\n",
      "[1, 2, 3, 4, 5]\n"
     ]
    }
   ],
   "source": [
    "arr=[1,2,3,4,5]\n",
    "for i in range(1,len(arr)+1):\n",
    "    print(arr[-i:-((-i)-3)])"
   ]
  },
  {
   "cell_type": "code",
   "execution_count": null,
   "metadata": {},
   "outputs": [
    {
     "name": "stdout",
     "output_type": "stream",
     "text": [
      "###MoveHashtoFront\n"
     ]
    }
   ],
   "source": [
    "n=\"Move#Hash#to#Front\"\n",
    "s=\"\"\n",
    "for i in n:\n",
    "    if i==\"#\":\n",
    "        s+=i\n",
    "for j in n:\n",
    "    if j!=\"#\":\n",
    "        s+=j\n",
    "print(s)"
   ]
  },
  {
   "cell_type": "code",
   "execution_count": null,
   "metadata": {},
   "outputs": [
    {
     "name": "stdout",
     "output_type": "stream",
     "text": [
      "3\n",
      "###MoveHashtoFront\n"
     ]
    }
   ],
   "source": [
    "n = \"Move#Hash#to#Front\"\n",
    "s = \"\"\n",
    "\n",
    "# First pass to count the number of '#' characters\n",
    "hash_count = 0\n",
    "for i in n:\n",
    "    if i == \"#\":\n",
    "        hash_count += 1\n",
    "print(hash_count)\n",
    "\n",
    "# Second pass to construct the result string\n",
    "for i in n:\n",
    "    if i != \"#\":\n",
    "        s += i\n",
    "\n",
    "# Prepend the '#' characters\n",
    "s = \"#\" * hash_count + s\n",
    "\n",
    "print(s)\n"
   ]
  },
  {
   "cell_type": "code",
   "execution_count": null,
   "metadata": {},
   "outputs": [
    {
     "name": "stdout",
     "output_type": "stream",
     "text": [
      "heLLo worLd\n"
     ]
    }
   ],
   "source": [
    "n=\"hello world\"\n",
    "k=\"l\"\n",
    "s=\"\"\n",
    "for i in n:\n",
    "    if i==k:\n",
    "        print(n.replace(i,i.upper()))\n",
    "        break\n"
   ]
  },
  {
   "cell_type": "code",
   "execution_count": null,
   "metadata": {},
   "outputs": [
    {
     "name": "stdout",
     "output_type": "stream",
     "text": [
      "a1b2c5\n"
     ]
    }
   ],
   "source": [
    "n=\"abbccccc\"\n",
    "s=\"\"\n",
    "li=[]\n",
    "for i in n:\n",
    "    if i not in s:\n",
    "        s+=i\n",
    "for j in range(len(n)):\n",
    "    li.append(n.count(n[j]))\n",
    "a=(sorted(set(li)))\n",
    "li=[]\n",
    "for i in range(len(s)):\n",
    "   li.append(s[i])\n",
    "   li.append(a[i])\n",
    "print(\"\".join(map(str,li)))"
   ]
  },
  {
   "cell_type": "code",
   "execution_count": null,
   "metadata": {},
   "outputs": [],
   "source": [
    "n = \"abbccccc\"\n",
    "\n",
    "# Use a dictionary to count occurrences\n",
    "char_count = {}\n",
    "for char in n:\n",
    "    if char in char_count:\n",
    "        char_count[char] += 1\n",
    "    else:\n",
    "        char_count[char] = 1\n",
    "\n",
    "# Convert the dictionary to the desired format\n",
    "result = []\n",
    "for char in char_count:\n",
    "    result.append(char)\n",
    "    if char_count[char] > 1:\n",
    "        result.append(str(char_count[char]))\n",
    "\n",
    "# Convert list to string and print\n",
    "print(\"\".join(result))"
   ]
  },
  {
   "cell_type": "code",
   "execution_count": null,
   "metadata": {},
   "outputs": [
    {
     "name": "stdout",
     "output_type": "stream",
     "text": [
      "[1, 2]\n"
     ]
    }
   ],
   "source": [
    "nums=[1,1]\n",
    "li=[]\n",
    "for i in nums:\n",
    "    if nums.count(i)>1:\n",
    "        li.append(i)\n",
    "a=(list(set(li)))\n",
    "a.append(a[0]+1)\n",
    "print(a)"
   ]
  },
  {
   "cell_type": "code",
   "execution_count": null,
   "metadata": {},
   "outputs": [
    {
     "name": "stdout",
     "output_type": "stream",
     "text": [
      "[1, 2]\n"
     ]
    }
   ],
   "source": [
    "nums=[1,1]\n",
    "li=[]\n",
    "for i in nums:\n",
    "    if i not in li:\n",
    "        li.append(i)\n",
    "    elif i in li:\n",
    "        li.append(i+1)\n",
    "for k in nums:\n",
    "    if (nums.count(k)>1):\n",
    "        a=(nums.index(k))\n",
    "        break\n",
    "print([li[a],li[a+1]])"
   ]
  },
  {
   "cell_type": "code",
   "execution_count": null,
   "metadata": {},
   "outputs": [
    {
     "name": "stdout",
     "output_type": "stream",
     "text": [
      "[2, 3]\n"
     ]
    }
   ],
   "source": [
    "nums=[1,2,2,4]\n",
    "d={}\n",
    "dup=0\n",
    "m=0\n",
    "for i in nums:\n",
    "    if i in d:\n",
    "        d[i]+=1\n",
    "    else:\n",
    "        d[i]=1\n",
    "for j in d:\n",
    "    if d[j]==2:\n",
    "        dup=j\n",
    "for k in range(1,len(nums)+1):\n",
    "    if k not in nums:\n",
    "        m=k\n",
    "        break\n",
    "print([dup,k])"
   ]
  },
  {
   "cell_type": "code",
   "execution_count": null,
   "metadata": {},
   "outputs": [
    {
     "name": "stdout",
     "output_type": "stream",
     "text": [
      "[1, 2, 3, 4, 5]\n"
     ]
    }
   ],
   "source": [
    "def zoro(n):\n",
    "    li=[]\n",
    "    for i in range(n):\n",
    "        s=int(input(\"Enter\"))\n",
    "        li.append(s)\n",
    "    print(li)  \n",
    "n=int(input(\"Enter\"))\n",
    "zoro(n)"
   ]
  },
  {
   "cell_type": "code",
   "execution_count": null,
   "metadata": {},
   "outputs": [
    {
     "ename": "IndexError",
     "evalue": "pop index out of range",
     "output_type": "error",
     "traceback": [
      "\u001b[1;31m---------------------------------------------------------------------------\u001b[0m",
      "\u001b[1;31mIndexError\u001b[0m                                Traceback (most recent call last)",
      "Cell \u001b[1;32mIn[30], line 4\u001b[0m\n\u001b[0;32m      2\u001b[0m li\u001b[38;5;241m=\u001b[39m[]\n\u001b[0;32m      3\u001b[0m \u001b[38;5;28;01mfor\u001b[39;00m i \u001b[38;5;129;01min\u001b[39;00m \u001b[38;5;28mrange\u001b[39m(\u001b[38;5;28mlen\u001b[39m(nums)):\n\u001b[1;32m----> 4\u001b[0m     \u001b[43mnums\u001b[49m\u001b[38;5;241;43m.\u001b[39;49m\u001b[43mpop\u001b[49m\u001b[43m(\u001b[49m\u001b[43mi\u001b[49m\u001b[43m)\u001b[49m\n\u001b[0;32m      5\u001b[0m     li\u001b[38;5;241m.\u001b[39mappend(\u001b[38;5;28msum\u001b[39m(nums))\n\u001b[0;32m      6\u001b[0m \u001b[38;5;28mprint\u001b[39m(li)\n",
      "\u001b[1;31mIndexError\u001b[0m: pop index out of range"
     ]
    }
   ],
   "source": [
    "nums=[1,2,3,4]\n",
    "li=[]\n",
    "for i in range(len(nums)):\n",
    "    nums.pop(i)\n",
    "    li.append(sum(nums))\n",
    "print(li)"
   ]
  },
  {
   "cell_type": "code",
   "execution_count": null,
   "metadata": {},
   "outputs": [
    {
     "name": "stdout",
     "output_type": "stream",
     "text": [
      "[9, 8, 7, 6]\n"
     ]
    }
   ],
   "source": [
    "nums = [1, 2, 3, 4]\n",
    "li = []\n",
    "\n",
    "for i in range(len(nums)):\n",
    "    temp_nums = nums[:i] + nums[i+1:]  # Create a copy of nums excluding the current element\n",
    "    li.append(sum(temp_nums))\n",
    "\n",
    "print(li)\n"
   ]
  },
  {
   "cell_type": "code",
   "execution_count": null,
   "metadata": {},
   "outputs": [
    {
     "name": "stdout",
     "output_type": "stream",
     "text": [
      "[1, 2, 3]\n",
      "[1, 2, 3]\n",
      "[1, 2, 3]\n",
      "[1, 2, 3]\n"
     ]
    }
   ],
   "source": [
    "nums = [1, 2, 3, 4]\n",
    "for i in range(len(nums)):\n",
    "    print(nums[:3]+nums[3+1:])"
   ]
  },
  {
   "cell_type": "code",
   "execution_count": null,
   "metadata": {},
   "outputs": [
    {
     "name": "stdout",
     "output_type": "stream",
     "text": [
      "{2}\n"
     ]
    }
   ],
   "source": [
    "nums=[2,1,2]\n",
    "s=set()\n",
    "for i in nums:\n",
    "    if nums.count(i)>1:\n",
    "        s.add(i)\n",
    "if list(s)[0] > len(nums)//list(s)[0]:\n",
    "    print(s)"
   ]
  },
  {
   "cell_type": "code",
   "execution_count": null,
   "metadata": {},
   "outputs": [
    {
     "name": "stdout",
     "output_type": "stream",
     "text": [
      "[1, 'RORO', 3, 'RORO', 5, 'RORO', 7, 'RORO', 9, 'RORO', 11, 'RORO', 13, 'RORO', 15, 'RORO', 17, 'RORO', 19]\n"
     ]
    }
   ],
   "source": [
    "li=[]\n",
    "for i in range(1,20):\n",
    "    if i%2==0:\n",
    "        li.append(\"RORO\")\n",
    "    else:\n",
    "        li.append(i)\n",
    "print(li)"
   ]
  },
  {
   "cell_type": "code",
   "execution_count": null,
   "metadata": {},
   "outputs": [
    {
     "name": "stdout",
     "output_type": "stream",
     "text": [
      "[1, 4]\n",
      "[3, 2]\n"
     ]
    }
   ],
   "source": [
    "li=[1,3,4,2,5]\n",
    "arr=[]\n",
    "for i in range(len(li)):\n",
    "    for j in range(i+1,len(li)):\n",
    "        if li[i:j+1]:\n",
    "            arr.append([li[i],li[j]])\n",
    "for k in arr:\n",
    "    if sum(k)==5:\n",
    "        print(k)"
   ]
  },
  {
   "cell_type": "code",
   "execution_count": null,
   "metadata": {},
   "outputs": [
    {
     "name": "stdout",
     "output_type": "stream",
     "text": [
      "[7, -1, 7, -1, -1, -1]\n"
     ]
    }
   ],
   "source": [
    "def next_greater_element(arr):\n",
    "    n = len(arr)\n",
    "    nge = [-1] * n  # Initialize all elements in the result as -1\n",
    "\n",
    "    for i in range(n):\n",
    "        for j in range(i + 1, n):\n",
    "            if arr[j] > arr[i]:\n",
    "                nge[i] = arr[j]\n",
    "                break  # Break as soon as we find the next greater element\n",
    "\n",
    "    return nge\n",
    "\n",
    "arr2 = [5, 7, 1, 7, 6, 0]\n",
    "print(next_greater_element(arr2))  # Output: [7, -1, 7, -1, -1, -1]\n"
   ]
  },
  {
   "cell_type": "code",
   "execution_count": null,
   "metadata": {},
   "outputs": [
    {
     "name": "stdout",
     "output_type": "stream",
     "text": [
      "[7, -1, 7, -1, -1, -1]\n"
     ]
    }
   ],
   "source": [
    "arr =  [5, 7, 1, 7, 6, 0]\n",
    "li=[-1]*len(arr)\n",
    "for i in range(len(arr)):\n",
    "    for j in range(i,len(arr)):\n",
    "        if arr[j]>arr[i]:\n",
    "            li[i]=arr[j]\n",
    "            break\n",
    "print(li)"
   ]
  },
  {
   "cell_type": "code",
   "execution_count": null,
   "metadata": {},
   "outputs": [
    {
     "name": "stdout",
     "output_type": "stream",
     "text": [
      "6\n"
     ]
    }
   ],
   "source": [
    "arr = [-2, 1, -3, 4, -1, 2, 1, -5, 4]\n",
    "c_sum=arr[0]\n",
    "m_sum=arr[0]\n",
    "for i in range(1,len(arr)):\n",
    "    c_sum=max(arr[i],c_sum+arr[i])\n",
    "    m_sum=max(m_sum,c_sum)\n",
    "print(m_sum)"
   ]
  },
  {
   "cell_type": "code",
   "execution_count": null,
   "metadata": {},
   "outputs": [
    {
     "name": "stdout",
     "output_type": "stream",
     "text": [
      "['banana', 'banana', 'banana']\n"
     ]
    }
   ],
   "source": [
    "arr=[\"apple\",\"cherry\",\"smk\",\"banana\"]\n",
    "li=[]\n",
    "for i in range(1,len(arr)):\n",
    "    li.append(arr[-1])\n",
    "print(li)"
   ]
  },
  {
   "cell_type": "code",
   "execution_count": null,
   "metadata": {},
   "outputs": [
    {
     "name": "stdout",
     "output_type": "stream",
     "text": [
      "a\n",
      "B\n",
      "b\n",
      "C\n",
      "c\n",
      "D\n"
     ]
    }
   ],
   "source": [
    "s=\"abcd\"\n",
    "li=[]\n",
    "for i in range(len(s)-1):\n",
    "    li.append(s[i].lower())\n",
    "    li.append(s[i+1].upper())\n",
    "\n",
    "\n",
    "for j in range(len(li)):\n",
    "    print(li[j])"
   ]
  },
  {
   "cell_type": "code",
   "execution_count": null,
   "metadata": {},
   "outputs": [
    {
     "name": "stdout",
     "output_type": "stream",
     "text": [
      "['l', 'E', 'e', 'A', 'a', 'R', 'r', 'N', 'n', ' ', ' ', 'T', 't', 'O', 'o', ' ', ' ', 'C', 'c', 'O', 'o', 'D', 'd', 'E']\n"
     ]
    }
   ],
   "source": [
    "s = \"learn to code\"\n",
    "li = []\n",
    "for i in range(len(s) - 1):\n",
    "    li.append(s[i].lower())\n",
    "    li.append(s[i + 1].upper())\n",
    "\n",
    "# Create the final list with separate elements\n",
    "formatted_output = [li[j] for j in range(len(li))]\n",
    "\n",
    "print(formatted_output)\n"
   ]
  },
  {
   "cell_type": "code",
   "execution_count": null,
   "metadata": {},
   "outputs": [
    {
     "name": "stdout",
     "output_type": "stream",
     "text": [
      "['l', 'E', 'a', 'R', 'n', ' ', 't', 'O', ' ', 'C', 'o', 'D', 'e']\n"
     ]
    }
   ],
   "source": [
    "s = \"learn to code\"\n",
    "li = []\n",
    "\n",
    "for i in range(len(s)):\n",
    "    if i % 2 == 0:\n",
    "        li.append(s[i].lower())\n",
    "    else:\n",
    "        li.append(s[i].upper())\n",
    "\n",
    "print(li)\n"
   ]
  },
  {
   "cell_type": "code",
   "execution_count": null,
   "metadata": {},
   "outputs": [
    {
     "name": "stdout",
     "output_type": "stream",
     "text": [
      "pRoGrAmIzPrO1233\n",
      "lEaRn tO CoDee\n"
     ]
    }
   ],
   "source": [
    "def to_spongecase(text):\n",
    "    s = \"\"\n",
    "    index = 0  # This index will only count alphabetic characters\n",
    "\n",
    "    for char in text:\n",
    "        if char.isalpha():\n",
    "            if index % 2 == 0:\n",
    "                s += char.lower()\n",
    "            else:\n",
    "                s += char.upper()\n",
    "            index += 1  # Increment index only for alphabetic characters\n",
    "        else:\n",
    "            s += char  # Non-alphabet characters remain unchanged\n",
    "\n",
    "    return s\n",
    "\n",
    "# Example usage:\n",
    "print(to_spongecase(\"programizpro123\"))  # Output: pRoGrAmIzPrO123\n",
    "print(to_spongecase(\"learn to code\"))    # Output: lEaRn To CoDe\n"
   ]
  },
  {
   "cell_type": "code",
   "execution_count": null,
   "metadata": {},
   "outputs": [
    {
     "name": "stdout",
     "output_type": "stream",
     "text": [
      "0\n"
     ]
    }
   ],
   "source": [
    "print(0%2)"
   ]
  },
  {
   "cell_type": "code",
   "execution_count": null,
   "metadata": {},
   "outputs": [
    {
     "data": {
      "text/plain": [
       "'learn to code'"
      ]
     },
     "execution_count": 20,
     "metadata": {},
     "output_type": "execute_result"
    }
   ],
   "source": [
    "s = \"learn to code\"\n",
    "print()\n",
    "s"
   ]
  },
  {
   "cell_type": "code",
   "execution_count": null,
   "metadata": {},
   "outputs": [
    {
     "name": "stdout",
     "output_type": "stream",
     "text": [
      "*****5678\n"
     ]
    }
   ],
   "source": [
    "li=\"123455678\"\n",
    "l1=li[-4:]\n",
    "l2=li[:-4]\n",
    "s=\"\"\n",
    "for i in range(len(l2)):\n",
    "    s+=(\"*\")\n",
    "print(s+l1[-4:])\n",
    "\n",
    "    "
   ]
  },
  {
   "cell_type": "code",
   "execution_count": null,
   "metadata": {},
   "outputs": [
    {
     "name": "stdout",
     "output_type": "stream",
     "text": [
      "0\n",
      "1\n",
      "6\n"
     ]
    },
    {
     "ename": "IndexError",
     "evalue": "string index out of range",
     "output_type": "error",
     "traceback": [
      "\u001b[1;31m---------------------------------------------------------------------------\u001b[0m",
      "\u001b[1;31mIndexError\u001b[0m                                Traceback (most recent call last)",
      "Cell \u001b[1;32mIn[5], line 4\u001b[0m\n\u001b[0;32m      2\u001b[0m s1\u001b[38;5;241m=\u001b[39m\u001b[38;5;28mstr\u001b[39m(n)\n\u001b[0;32m      3\u001b[0m \u001b[38;5;28;01mfor\u001b[39;00m i \u001b[38;5;129;01min\u001b[39;00m \u001b[38;5;28mrange\u001b[39m(\u001b[38;5;28mlen\u001b[39m(s1)\u001b[38;5;241m+\u001b[39m\u001b[38;5;241m1\u001b[39m):\n\u001b[1;32m----> 4\u001b[0m     \u001b[38;5;28mprint\u001b[39m(\u001b[38;5;28mint\u001b[39m(\u001b[43ms1\u001b[49m\u001b[43m[\u001b[49m\u001b[43mi\u001b[49m\u001b[43m]\u001b[49m)\u001b[38;5;241m^\u001b[39mi\u001b[38;5;241m+\u001b[39m\u001b[38;5;241m1\u001b[39m)\n",
      "\u001b[1;31mIndexError\u001b[0m: string index out of range"
     ]
    }
   ],
   "source": [
    "n=135\n",
    "s1=str(n)\n",
    "for i in range(len(s1)+1):\n",
    "    print(int(s1[i])^i+1)"
   ]
  },
  {
   "cell_type": "code",
   "execution_count": null,
   "metadata": {},
   "outputs": [
    {
     "name": "stdout",
     "output_type": "stream",
     "text": [
      "1\n"
     ]
    }
   ],
   "source": [
    "print(1^1+3^2+5^3)"
   ]
  },
  {
   "cell_type": "code",
   "execution_count": null,
   "metadata": {},
   "outputs": [
    {
     "name": "stdout",
     "output_type": "stream",
     "text": [
      "6\n"
     ]
    }
   ],
   "source": [
    "nums=[1,0,1,1,0,0,1]\n",
    "z=nums.count(0)\n",
    "o=nums.count(1)\n",
    "print(min(z,o)*2)"
   ]
  },
  {
   "cell_type": "code",
   "execution_count": null,
   "metadata": {},
   "outputs": [
    {
     "name": "stdout",
     "output_type": "stream",
     "text": [
      "6\n"
     ]
    }
   ],
   "source": [
    "Nums= [-2,1,-3,4,-1,2,1,-5,4]\n",
    "c_sum=Nums[0]\n",
    "m_sum=Nums[0]\n",
    "for i in range(1,len(Nums)):\n",
    "    c_sum=max(Nums[i],c_sum+Nums[i])\n",
    "    m_sum=max(m_sum,c_sum)\n",
    "print(m_sum)"
   ]
  },
  {
   "cell_type": "code",
   "execution_count": null,
   "metadata": {},
   "outputs": [
    {
     "name": "stdout",
     "output_type": "stream",
     "text": [
      "10 : 3\n",
      "5 : 2\n",
      "15 : 1\n"
     ]
    }
   ],
   "source": [
    "arr= [10,5,10,15,10,5]\n",
    "for i in set(arr):\n",
    "    print(i,\":\",arr.count(i))"
   ]
  },
  {
   "cell_type": "code",
   "execution_count": null,
   "metadata": {},
   "outputs": [],
   "source": [
    "li=[1,4,2,5]\n"
   ]
  },
  {
   "cell_type": "code",
   "execution_count": null,
   "metadata": {},
   "outputs": [
    {
     "name": "stdout",
     "output_type": "stream",
     "text": [
      "roronoa\n"
     ]
    }
   ],
   "source": [
    "s=\"Zoro uchiha roronoa qwertyy\"\n",
    "li=s.split()\n",
    "m=\"\"\n",
    "for i in li:\n",
    "    c=i\n",
    "    if len(c)>len(m):\n",
    "        m=c\n",
    "print(m)"
   ]
  },
  {
   "cell_type": "code",
   "execution_count": null,
   "metadata": {},
   "outputs": [
    {
     "name": "stdout",
     "output_type": "stream",
     "text": [
      "roronoa\n"
     ]
    }
   ],
   "source": [
    "s=\"Zoro uchiha roronoa qwertyy\"\n",
    "li=s.split()\n",
    "print(max(li,key=len))"
   ]
  },
  {
   "cell_type": "code",
   "execution_count": null,
   "metadata": {},
   "outputs": [
    {
     "name": "stdout",
     "output_type": "stream",
     "text": [
      "1\n"
     ]
    }
   ],
   "source": [
    "arr=[6,4,1,2,5,-1,-3]\n",
    "li=[]\n",
    "for i in arr:\n",
    "    if i>0:\n",
    "        li.append(i)\n",
    "print(min(li))"
   ]
  },
  {
   "cell_type": "code",
   "execution_count": null,
   "metadata": {},
   "outputs": [
    {
     "name": "stdout",
     "output_type": "stream",
     "text": [
      "49\n"
     ]
    },
    {
     "ename": "ValueError",
     "evalue": "invalid literal for int() with base 7: '-7'",
     "output_type": "error",
     "traceback": [
      "\u001b[1;31m---------------------------------------------------------------------------\u001b[0m",
      "\u001b[1;31mValueError\u001b[0m                                Traceback (most recent call last)",
      "Cell \u001b[1;32mIn[1], line 5\u001b[0m\n\u001b[0;32m      2\u001b[0m     \u001b[38;5;28;01mreturn\u001b[39;00m \u001b[38;5;28mstr\u001b[39m(\u001b[38;5;28mint\u001b[39m(\u001b[38;5;124mf\u001b[39m\u001b[38;5;124m\"\u001b[39m\u001b[38;5;132;01m{\u001b[39;00mnum\u001b[38;5;132;01m:\u001b[39;00m\u001b[38;5;124m+d\u001b[39m\u001b[38;5;132;01m}\u001b[39;00m\u001b[38;5;124m\"\u001b[39m, base\u001b[38;5;241m=\u001b[39m\u001b[38;5;241m7\u001b[39m))\n\u001b[0;32m      4\u001b[0m \u001b[38;5;28mprint\u001b[39m(convertToBase7(\u001b[38;5;241m100\u001b[39m))  \u001b[38;5;66;03m# Output: \"202\"\u001b[39;00m\n\u001b[1;32m----> 5\u001b[0m \u001b[38;5;28mprint\u001b[39m(\u001b[43mconvertToBase7\u001b[49m\u001b[43m(\u001b[49m\u001b[38;5;241;43m-\u001b[39;49m\u001b[38;5;241;43m7\u001b[39;49m\u001b[43m)\u001b[49m)   \u001b[38;5;66;03m# Output: \"-10\"\u001b[39;00m\n",
      "Cell \u001b[1;32mIn[1], line 2\u001b[0m, in \u001b[0;36mconvertToBase7\u001b[1;34m(num)\u001b[0m\n\u001b[0;32m      1\u001b[0m \u001b[38;5;28;01mdef\u001b[39;00m \u001b[38;5;21mconvertToBase7\u001b[39m(num):\n\u001b[1;32m----> 2\u001b[0m     \u001b[38;5;28;01mreturn\u001b[39;00m \u001b[38;5;28mstr\u001b[39m(\u001b[38;5;28;43mint\u001b[39;49m\u001b[43m(\u001b[49m\u001b[38;5;124;43mf\u001b[39;49m\u001b[38;5;124;43m\"\u001b[39;49m\u001b[38;5;132;43;01m{\u001b[39;49;00m\u001b[43mnum\u001b[49m\u001b[38;5;132;43;01m:\u001b[39;49;00m\u001b[38;5;124;43m+d\u001b[39;49m\u001b[38;5;132;43;01m}\u001b[39;49;00m\u001b[38;5;124;43m\"\u001b[39;49m\u001b[43m,\u001b[49m\u001b[43m \u001b[49m\u001b[43mbase\u001b[49m\u001b[38;5;241;43m=\u001b[39;49m\u001b[38;5;241;43m7\u001b[39;49m\u001b[43m)\u001b[49m)\n",
      "\u001b[1;31mValueError\u001b[0m: invalid literal for int() with base 7: '-7'"
     ]
    }
   ],
   "source": [
    "def convertToBase7(num):\n",
    "    return str(int(f\"{num:+d}\", base=7))\n",
    "\n",
    "print(convertToBase7(100))  # Output: \"202\"\n",
    "print(convertToBase7(-7))   # Output: \"-10\"\n"
   ]
  },
  {
   "cell_type": "code",
   "execution_count": null,
   "metadata": {},
   "outputs": [
    {
     "name": "stdout",
     "output_type": "stream",
     "text": [
      "[1, 4]\n",
      "[3, 2]\n"
     ]
    }
   ],
   "source": [
    "nums = [1,4,3,2]\n",
    "li=[[]]\n",
    "for i in range(len(nums)):\n",
    "    li.append(nums[i:i+2])\n",
    "arr=(li[1::2])\n",
    "s=[]\n",
    "for j in arr:\n",
    "    print(j)"
   ]
  },
  {
   "cell_type": "code",
   "execution_count": null,
   "metadata": {},
   "outputs": [
    {
     "name": "stdout",
     "output_type": "stream",
     "text": [
      "[1, 3]\n",
      "[4, 2]\n"
     ]
    }
   ],
   "source": [
    "nums= [1,4,3,2]\n",
    "print(nums[0::2])\n",
    "print(nums[1::2])"
   ]
  },
  {
   "cell_type": "code",
   "execution_count": null,
   "metadata": {},
   "outputs": [
    {
     "name": "stdout",
     "output_type": "stream",
     "text": [
      "22\n"
     ]
    }
   ],
   "source": [
    "Nums= [6,2,6,5,1,2]\n",
    "c_sum=Nums[0]\n",
    "m_sum=Nums[0]\n",
    "for i in range(1,len(Nums)):\n",
    "    c_sum=max(Nums[i],c_sum+Nums[i])\n",
    "    m_sum=max(m_sum,c_sum)\n",
    "print(m_sum)"
   ]
  },
  {
   "cell_type": "code",
   "execution_count": null,
   "metadata": {},
   "outputs": [
    {
     "name": "stdout",
     "output_type": "stream",
     "text": [
      "9\n"
     ]
    }
   ],
   "source": [
    "nums= [6,2,6,5,1,2]\n",
    "nums.sort()\n",
    "for i in range(0,len(nums),2):\n",
    "    print(sum(nums[i] for i in range(0,len(nums),2)))\n",
    "    break"
   ]
  },
  {
   "cell_type": "code",
   "execution_count": null,
   "metadata": {},
   "outputs": [
    {
     "name": "stdout",
     "output_type": "stream",
     "text": [
      "[0, 1, 1, 2, 3, 5, 8]\n"
     ]
    }
   ],
   "source": [
    "n=4\n",
    "li=[0,1]\n",
    "a=[]\n",
    "for i in range(n):\n",
    "    li.append(li[-1]+li[-2])\n",
    "for j in range(len(li)-1):\n",
    "    if li[j]+li[j+1]==n:\n",
    "        "
   ]
  },
  {
   "cell_type": "code",
   "execution_count": null,
   "metadata": {},
   "outputs": [
    {
     "name": "stdout",
     "output_type": "stream",
     "text": [
      "Generated sequence: [0, 1, 1, 2, 3, 5]\n",
      "Pairs that sum to 4 : []\n"
     ]
    }
   ],
   "source": [
    "n = 4\n",
    "li = [0, 1]  # Initial Fibonacci-like sequence starting values\n",
    "a = []\n",
    "\n",
    "# Generate the sequence up to n elements\n",
    "for i in range(n):\n",
    "    li.append(li[-1] + li[-2])  # Append the sum of the last two elements to the list\n",
    "\n",
    "# Check for pairs whose sum equals n\n",
    "for j in range(len(li) - 1):\n",
    "    if li[j] + li[j + 1] == n:\n",
    "        a.append((li[j], li[j + 1]))\n",
    "\n",
    "# Output the pairs\n",
    "print(\"Generated sequence:\", li)\n",
    "print(\"Pairs that sum to\", n, \":\", a)\n"
   ]
  },
  {
   "cell_type": "code",
   "execution_count": null,
   "metadata": {},
   "outputs": [
    {
     "name": "stdout",
     "output_type": "stream",
     "text": [
      "1\n",
      "2\n",
      "3\n",
      "5\n",
      "8\n"
     ]
    }
   ],
   "source": [
    "def fib(n):\n",
    "    if n == 0:\n",
    "        return 0\n",
    "    elif n == 1:\n",
    "        return 1\n",
    "    \n",
    "    a, b = 0, 1  # F(0) and F(1)\n",
    "    for i in range(2, n + 1):\n",
    "        a, b = b, a + b\n",
    "    \n",
    "    return b\n",
    "\n",
    "# Test cases\n",
    "print(fib(2))  # Output: 1\n",
    "print(fib(3))  # Output: 2\n",
    "print(fib(4))  # Output: 3\n",
    "print(fib(5))  # Output: 5\n",
    "print(fib(6))  # Output: 8\n"
   ]
  },
  {
   "cell_type": "code",
   "execution_count": null,
   "metadata": {},
   "outputs": [
    {
     "data": {
      "text/plain": [
       "1"
      ]
     },
     "execution_count": 16,
     "metadata": {},
     "output_type": "execute_result"
    }
   ],
   "source": [
    "b=\"1111\"\n",
    "ones=b.count(\"1\")\n",
    "zeros=b.count(\"0\")\n"
   ]
  },
  {
   "cell_type": "code",
   "execution_count": null,
   "metadata": {},
   "outputs": [
    {
     "name": "stdout",
     "output_type": "stream",
     "text": [
      "1\n"
     ]
    }
   ],
   "source": [
    "s=\"1110\"\n",
    "ans1 =0\n",
    "ans2 = 0\n",
    "for i in range(len(s)):\n",
    "    if i % 2 == int(s[i]):\n",
    "        ans1 += 1\n",
    "    else:\n",
    "        ans2 += 1\n",
    "print(min(ans1, ans2))"
   ]
  },
  {
   "cell_type": "code",
   "execution_count": null,
   "metadata": {},
   "outputs": [
    {
     "name": "stdout",
     "output_type": "stream",
     "text": [
      "tdar\n"
     ]
    }
   ],
   "source": [
    "s=\"dart\"\n",
    "k=3\n",
    "li=[]\n",
    "for i in range(len(s)):\n",
    "    li.append(s[(i+k)%len(s)])\n",
    "print(\"\".join(li))"
   ]
  },
  {
   "cell_type": "code",
   "execution_count": null,
   "metadata": {},
   "outputs": [
    {
     "name": "stdout",
     "output_type": "stream",
     "text": [
      "3\n"
     ]
    }
   ],
   "source": [
    "nums = [1,1,0,1,1,1]\n",
    "s1=\"\".join(map(str,nums))\n",
    "m=(max(list(set(s1.split(\"0\")))))\n",
    "c=0\n",
    "for i in m:\n",
    "    c+=1\n",
    "print(c)"
   ]
  },
  {
   "cell_type": "code",
   "execution_count": null,
   "metadata": {},
   "outputs": [
    {
     "name": "stdout",
     "output_type": "stream",
     "text": [
      "1\n"
     ]
    }
   ],
   "source": [
    "n = [[1,2],[1,2],[1,2]]\n",
    "li=[]\n",
    "for i in n:\n",
    "    li.append(sum(i))\n",
    "for j in range(len(li)-1):\n",
    "    if li[j]>li[j+1]:\n",
    "        s1=(li[j+1])\n",
    "for k in n:\n",
    "    if sum(k)==s1:\n",
    "        print(len([k]))\n",
    "    else:\n",
    "        print(len([n[0]]))\n",
    "        break"
   ]
  },
  {
   "cell_type": "code",
   "execution_count": null,
   "metadata": {},
   "outputs": [
    {
     "data": {
      "text/plain": [
       "[[1, 2], [1, 3], [2, 3], [3, 4]]"
      ]
     },
     "execution_count": 41,
     "metadata": {},
     "output_type": "execute_result"
    }
   ],
   "source": [
    "n=[[1,2],[2,3],[3,4],[1,3]]\n",
    "n.sort(key=lambda x: x[0])\n",
    "n"
   ]
  },
  {
   "cell_type": "code",
   "execution_count": null,
   "metadata": {},
   "outputs": [
    {
     "data": {
      "text/plain": [
       "-inf"
      ]
     },
     "execution_count": 42,
     "metadata": {},
     "output_type": "execute_result"
    }
   ],
   "source": [
    "prev_end = float('-inf')\n",
    "prev_end"
   ]
  },
  {
   "cell_type": "code",
   "execution_count": null,
   "metadata": {},
   "outputs": [],
   "source": [
    "s = \"abca\"\n",
    "li=[]\n",
    "for i in range(len(s)):\n",
    "    if s[i]==s[i-1]:\n",
    "        li.append(s[i])\n",
    "for j in range(len(s)):\n",
    "    if s[i]!=li[0]:\n",
    "        print(s[i])"
   ]
  },
  {
   "cell_type": "code",
   "execution_count": null,
   "metadata": {},
   "outputs": [
    {
     "name": "stdout",
     "output_type": "stream",
     "text": [
      "0 a\n",
      "1 b\n",
      "2 c\n",
      "3 a\n"
     ]
    }
   ],
   "source": [
    "s = \"abca\"\n",
    "for i,char in enumerate(s):\n",
    "    print(i,char)"
   ]
  },
  {
   "cell_type": "code",
   "execution_count": null,
   "metadata": {},
   "outputs": [
    {
     "name": "stdout",
     "output_type": "stream",
     "text": [
      "b\n",
      "c\n"
     ]
    }
   ],
   "source": [
    "s = \"abca\"\n",
    "for i in s:\n",
    "    if s.count(i)==1:\n",
    "        print(i)\n",
    "        "
   ]
  },
  {
   "cell_type": "code",
   "execution_count": null,
   "metadata": {},
   "outputs": [
    {
     "name": "stdout",
     "output_type": "stream",
     "text": [
      "2\n"
     ]
    }
   ],
   "source": [
    "s =\"abca\"\n",
    "if len(set(s)) == len(s):\n",
    "    print(\"-1\")\n",
    "else:\n",
    "    li=[]\n",
    "    for i in s:\n",
    "        if s.count(i)==1:\n",
    "            li.append(i)\n",
    "if (len(li))==0:\n",
    "    print(\"0\")\n",
    "else:\n",
    "    print(len(li))\n",
    "       "
   ]
  },
  {
   "cell_type": "code",
   "execution_count": null,
   "metadata": {},
   "outputs": [],
   "source": [
    "nums= [1, 3, 4, 4, 7]\n",
    "li=[]\n",
    "for i in range(len(nums)-1):\n",
    "    if (abs(nums[i]-nums[i+1])==2):\n",
    "        li.append(nums[i:i+3])\n",
    "for j in range(len(li)):\n",
    "    if sum(li[j])%2!=0:\n",
    "        print(li[j])"
   ]
  },
  {
   "cell_type": "code",
   "execution_count": null,
   "metadata": {},
   "outputs": [
    {
     "name": "stdout",
     "output_type": "stream",
     "text": [
      "[1, 3]\n"
     ]
    }
   ],
   "source": [
    "nums = [1, 3, 4, 4, 7]\n",
    "start = 0  # Index to track the start of a sequence\n",
    "\n",
    "for i in range(1, len(nums)):\n",
    "    if abs(nums[i] - nums[i - 1]) != 2:\n",
    "        if i - start > 1:  # Check if the sequence has more than one element\n",
    "            print(nums[start:i])\n",
    "        start = i  # Update start to the current number\n",
    "\n",
    "# Print the last sequence if it exists\n",
    "if len(nums) - start > 1:\n",
    "    print(nums[start:])\n"
   ]
  },
  {
   "cell_type": "code",
   "execution_count": null,
   "metadata": {},
   "outputs": [
    {
     "name": "stdout",
     "output_type": "stream",
     "text": [
      "1\n",
      "3\n",
      "3\n",
      "5\n",
      "5\n",
      "4\n",
      "7\n"
     ]
    }
   ],
   "source": [
    "nums = [1, 3, 5, 4, 7]\n",
    "for i in range(len(nums)):\n",
    "    for j in range(i,len(nums)):\n",
    "        if abs(nums[i]-nums[j])==2:\n",
    "            for k in (nums[i:j+1])"
   ]
  },
  {
   "cell_type": "code",
   "execution_count": null,
   "metadata": {},
   "outputs": [
    {
     "name": "stdout",
     "output_type": "stream",
     "text": [
      "[1, 3, 5]\n",
      "[7, 9, 11]\n"
     ]
    }
   ],
   "source": [
    "nums = [1, 3, 5, 4, 7, 9, 11]\n",
    "current_sequence = [nums[0]]  # Start the sequence with the first number\n",
    "\n",
    "for i in range(1, len(nums)):\n",
    "    if abs(nums[i] - nums[i - 1]) == 2:\n",
    "        current_sequence.append(nums[i])\n",
    "    else:\n",
    "        if len(current_sequence) > 1:\n",
    "            print(current_sequence)\n",
    "        current_sequence = [nums[i]]  # Start a new sequence\n",
    "\n",
    "if len(current_sequence) > 1:  # To print the last sequence if it's valid\n",
    "    print(current_sequence)\n"
   ]
  },
  {
   "cell_type": "code",
   "execution_count": null,
   "metadata": {},
   "outputs": [
    {
     "name": "stdout",
     "output_type": "stream",
     "text": [
      "[[], 1, 3, 7, 9]\n"
     ]
    }
   ],
   "source": [
    "nums = [1, 3, 5, 4, 7, 9, 11]\n",
    "li=[[]]\n",
    "for i in range(len(nums)-1):\n",
    "   if  abs(nums[i+1]-nums[i])==2:\n",
    "       li.append(nums[i])\n",
    "print(li)"
   ]
  },
  {
   "cell_type": "code",
   "execution_count": null,
   "metadata": {},
   "outputs": [
    {
     "name": "stdout",
     "output_type": "stream",
     "text": [
      "3\n"
     ]
    }
   ],
   "source": [
    "nums = [1,3,5,4,2,3,4,5]\n",
    "li=[]\n",
    "c=[nums[0]]\n",
    "for i in range(1,len(nums)):\n",
    "    if nums[i]-nums[i-1]==2:\n",
    "        c.append(nums[i])\n",
    "    else:\n",
    "        if len(c)>1:\n",
    "            li.append(c)\n",
    "        c=[nums[i]]\n",
    "if len(c)>1:\n",
    "    li.append(c)\n",
    "print(len(max(li)))"
   ]
  },
  {
   "cell_type": "code",
   "execution_count": null,
   "metadata": {},
   "outputs": [
    {
     "name": "stdout",
     "output_type": "stream",
     "text": [
      "0\n"
     ]
    }
   ],
   "source": [
    "li=[2,7,8,4,3,2]\n",
    "c=0\n",
    "for i in li:\n",
    "    if c<i:\n",
    "        c=i\n",
    "print(c)"
   ]
  },
  {
   "cell_type": "code",
   "execution_count": null,
   "metadata": {},
   "outputs": [
    {
     "name": "stdout",
     "output_type": "stream",
     "text": [
      "2\n"
     ]
    }
   ],
   "source": [
    "li = [2, 7, 8, 4, 3, 2]\n",
    "c = li[0]  # Initialize c to the first element of the list\n",
    "for i in li:\n",
    "    if c > i:\n",
    "        c = i\n",
    "print(c)\n"
   ]
  },
  {
   "cell_type": "code",
   "execution_count": null,
   "metadata": {},
   "outputs": [
    {
     "name": "stdout",
     "output_type": "stream",
     "text": [
      "{'apple': 3, 'banana': 2, 'cherry': 1}\n"
     ]
    }
   ],
   "source": [
    "#op={'apple': [0, 2, 5], 'banana': [1, 3], 'cherry': [4]}\n",
    "arr=[\"apple\",\"banana\",\"apple\",\"banana\",\"cherry\",\"apple\"]\n",
    "d={}\n",
    "for i in arr:\n",
    "    if i in d:\n",
    "        d[i]+=1\n",
    "    else:\n",
    "        d[i]=1\n",
    "print(d)"
   ]
  },
  {
   "cell_type": "code",
   "execution_count": null,
   "metadata": {},
   "outputs": [],
   "source": [
    "\n",
    "def find_element_indices(arr):\n",
    "\n",
    "    index_dict = {}\n",
    "    index = 0\n",
    "    for element in arr:\n",
    "        if element not in index_dict:\n",
    "            index_dict[element] = [index]\n",
    "        else:\n",
    "            index_dict[element].append(index)\n",
    "        index += 1\n",
    "    return index_dict\n",
    "\n",
    "# Example usage:\n",
    "input_array = [\"apple\", \"banana\", \"apple\", \"banana\", \"cherry\", \"apple\"]\n",
    "result = find_element_indices(input_array)\n",
    "print(result)\n"
   ]
  },
  {
   "cell_type": "code",
   "execution_count": null,
   "metadata": {},
   "outputs": [
    {
     "name": "stdout",
     "output_type": "stream",
     "text": [
      "{'apple': [0, 2, 5], 'banana': [1, 3], 'cherry': [4]}\n"
     ]
    }
   ],
   "source": [
    "arr= [\"apple\", \"banana\", \"apple\", \"banana\", \"cherry\", \"apple\"]\n",
    "d={}\n",
    "id=0\n",
    "for i in arr:\n",
    "    if i not in d:\n",
    "        d[i]=[id]\n",
    "    else:\n",
    "        d[i].append(id)\n",
    "    id+=1\n",
    "print(d)"
   ]
  },
  {
   "cell_type": "code",
   "execution_count": null,
   "metadata": {},
   "outputs": [
    {
     "ename": "KeyError",
     "evalue": "1",
     "output_type": "error",
     "traceback": [
      "\u001b[1;31m---------------------------------------------------------------------------\u001b[0m",
      "\u001b[1;31mKeyError\u001b[0m                                  Traceback (most recent call last)",
      "Cell \u001b[1;32mIn[19], line 2\u001b[0m\n\u001b[0;32m      1\u001b[0m op\u001b[38;5;241m=\u001b[39m{\u001b[38;5;124m'\u001b[39m\u001b[38;5;124mapple\u001b[39m\u001b[38;5;124m'\u001b[39m: [\u001b[38;5;241m0\u001b[39m, \u001b[38;5;241m2\u001b[39m, \u001b[38;5;241m5\u001b[39m], \u001b[38;5;124m'\u001b[39m\u001b[38;5;124mbanana\u001b[39m\u001b[38;5;124m'\u001b[39m: [\u001b[38;5;241m1\u001b[39m, \u001b[38;5;241m3\u001b[39m], \u001b[38;5;124m'\u001b[39m\u001b[38;5;124mcherry\u001b[39m\u001b[38;5;124m'\u001b[39m: [\u001b[38;5;241m4\u001b[39m]}\n\u001b[1;32m----> 2\u001b[0m \u001b[43mop\u001b[49m\u001b[43m[\u001b[49m\u001b[38;5;241;43m1\u001b[39;49m\u001b[43m]\u001b[49m\u001b[38;5;241m.\u001b[39mappend(\u001b[38;5;241m2\u001b[39m)\n",
      "\u001b[1;31mKeyError\u001b[0m: 1"
     ]
    }
   ],
   "source": [
    "op={'apple': [0, 2, 5], 'banana': [1, 3], 'cherry': [4]}\n",
    "op[1].append(2)"
   ]
  },
  {
   "cell_type": "code",
   "execution_count": null,
   "metadata": {},
   "outputs": [
    {
     "name": "stdout",
     "output_type": "stream",
     "text": [
      "4\n",
      "1.0\n"
     ]
    }
   ],
   "source": [
    "arr=['2+2=4', '5/5=1']\n",
    "for i in arr:\n",
    "    s=(i.split(\"=\"))\n",
    "    print(eval(s[0]))\n",
    "        \n"
   ]
  },
  {
   "cell_type": "code",
   "execution_count": null,
   "metadata": {},
   "outputs": [
    {
     "name": "stdout",
     "output_type": "stream",
     "text": [
      "apple 1\n",
      "banana 2\n",
      "cherry 3\n"
     ]
    }
   ],
   "source": [
    "ds = {'apple': 1, 'banana': 2, 'cherry': 3}\n",
    "for i in ds:\n",
    "    print(i,ds[i])\n"
   ]
  },
  {
   "cell_type": "code",
   "execution_count": null,
   "metadata": {},
   "outputs": [
    {
     "name": "stdout",
     "output_type": "stream",
     "text": [
      "[23, 2, 3, 4]\n"
     ]
    }
   ],
   "source": [
    "li=[1,2,3,4]\n",
    "li[0]=23\n",
    "print(li)"
   ]
  },
  {
   "cell_type": "code",
   "execution_count": null,
   "metadata": {},
   "outputs": [
    {
     "ename": "TypeError",
     "evalue": "'tuple' object does not support item assignment",
     "output_type": "error",
     "traceback": [
      "\u001b[1;31m---------------------------------------------------------------------------\u001b[0m",
      "\u001b[1;31mTypeError\u001b[0m                                 Traceback (most recent call last)",
      "Cell \u001b[1;32mIn[13], line 2\u001b[0m\n\u001b[0;32m      1\u001b[0m tu\u001b[38;5;241m=\u001b[39m(\u001b[38;5;241m1\u001b[39m,\u001b[38;5;241m2\u001b[39m,\u001b[38;5;241m3\u001b[39m,\u001b[38;5;241m4\u001b[39m)\n\u001b[1;32m----> 2\u001b[0m \u001b[43mtu\u001b[49m\u001b[43m[\u001b[49m\u001b[38;5;241;43m0\u001b[39;49m\u001b[43m]\u001b[49m\u001b[38;5;241m=\u001b[39m\u001b[38;5;241m89\u001b[39m\n\u001b[0;32m      3\u001b[0m tu\n",
      "\u001b[1;31mTypeError\u001b[0m: 'tuple' object does not support item assignment"
     ]
    }
   ],
   "source": [
    "tu=(1,2,3,4)\n",
    "tu[0]=89\n",
    "tu"
   ]
  },
  {
   "cell_type": "code",
   "execution_count": null,
   "metadata": {},
   "outputs": [
    {
     "name": "stdout",
     "output_type": "stream",
     "text": [
      "['date', 'apple', 'cherry', 'banana']\n",
      "0.005247592926025391\n"
     ]
    }
   ],
   "source": [
    "from time import time\n",
    "s = [\"apple\", \"banana\", \"cherry\", \"date\"]\n",
    "st=time()\n",
    "for i in range(len(s)):\n",
    "    for j in range(i+1,len(s)):\n",
    "    \n",
    "        if len(s[i])>len(s[j]):\n",
    "            s[i],s[j]=s[j],s[i]\n",
    "et=time()\n",
    "print(s)\n",
    "print(et-st)"
   ]
  },
  {
   "cell_type": "code",
   "execution_count": null,
   "metadata": {},
   "outputs": [
    {
     "name": "stdout",
     "output_type": "stream",
     "text": [
      "{'apple': [5], 'banana': [6], 'cherry': [6], 'date': [4]}\n",
      "0.0\n"
     ]
    }
   ],
   "source": [
    "import time\n",
    "s = [\"apple\", \"banana\", \"cherry\", \"date\"]\n",
    "st=time.time()\n",
    "d={}\n",
    "for i in s:\n",
    "    if i not in d:\n",
    "        d[i]=[len(i)]\n",
    "et=time.time()\n",
    "print(d)\n",
    "print(et-st)"
   ]
  },
  {
   "cell_type": "code",
   "execution_count": null,
   "metadata": {},
   "outputs": [
    {
     "name": "stdout",
     "output_type": "stream",
     "text": [
      "['banana', 'cherry', 'date']\n"
     ]
    }
   ],
   "source": [
    "s = [\"apple\", \"banana\", \"cherry\", \"date\",\"apple\"]\n",
    "d={}\n",
    "for i in s:\n",
    "    if i in d:\n",
    "        d[i]+=1\n",
    "    else:\n",
    "        d[i]=1\n",
    "a=[]\n",
    "for i in s:\n",
    "    if d[i]!=2:\n",
    "        a.append(i)\n",
    "print(a)"
   ]
  },
  {
   "cell_type": "code",
   "execution_count": null,
   "metadata": {},
   "outputs": [
    {
     "name": "stdout",
     "output_type": "stream",
     "text": [
      "['date', 'serty']\n",
      "Execution time: 0.0 seconds\n"
     ]
    }
   ],
   "source": [
    "import time\n",
    "\n",
    "s = [\"apple\", \"banana\", \"cherry\", \"date\", \"apple\",\"cherry\",\"serty\",\"banana\"]\n",
    "\n",
    "start_time = time.time()\n",
    "\n",
    "d = {}\n",
    "for i in s:\n",
    "    if i in d:\n",
    "        d[i] += 1\n",
    "    else:\n",
    "        d[i] = 1\n",
    "\n",
    "a = []\n",
    "for i in s:\n",
    "    if d[i] != 2:\n",
    "        a.append(i)\n",
    "\n",
    "end_time = time.time()\n",
    "\n",
    "print(a)\n",
    "print(f\"Execution time: {end_time - start_time} seconds\")\n"
   ]
  },
  {
   "cell_type": "code",
   "execution_count": null,
   "metadata": {},
   "outputs": [
    {
     "ename": "IndexError",
     "evalue": "list index out of range",
     "output_type": "error",
     "traceback": [
      "\u001b[1;31m---------------------------------------------------------------------------\u001b[0m",
      "\u001b[1;31mIndexError\u001b[0m                                Traceback (most recent call last)",
      "Cell \u001b[1;32mIn[7], line 10\u001b[0m\n\u001b[0;32m      8\u001b[0m         \u001b[38;5;28;01mbreak\u001b[39;00m\n\u001b[0;32m      9\u001b[0m     li\u001b[38;5;241m.\u001b[39mappend(n)\n\u001b[1;32m---> 10\u001b[0m \u001b[38;5;28;01mif\u001b[39;00m \u001b[43mli\u001b[49m\u001b[43m[\u001b[49m\u001b[38;5;241;43m-\u001b[39;49m\u001b[38;5;241;43m1\u001b[39;49m\u001b[43m]\u001b[49m\u001b[38;5;241m==\u001b[39m\u001b[38;5;241m1\u001b[39m:\n\u001b[0;32m     11\u001b[0m     \u001b[38;5;28mprint\u001b[39m(\u001b[38;5;28;01mTrue\u001b[39;00m)\n\u001b[0;32m     12\u001b[0m \u001b[38;5;28;01melse\u001b[39;00m:\n",
      "\u001b[1;31mIndexError\u001b[0m: list index out of range"
     ]
    }
   ],
   "source": [
    "from time import time\n",
    "n=1\n",
    "st=time()\n",
    "li=[]\n",
    "while n!=1:\n",
    "    n=sum([int(i)**2 for i in str(n)])\n",
    "    if n in li:\n",
    "        break\n",
    "    li.append(n)\n",
    "if li[-1]==1:\n",
    "    print(True)\n",
    "else:\n",
    "    print(False)\n",
    "print(li)\n",
    "et=time()\n",
    "print(et-st)"
   ]
  },
  {
   "cell_type": "code",
   "execution_count": null,
   "metadata": {},
   "outputs": [
    {
     "data": {
      "text/plain": [
       "1"
      ]
     },
     "execution_count": 8,
     "metadata": {},
     "output_type": "execute_result"
    }
   ],
   "source": [
    "arr=[1]\n",
    "arr[-1]"
   ]
  },
  {
   "cell_type": "code",
   "execution_count": null,
   "metadata": {},
   "outputs": [
    {
     "name": "stdout",
     "output_type": "stream",
     "text": [
      "False\n",
      "[69, 117, 51, 26, 40, 16, 37, 58, 89, 145, 42, 20, 4, 16, 37, 58, 89, 145, 42, 20, 4, 16, 37, 58, 89, 145, 42, 20, 4, 16, 37, 58, 89, 145, 42, 20, 4, 16, 37, 58, 89, 145, 42, 20, 4, 16, 37, 58, 89, 145, 42, 20, 4, 16, 37, 58, 89, 145, 42, 20, 4, 16, 37, 58, 89, 145, 42, 20, 4, 16, 37, 58, 89, 145, 42, 20, 4, 16, 37, 58, 89, 145, 42, 20, 4, 16, 37, 58, 89, 145, 42, 20, 4, 16, 37, 58, 89, 145, 42, 20, 4, 16, 37, 58, 89, 145, 42, 20, 4, 16, 37, 58, 89, 145, 42, 20, 4, 16, 37, 58, 89, 145, 42, 20, 4, 16, 37, 58, 89, 145, 42, 20, 4, 16, 37, 58, 89, 145, 42, 20, 4, 16, 37, 58, 89, 145, 42, 20, 4, 16, 37, 58, 89, 145, 42, 20, 4, 16, 37, 58, 89, 145, 42, 20, 4, 16, 37, 58, 89, 145, 42, 20, 4, 16, 37, 58, 89, 145, 42, 20, 4, 16, 37, 58, 89, 145, 42, 20, 4, 16, 37, 58, 89, 145, 42, 20, 4, 16, 37, 58, 89, 145, 42, 20, 4, 16, 37, 58, 89, 145, 42, 20, 4, 16, 37, 58, 89, 145, 42, 20, 4, 16, 37, 58, 89, 145, 42, 20, 4, 16, 37, 58, 89, 145, 42, 20, 4, 16, 37, 58, 89, 145, 42, 20, 4, 16, 37, 58, 89, 145, 42, 20, 4, 16, 37, 58]\n",
      "0.0\n"
     ]
    }
   ],
   "source": [
    "from time import time\n",
    "n=128\n",
    "st=time()\n",
    "li=[]\n",
    "for i in range(n*2):\n",
    "    if n!=1:\n",
    "        n=sum([int(i)**2 for i in str(n)])\n",
    "        li.append(n)\n",
    "if len(li)==0 or li[-1]==1:\n",
    "    print(True)\n",
    "else:\n",
    "    print(False)\n",
    "print(li)\n",
    "et=time()\n",
    "print(et-st)"
   ]
  },
  {
   "cell_type": "code",
   "execution_count": null,
   "metadata": {},
   "outputs": [
    {
     "name": "stdout",
     "output_type": "stream",
     "text": [
      "[69, 117, 51, 26, 40, 16, 37, 58, 89, 145, 42, 20, 4]\n"
     ]
    },
    {
     "data": {
      "text/plain": [
       "False"
      ]
     },
     "execution_count": 8,
     "metadata": {},
     "output_type": "execute_result"
    }
   ],
   "source": [
    "def new_func(n):\n",
    "    li=[]\n",
    "    while n!=1:\n",
    "        n=sum([int(i)**2 for i in str(n)])\n",
    "        if n in li:\n",
    "            return False\n",
    "        li.append(n)\n",
    "    return True\n",
    "print(li)\n",
    "n=128\n",
    "new_func(n)"
   ]
  },
  {
   "cell_type": "code",
   "execution_count": null,
   "metadata": {},
   "outputs": [
    {
     "name": "stdout",
     "output_type": "stream",
     "text": [
      "[3, 1, 1, 2, 2]\n"
     ]
    }
   ],
   "source": [
    "nums = [1,1,2,2,3]\n",
    "d={}\n",
    "li=[]\n",
    "for i in nums:\n",
    "    if i in d:\n",
    "        d[i]+=1\n",
    "    else:\n",
    "        d[i]=1\n",
    "print(sorted(nums,key=lambda x :(d[x],x)))"
   ]
  },
  {
   "cell_type": "code",
   "execution_count": null,
   "metadata": {},
   "outputs": [
    {
     "data": {
      "text/plain": [
       "[3, 2, 2, 1, 1]"
      ]
     },
     "execution_count": 48,
     "metadata": {},
     "output_type": "execute_result"
    }
   ],
   "source": [
    "nums.sort(reverse=True)\n",
    "nums.sort(key=lambda x:d[x])\n",
    "nums"
   ]
  },
  {
   "cell_type": "code",
   "execution_count": null,
   "metadata": {},
   "outputs": [
    {
     "name": "stdout",
     "output_type": "stream",
     "text": [
      "[2, 4, 6, 8, 10]\n"
     ]
    }
   ],
   "source": [
    "arr=[1,2,3,4,5,6,7,8,9,10]\n",
    "print(list(filter(lambda x:x%2==0,arr)))"
   ]
  },
  {
   "cell_type": "code",
   "execution_count": null,
   "metadata": {},
   "outputs": [
    {
     "name": "stdout",
     "output_type": "stream",
     "text": [
      "[1, 4, 9, 16, 25, 36, 49, 64, 81, 100]\n"
     ]
    }
   ],
   "source": [
    "print(list(map(lambda x:x**2,arr)))"
   ]
  },
  {
   "cell_type": "code",
   "execution_count": null,
   "metadata": {},
   "outputs": [
    {
     "data": {
      "text/plain": [
       "4"
      ]
     },
     "execution_count": 63,
     "metadata": {},
     "output_type": "execute_result"
    }
   ],
   "source": [
    "s=lambda x:x**2\n",
    "s(2)"
   ]
  },
  {
   "cell_type": "code",
   "execution_count": null,
   "metadata": {},
   "outputs": [
    {
     "name": "stdout",
     "output_type": "stream",
     "text": [
      "[1, 2, 3, 4, 5, 6, 7, 8, 9, 10]\n"
     ]
    }
   ],
   "source": [
    "print(list(map(lambda x:x,arr)))"
   ]
  },
  {
   "cell_type": "code",
   "execution_count": null,
   "metadata": {},
   "outputs": [
    {
     "data": {
      "text/plain": [
       "[{'name': 'Bob', 'age': 25}, {'name': 'Alice', 'age': 30}]"
      ]
     },
     "execution_count": 72,
     "metadata": {},
     "output_type": "execute_result"
    }
   ],
   "source": [
    "people = [{'name': 'Alice', 'age': 30}, {'name': 'Bob', 'age': 25}]\n",
    "sorted(people,key=lambda x:x[\"age\"])"
   ]
  },
  {
   "cell_type": "code",
   "execution_count": null,
   "metadata": {},
   "outputs": [
    {
     "name": "stdout",
     "output_type": "stream",
     "text": [
      "-1\n"
     ]
    }
   ],
   "source": [
    "n=\"xyz1111\"\n",
    "s=set()\n",
    "for i in n:\n",
    "    if i.isdigit():\n",
    "        s.add(i)\n",
    "\n",
    "if len(sorted(s))<=2:\n",
    "    print(\"-1\")\n",
    "else:\n",
    "    print(sorted(s)[-2])"
   ]
  },
  {
   "cell_type": "code",
   "execution_count": null,
   "metadata": {},
   "outputs": [
    {
     "name": "stdout",
     "output_type": "stream",
     "text": [
      "False\n"
     ]
    }
   ],
   "source": [
    "print(1<1)"
   ]
  },
  {
   "cell_type": "code",
   "execution_count": null,
   "metadata": {},
   "outputs": [
    {
     "name": "stdout",
     "output_type": "stream",
     "text": [
      "True\n",
      "True\n",
      "False\n"
     ]
    }
   ],
   "source": [
    "nums=[2,14,18,22,22]\n",
    "d={}\n",
    "li=[]\n",
    "for i in nums:\n",
    "    if i in d:\n",
    "        d[i]+=1\n",
    "    else:\n",
    "        d[i]=1\n",
    "for j in nums:\n",
    "    if (d[j]>1):\n",
    "        print(True)\n",
    "else:\n",
    "    print(False)\n",
    "        "
   ]
  },
  {
   "cell_type": "code",
   "execution_count": null,
   "metadata": {},
   "outputs": [
    {
     "data": {
      "text/plain": [
       "3"
      ]
     },
     "execution_count": 6,
     "metadata": {},
     "output_type": "execute_result"
    }
   ],
   "source": [
    "ord(\"D\")-ord(\"A\")"
   ]
  },
  {
   "cell_type": "code",
   "execution_count": null,
   "metadata": {},
   "outputs": [
    {
     "name": "stdout",
     "output_type": "stream",
     "text": [
      "1 4\n",
      "2 3\n"
     ]
    }
   ],
   "source": [
    "s=5\n",
    "arr=[1,2,3,4,5]\n",
    "li=[]\n",
    "for i in range(len(arr)):\n",
    "    for j in range(i,len(arr)):\n",
    "        if arr[i]+arr[j]==s:\n",
    "            li.append([arr[i],arr[j]])\n",
    "for j in li:\n",
    "    print(\" \".join(map(str,j)))\n",
    "        "
   ]
  },
  {
   "cell_type": "code",
   "execution_count": null,
   "metadata": {},
   "outputs": [],
   "source": [
    "arr=[1, 2 ,2, 2, 3, 4]\n",
    "brr=[2,2,3,3]\n",
    "s1=\"\".join(map(str,arr))\n",
    "s2=\"\".join(map(str,brr))\n",
    "if s2 in arr:\n",
    "    print(True)\n"
   ]
  },
  {
   "cell_type": "code",
   "execution_count": null,
   "metadata": {},
   "outputs": [
    {
     "name": "stdout",
     "output_type": "stream",
     "text": [
      "55\n"
     ]
    }
   ],
   "source": [
    "n=10\n",
    "li=[0,1]\n",
    "for i in range(n*2):\n",
    "    li.append(li[-2]+li[-1])\n",
    "for j in range(len(li)):\n",
    "    if j==n:\n",
    "        print(li[j])"
   ]
  },
  {
   "cell_type": "code",
   "execution_count": null,
   "metadata": {},
   "outputs": [
    {
     "name": "stdout",
     "output_type": "stream",
     "text": [
      "[3]\n"
     ]
    }
   ],
   "source": [
    "arr=[1,2,4,5]\n",
    "li=[]\n",
    "for i in range(1,len(arr)+2):\n",
    "    if i not in arr:\n",
    "        li.append(i)\n",
    "print(li)"
   ]
  },
  {
   "cell_type": "code",
   "execution_count": null,
   "metadata": {},
   "outputs": [
    {
     "name": "stdout",
     "output_type": "stream",
     "text": [
      "7 5\n"
     ]
    }
   ],
   "source": [
    "x=5\n",
    "y=7\n",
    "x,y=y,x\n",
    "print(x,y)"
   ]
  },
  {
   "cell_type": "code",
   "execution_count": null,
   "metadata": {},
   "outputs": [
    {
     "name": "stdout",
     "output_type": "stream",
     "text": [
      "7\n"
     ]
    }
   ],
   "source": [
    "ts=\"\"\n",
    "d={}\n",
    "for i in range(1,5+1):\n",
    "    s=(bin(i)[2:])\n",
    "    ts+=s\n",
    "for j in ts:\n",
    "    if j in d:\n",
    "        d[j]+=1\n",
    "    else:\n",
    "        d[j]=1\n",
    "print(d[\"1\"])"
   ]
  },
  {
   "cell_type": "code",
   "execution_count": null,
   "metadata": {},
   "outputs": [
    {
     "name": "stdout",
     "output_type": "stream",
     "text": [
      "101\n"
     ]
    }
   ],
   "source": [
    "ts=\"\"\n",
    "d={}\n",
    "c=0\n",
    "s=\"\"\n",
    "for i in range(1,5+1):\n",
    "    s=(bin(i)[2:])\n",
    "    "
   ]
  },
  {
   "cell_type": "code",
   "execution_count": null,
   "metadata": {},
   "outputs": [
    {
     "data": {
      "text/plain": [
       "[4, 3, 2, 1, 5, 6]"
      ]
     },
     "execution_count": 3,
     "metadata": {},
     "output_type": "execute_result"
    }
   ],
   "source": [
    "arr=[1,2,3,4,5,6]\n",
    "arr[:4][::-1]+arr[4:]"
   ]
  },
  {
   "cell_type": "code",
   "execution_count": null,
   "metadata": {},
   "outputs": [
    {
     "name": "stdout",
     "output_type": "stream",
     "text": [
      "[1, 2, 3]\n",
      "[2, 3, 4]\n",
      "[3, 4, 5]\n",
      "[4, 5, 6]\n",
      "[5, 6, 7]\n",
      "[6, 7, 8]\n",
      "[7, 8, 9]\n",
      "[8, 9, 1]\n",
      "[9, 1, 2]\n"
     ]
    }
   ],
   "source": [
    "arr=[1,2,3,4,5,6,7,8,9]\n",
    "k=3\n",
    "s=arr+arr\n",
    "li=[]\n",
    "for i in range(len(arr)):\n",
    "    li.append(s[i:i+k])\n",
    "for j in li:\n",
    "    print(j)"
   ]
  },
  {
   "cell_type": "code",
   "execution_count": null,
   "metadata": {},
   "outputs": [
    {
     "name": "stdout",
     "output_type": "stream",
     "text": [
      "[1, 2, 3, 4, 5, 5, 6, 7, 8, 9]\n"
     ]
    }
   ],
   "source": [
    "A=[1,2,3,4,5]\n",
    "B=[5,6,7,8,9]\n",
    "print(A+B)"
   ]
  },
  {
   "cell_type": "code",
   "execution_count": null,
   "metadata": {},
   "outputs": [
    {
     "name": "stdout",
     "output_type": "stream",
     "text": [
      "[[2, 8], [4, 6], [5, 5], [2, 8]]\n"
     ]
    }
   ],
   "source": [
    "n=[2,4,1,5,2,6,8,3,5]\n",
    "k=10\n",
    "li=[]\n",
    "s=n+n\n",
    "for i in range(len(n)):\n",
    "    for j in range(i+1,len(n)):\n",
    "        if s[i]+s[j]==k:\n",
    "            li.append([s[i],s[j]])\n",
    "print(li)"
   ]
  },
  {
   "cell_type": "code",
   "execution_count": null,
   "metadata": {},
   "outputs": [],
   "source": [
    "\"\"\"input: n=[2,4,1,5,2,6,8,3,5]\n",
    "\n",
    "output: display the output sum of any numbers from the list that means pair of two ,three,four...... equal to the sum of 10 \"\"\""
   ]
  },
  {
   "cell_type": "code",
   "execution_count": null,
   "metadata": {},
   "outputs": [
    {
     "name": "stdout",
     "output_type": "stream",
     "text": [
      "[[10, 10, 10], [10, 10, 10], [10, 10, 10]]\n"
     ]
    }
   ],
   "source": [
    "def add_matrices(matrix1, matrix2):\n",
    "    result = []\n",
    "    for i in range(len(matrix1)):\n",
    "        row = []\n",
    "        for j in range(len(matrix1[0])):\n",
    "            row.append(matrix1[i][j] + matrix2[i][j])\n",
    "        result.append(row)\n",
    "    return result\n",
    "\n",
    "# Example matrices\n",
    "matrix1 = [\n",
    "    [1, 2, 3],\n",
    "    [4, 5, 6],\n",
    "    [7, 8, 9]\n",
    "]\n",
    "\n",
    "matrix2 = [\n",
    "    [9, 8, 7],\n",
    "    [6, 5, 4],\n",
    "    [3, 2, 1]\n",
    "]\n",
    "\n",
    "# Add matrices\n",
    "added_matrix = add_matrices(matrix1, matrix2)\n",
    "print(added_matrix)\n"
   ]
  },
  {
   "cell_type": "code",
   "execution_count": null,
   "metadata": {},
   "outputs": [
    {
     "name": "stdout",
     "output_type": "stream",
     "text": [
      "True\n"
     ]
    }
   ],
   "source": [
    "s = \"egg\"\n",
    "t = \"add\"\n",
    "\n",
    "l1=[]\n",
    "l2=[]\n",
    "for i in s:\n",
    "    l1.append(s.index(i))\n",
    "for j in t:\n",
    "    l2.append(t.index(j))\n",
    "    \n",
    "print(l1==l2)\n"
   ]
  },
  {
   "cell_type": "code",
   "execution_count": null,
   "metadata": {},
   "outputs": [
    {
     "name": "stdout",
     "output_type": "stream",
     "text": [
      "[-1, 3, 4]\n"
     ]
    }
   ],
   "source": [
    "nums=[-1,-2,3,4]\n",
    "t=nums+nums\n",
    "k=3\n",
    "li=[]\n",
    "m=[]\n",
    "for i in range(len(nums)):\n",
    "    for j in range(i,len(nums)):\n",
    "        a=(t[i:j+k])\n",
    "        if len(a)==k:\n",
    "            if a not in li:\n",
    "                li.append(a)\n",
    "for d in li:\n",
    "    m.append(sum(d))\n",
    "\n",
    "for h in li:\n",
    "    if sum(h)==max(m):\n",
    "        print(sorted(h))\n",
    "    "
   ]
  },
  {
   "cell_type": "code",
   "execution_count": null,
   "metadata": {},
   "outputs": [
    {
     "name": "stdout",
     "output_type": "stream",
     "text": [
      "[(3, 4), (2, 3), (0, -1)]\n"
     ]
    }
   ],
   "source": [
    "nums=[-1,-2,3,4]\n",
    "\n",
    "largest_k = sorted(enumerate(nums), key=lambda x: x[1], reverse=True)[:k]\n",
    "\n",
    "print(largest_k)"
   ]
  },
  {
   "cell_type": "code",
   "execution_count": null,
   "metadata": {},
   "outputs": [
    {
     "name": "stdout",
     "output_type": "stream",
     "text": [
      "[(0, -1), (1, -2), (2, 3), (3, 4)]\n"
     ]
    }
   ],
   "source": [
    "print(list(enumerate(nums)))"
   ]
  },
  {
   "cell_type": "code",
   "execution_count": null,
   "metadata": {},
   "outputs": [
    {
     "name": "stdout",
     "output_type": "stream",
     "text": [
      "[[3, 4], [2, 3], [1, -2], [0, -1]]\n"
     ]
    }
   ],
   "source": [
    "li=[]\n",
    "k=3\n",
    "for i in range(len(nums)):\n",
    "    li.append([i,nums[i]])\n",
    "print(sorted(li,key=lambda x:x[0],reverse=True))"
   ]
  },
  {
   "cell_type": "code",
   "execution_count": null,
   "metadata": {},
   "outputs": [
    {
     "name": "stdout",
     "output_type": "stream",
     "text": [
      "[5, 4, 3]\n"
     ]
    }
   ],
   "source": [
    "nums=[1,2,3,4,5]\n",
    "print(sorted(nums,reverse=True)[:3])"
   ]
  },
  {
   "cell_type": "code",
   "execution_count": null,
   "metadata": {},
   "outputs": [
    {
     "name": "stdout",
     "output_type": "stream",
     "text": [
      "S3M2N1B4G2D1R1E1\n"
     ]
    }
   ],
   "source": [
    "s = \"SSSMMNBGBBBGDRE\"\n",
    "li = []\n",
    "c = []\n",
    "\n",
    "# Collect unique colors\n",
    "for i in s:\n",
    "    if i not in li:\n",
    "        li.append(i)\n",
    "\n",
    "# Count occurrences of each color\n",
    "for j in li:\n",
    "    c.append([j, s.count(j)])\n",
    "\n",
    "# Convert the list of lists into a formatted string\n",
    "result = ''.join([f\"{item[0]}{item[1]}\" for item in c])\n",
    "print(result)"
   ]
  },
  {
   "cell_type": "code",
   "execution_count": null,
   "metadata": {},
   "outputs": [
    {
     "name": "stdout",
     "output_type": "stream",
     "text": [
      "S81M28K213U57X45W36\n"
     ]
    }
   ],
   "source": [
    "st=\"SSSSSSSSSSSSSSSSSSSSSSSSSSSSSSSSSSSSSSSMMMMMMMMMMMMMMMMMMMMMMMMMMMMKKKKKKKKKKKKKKKKKKKKKKKKKKKKKKKKKKKKKKKKKKKKKKKKKKKKKKKKKKKKKKKKKKKKKKKKKKKKKKKKKKKKKKKKKKKKKKKKKKKKKKKKKKKKKKKKKKKKKKKKKKKKKKKKKKKKKKKKKKKKKKKKKKKKKKKKKKKKKKKKKKKKKKKKKKKKKKKKKKKKKKKKKKKKKKKKKKKKKKKKKKKKKKKKKKKKKSSSSSSSSSSSSSSSSSSSSSSSSSSSSSSSSSSSSSSSSSSUUUUUUUUUUUUUUUUUUUUUUUUUUUUUUUUUUUUUUUUUUUUUUUUUUUUUUUUUXXXXXXXXXXXXXXXXXXXXXXXXXXXXXXXXXXXXXXXXXXXXXWWWWWWWWWWWWWWWWWWWWWWWWWWWWWWWWWWWW\"\n",
    "s=\"\"\n",
    "for i in st:\n",
    "    if i not in s:\n",
    "        s+=i\n",
    "a=\"\"\n",
    "for j in s:\n",
    "    a+=j\n",
    "    a+=str(st.count(j))\n",
    "print(a)"
   ]
  },
  {
   "cell_type": "code",
   "execution_count": null,
   "metadata": {},
   "outputs": [
    {
     "name": "stdout",
     "output_type": "stream",
     "text": [
      "[3, 4]\n",
      "[3, 4, -7, 1, 3, 3]\n",
      "[1, 3, 3]\n",
      "[3, 3, 1]\n"
     ]
    }
   ],
   "source": [
    "nums = [3, 4, -7, 1, 3, 3, 1, 4]\n",
    "target = 7\n",
    "result = []\n",
    "for i in range(len(nums)):\n",
    "    current_sum = 0\n",
    "    for j in range(i, len(nums)):\n",
    "        current_sum += nums[j]\n",
    "        if current_sum == target:\n",
    "            result.append(nums[i:j + 1])\n",
    "for k in result:\n",
    "    print(k)"
   ]
  },
  {
   "cell_type": "code",
   "execution_count": null,
   "metadata": {},
   "outputs": [
    {
     "name": "stdout",
     "output_type": "stream",
     "text": [
      "12\n",
      "9\n",
      "5\n",
      "12\n",
      "11\n",
      "8\n",
      "5\n",
      "4\n"
     ]
    }
   ],
   "source": [
    "nums = [3, 4, -7, 1, 3, 3, 1, 4]\n",
    "target = 7\n",
    "li=[]\n",
    "for i in range(len(nums)):\n",
    "    cs=0\n",
    "    for j in range(i,len(nums)):\n",
    "        cs+=nums[j]\n",
    "    print(cs)\n",
    "       "
   ]
  },
  {
   "cell_type": "code",
   "execution_count": null,
   "metadata": {},
   "outputs": [
    {
     "name": "stdout",
     "output_type": "stream",
     "text": [
      "[[3, 4], [3, 4, -7, 1, 3, 3], [1, 3, 3], [3, 3, 1]]\n"
     ]
    }
   ],
   "source": [
    "nums = [3, 4, -7, 1, 3, 3, 1, 4]\n",
    "target = 7\n",
    "li=[]\n",
    "for i in range(len(nums)):\n",
    "    c=0\n",
    "    for j in range(i+1,len(nums)):\n",
    "        c+=nums[j]\n",
    "        if c+nums[i]==target:\n",
    "            li.append(nums[i:j+1])\n",
    "print(li)"
   ]
  },
  {
   "cell_type": "code",
   "execution_count": null,
   "metadata": {},
   "outputs": [
    {
     "name": "stdout",
     "output_type": "stream",
     "text": [
      "210\n",
      "9534330\n"
     ]
    }
   ],
   "source": [
    "def largestNumber(nums):\n",
    "    # Convert the list of numbers to strings\n",
    "    nums = [str(num) for num in nums]\n",
    "    \n",
    "    # Sort the numbers with custom comparison logic\n",
    "    nums.sort(key=lambda x: x*10, reverse=True)  # Multiply to simulate concatenation comparison\n",
    "    \n",
    "    # Join the sorted list into a single string\n",
    "    result = ''.join(nums)\n",
    "    \n",
    "    # If the result starts with '0', it means all numbers were '0'\n",
    "    return result if result[0] != '0' else '0'\n",
    "\n",
    "# Test cases\n",
    "print(largestNumber([10, 2]))      # Output: \"210\"\n",
    "print(largestNumber([3, 30, 34, 5, 9]))  # Output: \"9534330\"\n"
   ]
  },
  {
   "cell_type": "code",
   "execution_count": null,
   "metadata": {},
   "outputs": [
    {
     "data": {
      "text/plain": [
       "'3033459'"
      ]
     },
     "execution_count": 15,
     "metadata": {},
     "output_type": "execute_result"
    }
   ],
   "source": [
    "nums=[3, 30, 34, 5, 9]\n",
    "a=[str(i) for i in nums]\n",
    "a.sort(key=lambda x:x*10)\n",
    "\"\".join(a)"
   ]
  },
  {
   "cell_type": "code",
   "execution_count": null,
   "metadata": {},
   "outputs": [
    {
     "name": "stdout",
     "output_type": "stream",
     "text": [
      "[30, 300, 340, 50, 90]\n"
     ]
    }
   ],
   "source": [
    "nums=[3, 30, 34, 5, 9]\n",
    "print(list(map(lambda x:x*10,nums)))"
   ]
  },
  {
   "cell_type": "code",
   "execution_count": null,
   "metadata": {},
   "outputs": [
    {
     "name": "stdout",
     "output_type": "stream",
     "text": [
      "[-2, -2, -2]\n"
     ]
    }
   ],
   "source": [
    "n=3\n",
    "li=[]\n",
    "c=[]\n",
    "for i in range(n):\n",
    "    li.append(i)\n",
    "\n",
    "for j in range(len(li)):\n",
    "    c.append((-2)**li[-i])\n",
    "print(c)\n",
    "    "
   ]
  },
  {
   "cell_type": "code",
   "execution_count": null,
   "metadata": {},
   "outputs": [
    {
     "name": "stdout",
     "output_type": "stream",
     "text": [
      "4\n"
     ]
    }
   ],
   "source": [
    "print((-2)**2)"
   ]
  },
  {
   "cell_type": "code",
   "execution_count": null,
   "metadata": {},
   "outputs": [
    {
     "name": "stdout",
     "output_type": "stream",
     "text": [
      "13\n"
     ]
    }
   ],
   "source": [
    "s=\"hello\"\n",
    "li=[]\n",
    "c=0\n",
    "for i in s:\n",
    "    li.append(ord(i))\n",
    "for j in range(len(li)-1):\n",
    "    c+=abs(li[j]-li[j+1])\n",
    "print(c)\n"
   ]
  },
  {
   "cell_type": "code",
   "execution_count": null,
   "metadata": {},
   "outputs": [
    {
     "name": "stdout",
     "output_type": "stream",
     "text": [
      "[5, 2, 4]\n"
     ]
    }
   ],
   "source": [
    "li=[1,5,2,4]\n",
    "s1=sorted(li)\n",
    "e=[]\n",
    "for i in range(len(li)):\n",
    "    if li[i]!=s1[i]:\n",
    "        e.append(li[i])\n",
    "print(e)"
   ]
  },
  {
   "cell_type": "code",
   "execution_count": null,
   "metadata": {},
   "outputs": [
    {
     "name": "stdout",
     "output_type": "stream",
     "text": [
      "[1, 3, 5, 7, 9, 11, 13, 15, 17, 19]\n"
     ]
    }
   ],
   "source": [
    "E=[]\n",
    "O=[]\n",
    "P=[]\n",
    "for i in range(1,20+1):\n",
    "    if i%2!=0 and i%i==0:\n",
    "        P.append(i)\n",
    "print(P)"
   ]
  },
  {
   "cell_type": "code",
   "execution_count": null,
   "metadata": {},
   "outputs": [
    {
     "name": "stdout",
     "output_type": "stream",
     "text": [
      "[6, -8, 9, 2]\n"
     ]
    }
   ],
   "source": [
    "n=5\n",
    "arr=[10,4,12,3,1]\n",
    "li=[]\n",
    "for i in range(len(arr)-1):\n",
    "    li.append(arr[i]-arr[i+1])\n",
    "print(li)"
   ]
  },
  {
   "cell_type": "code",
   "execution_count": null,
   "metadata": {},
   "outputs": [
    {
     "name": "stdout",
     "output_type": "stream",
     "text": [
      "3\n"
     ]
    }
   ],
   "source": [
    "c=float(\"inf\")\n",
    "c=3\n",
    "print(c)"
   ]
  },
  {
   "cell_type": "code",
   "execution_count": null,
   "metadata": {},
   "outputs": [
    {
     "name": "stdout",
     "output_type": "stream",
     "text": [
      "0\n"
     ]
    }
   ],
   "source": [
    "for i in range(len(arr)-n+1):\n",
    "    print(i)"
   ]
  },
  {
   "cell_type": "code",
   "execution_count": null,
   "metadata": {},
   "outputs": [
    {
     "data": {
      "text/plain": [
       "24"
      ]
     },
     "execution_count": 15,
     "metadata": {},
     "output_type": "execute_result"
    }
   ],
   "source": [
    "#sliding window Algorithm\n",
    "#Maximum Sum Subarray of Size K\n",
    "def max_Sub_Array_Sum(arr,k):\n",
    "    li=[]\n",
    "    n=len(arr)\n",
    "    for i in range(n):\n",
    "        li.append(sum(arr[i:i+k]))\n",
    "    return max(li)\n",
    "\n",
    "\n",
    "\n",
    "\n",
    "arr=[1, 4, 2, 10, 2, 3, 1, 0, 20]\n",
    "k=4\n",
    "max_Sub_Array_Sum(arr,k)"
   ]
  },
  {
   "cell_type": "code",
   "execution_count": null,
   "metadata": {},
   "outputs": [
    {
     "name": "stdout",
     "output_type": "stream",
     "text": [
      "Maximum sum of subarray of size K: 24\n"
     ]
    }
   ],
   "source": [
    "def max_sum_subarray(nums, k):\n",
    "    n = len(nums)\n",
    "    if n < k:\n",
    "        return -1  # Invalid input: array size is smaller than k\n",
    "\n",
    "    curr_sum = sum(nums[:k])\n",
    "    max_sum = curr_sum\n",
    "\n",
    "    for i in range(k, n):\n",
    "        curr_sum += nums[i] - nums[i - k]\n",
    "        max_sum = max(max_sum, curr_sum)\n",
    "\n",
    "    return max_sum\n",
    "\n",
    "# Example usage:\n",
    "nums = [1, 4, 2, 10, 2, 3, 1, 0, 20]\n",
    "k = 4\n",
    "result = max_sum_subarray(nums, k)\n",
    "print(\"Maximum sum of subarray of size K:\", result)"
   ]
  },
  {
   "cell_type": "code",
   "execution_count": null,
   "metadata": {},
   "outputs": [
    {
     "name": "stdout",
     "output_type": "stream",
     "text": [
      "24\n"
     ]
    }
   ],
   "source": [
    "def max_Sub_Array_Sum(arr, k):\n",
    "    li = []\n",
    "    n = len(arr)\n",
    "    for i in range(n - k + 1):\n",
    "        li.append(sum(arr[i:i + k]))\n",
    "    return max(li)\n",
    "\n",
    "# Test the function\n",
    "arr = [1, 4, 2, 10, 2, 3, 1, 0, 20]\n",
    "k = 4\n",
    "print(max_Sub_Array_Sum(arr, k))  # Output should be 24 (10+2+3+1)\n"
   ]
  },
  {
   "cell_type": "code",
   "execution_count": null,
   "metadata": {},
   "outputs": [
    {
     "name": "stdout",
     "output_type": "stream",
     "text": [
      "[[3, 5], [5, 4]]\n"
     ]
    }
   ],
   "source": [
    "nums=[3,5,3,4]\n",
    "k=2\n",
    "li=[]\n",
    "arr=[]\n",
    "for i in nums:\n",
    "    if i not in li:\n",
    "        li.append(i)\n",
    "n=len(li)\n",
    "for j in range(n-k+1):\n",
    "    arr.append((li[j:j+k]))\n",
    "print((arr))\n"
   ]
  },
  {
   "cell_type": "code",
   "execution_count": null,
   "metadata": {},
   "outputs": [
    {
     "name": "stdout",
     "output_type": "stream",
     "text": [
      "[3, 5]\n",
      "[5, 3]\n",
      "[3, 4]\n",
      "[4]\n"
     ]
    }
   ],
   "source": [
    "nums=[3,5,3,4]\n",
    "k=2\n",
    "for i in range(len(nums)):\n",
    "    print(nums[i:i+k])"
   ]
  },
  {
   "cell_type": "code",
   "execution_count": null,
   "metadata": {},
   "outputs": [
    {
     "name": "stdout",
     "output_type": "stream",
     "text": [
      "22a2b2cds\n"
     ]
    }
   ],
   "source": [
    "s=\"aaabbccdsa\"\n",
    "result=\"\"\n",
    "count=1\n",
    "for i in range(len(s)-1):\n",
    "    if s[i]==s[i+1]:\n",
    "        count+=1\n",
    "    else:\n",
    "        result+=s[i]\n",
    "    if count>1:\n",
    "        result+=str(count)\n",
    "    count=1\n",
    "print(result)"
   ]
  },
  {
   "cell_type": "code",
   "execution_count": null,
   "metadata": {},
   "outputs": [
    {
     "data": {
      "text/plain": [
       "'a3b2c2dsa'"
      ]
     },
     "execution_count": 5,
     "metadata": {},
     "output_type": "execute_result"
    }
   ],
   "source": [
    "def getCompressedString(input):\n",
    "    if not input:  # Handle empty input\n",
    "        return \"\"\n",
    "    \n",
    "    result = []\n",
    "    n = len(input)\n",
    "    start = 0  # Start of the sliding window\n",
    "    \n",
    "    while start < n:\n",
    "        end = start\n",
    "        while end < n and input[start] == input[end]:\n",
    "            end += 1\n",
    "        result.append(input[start])\n",
    "        count = end - start\n",
    "        if count > 1:\n",
    "            result.append(str(count))\n",
    "        start = end\n",
    "    return ''.join(result)\n",
    "s=\"aaabbccdsa\"\n",
    "getCompressedString(s)\n"
   ]
  },
  {
   "cell_type": "code",
   "execution_count": null,
   "metadata": {},
   "outputs": [
    {
     "name": "stdout",
     "output_type": "stream",
     "text": [
      "11\n"
     ]
    }
   ],
   "source": [
    "n=5\n",
    "arr=[10,4,12,3,1]\n",
    "arr.sort()\n",
    "md=arr[-1]-arr[0]\n",
    "for i in range(len(arr)-5):\n",
    "    md=min(md,arr[i+4]-arr[i])\n",
    "print(md)\n"
   ]
  },
  {
   "cell_type": "code",
   "execution_count": null,
   "metadata": {},
   "outputs": [
    {
     "name": "stdout",
     "output_type": "stream",
     "text": [
      "a\n"
     ]
    }
   ],
   "source": [
    "s=\"aaabbccdsa\"\n",
    "c=1\n",
    "a=\"\"\n",
    "for i in range(len(s)):\n",
    "    if s[i]==s[i+1]:\n",
    "        a+=s.count(i)"
   ]
  },
  {
   "cell_type": "code",
   "execution_count": null,
   "metadata": {},
   "outputs": [
    {
     "name": "stdout",
     "output_type": "stream",
     "text": [
      "a\n"
     ]
    }
   ],
   "source": [
    "c=0\n",
    "while c<len(s):\n",
    "    if s[c]==s[c:]:\n",
    "        print(s[c])\n",
    "    c+=1"
   ]
  },
  {
   "cell_type": "code",
   "execution_count": null,
   "metadata": {},
   "outputs": [
    {
     "name": "stdout",
     "output_type": "stream",
     "text": [
      "a4b2c2d1s1\n"
     ]
    }
   ],
   "source": [
    "s=\"aaabbccdsa\"\n",
    "li=[]\n",
    "c=\"\"\n",
    "a=[]\n",
    "for i in s:\n",
    "    if i not in li:\n",
    "        li.append(i)\n",
    "for j in li:\n",
    "    a.append(j)\n",
    "    a.append(s.count(j))\n",
    "print(\"\".join(map(str,a)))"
   ]
  },
  {
   "cell_type": "code",
   "execution_count": null,
   "metadata": {},
   "outputs": [
    {
     "name": "stdout",
     "output_type": "stream",
     "text": [
      "a3b2c2\n"
     ]
    }
   ],
   "source": [
    "s=\"aaabbccdsa\"\n",
    "li=[]\n",
    "for i in range(len(s)-1):\n",
    "    if s[i]==s[i+1]:\n",
    "        li.append(s[i])\n",
    "st=\"\".join(li)\n",
    "cst=\"\"\n",
    "for j in set(li):\n",
    "    cst+=j\n",
    "    cst+=str(st.count(j)+1)\n",
    "print(cst)"
   ]
  },
  {
   "cell_type": "code",
   "execution_count": null,
   "metadata": {},
   "outputs": [
    {
     "name": "stdout",
     "output_type": "stream",
     "text": [
      "[[[1]], [[1, 4]], [[4]], [[5]], [[3]], [[3, 2]], [[3, 2, 1]], [[2]], [[2, 1]], [[1]], [[6]]]\n"
     ]
    }
   ],
   "source": [
    "prices=[1,4,5,3,2,1,6]\n",
    "money=6\n",
    "li=[]\n",
    "for i in range(len(prices)):\n",
    "    for j in range(i,len(prices)):\n",
    "        if sum(prices[i:j+1])<=money:\n",
    "            li.append([prices[i:j+1]])\n",
    "print(li)\n",
    "\n",
    "\n"
   ]
  },
  {
   "cell_type": "code",
   "execution_count": null,
   "metadata": {},
   "outputs": [],
   "source": [
    "def getMaxToys(prices, money):\n",
    "    n = len(prices)\n",
    "    results = {}  # Dictionary to store subarrays grouped by their lengths\n",
    "\n",
    "    # Iterate through all possible subarrays\n",
    "    for start in range(n):\n",
    "        current_sum = 0\n",
    "        for end in range(start, n):\n",
    "            current_sum += prices[end]\n",
    "            if current_sum <= money:\n",
    "                length = end - start + 1\n",
    "                if length not in results:\n",
    "                    results[length] = []\n",
    "                results[length].append(prices[start:end+1])\n",
    "            else:\n",
    "                break  # Stop extending the subarray if sum exceeds budget\n",
    "\n",
    "    # Print the results\n",
    "    for length, subarrays in sorted(results.items()):\n",
    "        print(f\"length {length}: {subarrays}\")\n",
    "\n",
    "# Example usage\n",
    "prices = [1, 4, 5, 3, 2, 1, 6]\n",
    "money = 6\n",
    "getMaxToys(prices, money)\n"
   ]
  },
  {
   "cell_type": "code",
   "execution_count": null,
   "metadata": {},
   "outputs": [
    {
     "name": "stdout",
     "output_type": "stream",
     "text": [
      "Prices: [1, 4, 5, 3, 2, 1, 6]\n",
      "Budget: 6\n",
      "\n",
      "Analyzing subarrays:\n",
      "\n",
      "Starting from index 0 (price: 1):\n",
      "  Adding price at index 0 (1), current sum: 1\n",
      "    Valid subarray: [1] (length 1)\n",
      "  Adding price at index 1 (4), current sum: 5\n",
      "    Valid subarray: [1, 4] (length 2)\n",
      "  Adding price at index 2 (5), current sum: 10\n",
      "    Sum exceeded budget. Stopping further extension for this subarray.\n",
      "\n",
      "Starting from index 1 (price: 4):\n",
      "  Adding price at index 1 (4), current sum: 4\n",
      "    Valid subarray: [4] (length 1)\n",
      "  Adding price at index 2 (5), current sum: 9\n",
      "    Sum exceeded budget. Stopping further extension for this subarray.\n",
      "\n",
      "Starting from index 2 (price: 5):\n",
      "  Adding price at index 2 (5), current sum: 5\n",
      "    Valid subarray: [5] (length 1)\n",
      "  Adding price at index 3 (3), current sum: 8\n",
      "    Sum exceeded budget. Stopping further extension for this subarray.\n",
      "\n",
      "Starting from index 3 (price: 3):\n",
      "  Adding price at index 3 (3), current sum: 3\n",
      "    Valid subarray: [3] (length 1)\n",
      "  Adding price at index 4 (2), current sum: 5\n",
      "    Valid subarray: [3, 2] (length 2)\n",
      "  Adding price at index 5 (1), current sum: 6\n",
      "    Valid subarray: [3, 2, 1] (length 3)\n",
      "  Adding price at index 6 (6), current sum: 12\n",
      "    Sum exceeded budget. Stopping further extension for this subarray.\n",
      "\n",
      "Starting from index 4 (price: 2):\n",
      "  Adding price at index 4 (2), current sum: 2\n",
      "    Valid subarray: [2] (length 1)\n",
      "  Adding price at index 5 (1), current sum: 3\n",
      "    Valid subarray: [2, 1] (length 2)\n",
      "  Adding price at index 6 (6), current sum: 9\n",
      "    Sum exceeded budget. Stopping further extension for this subarray.\n",
      "\n",
      "Starting from index 5 (price: 1):\n",
      "  Adding price at index 5 (1), current sum: 1\n",
      "    Valid subarray: [1] (length 1)\n",
      "  Adding price at index 6 (6), current sum: 7\n",
      "    Sum exceeded budget. Stopping further extension for this subarray.\n",
      "\n",
      "Starting from index 6 (price: 6):\n",
      "  Adding price at index 6 (6), current sum: 6\n",
      "    Valid subarray: [6] (length 1)\n",
      "\n",
      "Results:\n",
      "Length 1: [[1], [4], [5], [3], [2], [1], [6]]\n",
      "Length 2: [[1, 4], [3, 2], [2, 1]]\n",
      "Length 3: [[3, 2, 1]]\n"
     ]
    }
   ],
   "source": [
    "def getMaxToys(prices, money):\n",
    "    n = len(prices)\n",
    "    results = {}  # Dictionary to store subarrays grouped by their lengths\n",
    "\n",
    "    print(f\"Prices: {prices}\")\n",
    "    print(f\"Budget: {money}\\n\")\n",
    "    print(\"Analyzing subarrays:\\n\")\n",
    "\n",
    "    # Iterate through all possible subarrays\n",
    "    for start in range(n):\n",
    "        current_sum = 0\n",
    "        print(f\"Starting from index {start} (price: {prices[start]}):\")\n",
    "        for end in range(start, n):\n",
    "            current_sum += prices[end]\n",
    "            print(f\"  Adding price at index {end} ({prices[end]}), current sum: {current_sum}\")\n",
    "\n",
    "            if current_sum <= money:\n",
    "                length = end - start + 1\n",
    "                print(f\"    Valid subarray: {prices[start:end+1]} (length {length})\")\n",
    "\n",
    "                if length not in results:\n",
    "                    results[length] = []\n",
    "                results[length].append(prices[start:end+1])\n",
    "            else:\n",
    "                print(f\"    Sum exceeded budget. Stopping further extension for this subarray.\\n\")\n",
    "                break  # Stop extending the subarray if sum exceeds budget\n",
    "\n",
    "    print(\"\\nResults:\")\n",
    "    for length, subarrays in sorted(results.items()):\n",
    "        print(f\"Length {length}: {subarrays}\")\n",
    "\n",
    "# Example usage\n",
    "prices = [1, 4, 5, 3, 2, 1, 6]\n",
    "money = 6\n",
    "getMaxToys(prices, money)\n"
   ]
  },
  {
   "cell_type": "code",
   "execution_count": null,
   "metadata": {},
   "outputs": [
    {
     "name": "stdout",
     "output_type": "stream",
     "text": [
      "4\n"
     ]
    }
   ],
   "source": [
    "prices = [1, 4, 5, 3, 2, 1, 6]\n",
    "money = 12\n",
    "results = {}\n",
    "\n",
    "for i in range(len(prices)):\n",
    "    for j in range(i, len(prices)):\n",
    "        if sum(prices[i:j+1]) <= money:\n",
    "            length = j - i + 1\n",
    "            if length not in results:\n",
    "                results[length] = []\n",
    "            results[length].append(prices[i:j+1])\n",
    "print(max(results))\n"
   ]
  },
  {
   "cell_type": "code",
   "execution_count": null,
   "metadata": {},
   "outputs": [
    {
     "name": "stdout",
     "output_type": "stream",
     "text": [
      "3\n"
     ]
    }
   ],
   "source": [
    "def getMaxToys(prices, money):\n",
    "    n = len(prices)\n",
    "    start = 0\n",
    "    current_sum = 0\n",
    "    max_toys = 0\n",
    "\n",
    "    for end in range(n):\n",
    "        current_sum += prices[end]\n",
    "        \n",
    "        while current_sum > money:\n",
    "            current_sum -= prices[start]\n",
    "            start += 1\n",
    "        \n",
    "        max_toys = max(max_toys, end - start + 1)\n",
    "    \n",
    "    return max_toys\n",
    "\n",
    "# Example usage\n",
    "prices = [1,4,5,3,2,1,6]\n",
    "money = 6\n",
    "print(getMaxToys(prices, money))  # Output: 3\n"
   ]
  },
  {
   "cell_type": "code",
   "execution_count": null,
   "metadata": {},
   "outputs": [
    {
     "name": "stdout",
     "output_type": "stream",
     "text": [
      "{1: [[1], [4], [5], [3], [2], [1], [6]], 2: [[1, 4], [4, 5], [5, 3], [3, 2], [2, 1], [1, 6]], 3: [[1, 4, 5], [4, 5, 3], [5, 3, 2], [3, 2, 1], [2, 1, 6]], 4: [[5, 3, 2, 1], [3, 2, 1, 6]]}\n"
     ]
    }
   ],
   "source": [
    "prices = [1, 4, 5, 3, 2, 1, 6]\n",
    "money = 12\n",
    "r={}\n",
    "for i in range(len(prices)):\n",
    "    for j in range(i,len(prices)):\n",
    "        if sum(prices[i:j+1])<=money:\n",
    "            id=j-i+1\n",
    "            if id not in r:\n",
    "                r[id]=[]\n",
    "            r[id].append(prices[i:j+1])\n",
    "print(r)"
   ]
  },
  {
   "cell_type": "code",
   "execution_count": 11,
   "metadata": {},
   "outputs": [
    {
     "name": "stdout",
     "output_type": "stream",
     "text": [
      "[[5, 4]]\n"
     ]
    }
   ],
   "source": [
    "arr=[4,1,-1,-2,5,2,5,4,2,1,3,7,8]\n",
    "target=9\n",
    "k=2\n",
    "li=[]\n",
    "for i in range(len(arr)-k+1):\n",
    "    if sum(arr[i:i+k])==target:\n",
    "        li.append(arr[i:i+k])\n",
    "print(li)\n"
   ]
  },
  {
   "cell_type": "code",
   "execution_count": 27,
   "metadata": {},
   "outputs": [
    {
     "name": "stdout",
     "output_type": "stream",
     "text": [
      "[[1, 8], [2, 7], [4, 5], [5, 4]]\n"
     ]
    }
   ],
   "source": [
    "arr=[4,1,-1,-2,5,2,5,4,2,1,3,7,8]\n",
    "target=9\n",
    "li=[]\n",
    "for i in range(len(arr)):\n",
    "    for j in range(i,len(arr)):\n",
    "        if arr[i]+arr[j]==target:\n",
    "            c=[arr[i],arr[j]]\n",
    "            if c not in li:\n",
    "                li.append(c)\n",
    "\n",
    "print(sorted(li))"
   ]
  },
  {
   "cell_type": "code",
   "execution_count": null,
   "metadata": {},
   "outputs": [
    {
     "name": "stdout",
     "output_type": "stream",
     "text": [
      "88\n"
     ]
    }
   ],
   "source": [
    "#maximum number using 1-pointer and for loop\n",
    "arr=[4,1,2,3,23,3,5,2,7,9,4,55,33,22,88,11]\n",
    "c=0\n",
    "for i in arr:\n",
    "    if c<i:\n",
    "        c=i\n",
    "print(c)"
   ]
  },
  {
   "cell_type": "code",
   "execution_count": null,
   "metadata": {},
   "outputs": [
    {
     "name": "stdout",
     "output_type": "stream",
     "text": [
      "88\n"
     ]
    }
   ],
   "source": [
    "#maximum number using 1-pointer and while loop\n",
    "arr=[4,1,2,3,23,3,5,2,7,9,4,55,33,22,88,11]\n",
    "c=0\n",
    "it=0\n",
    "while it<len(arr):\n",
    "    if c<arr[it]:\n",
    "        c=arr[it]\n",
    "    it+=1\n",
    "print(c)"
   ]
  },
  {
   "cell_type": "code",
   "execution_count": null,
   "metadata": {},
   "outputs": [
    {
     "name": "stdout",
     "output_type": "stream",
     "text": [
      "1\n"
     ]
    }
   ],
   "source": [
    "#minimum number using 1-pointer and for loop\n",
    "arr=[4,1,2,3,23,3,5,2,7,9,4,55,33,22,88,11]\n",
    "c=arr[0]\n",
    "for i in arr:\n",
    "    if c>i:\n",
    "        c=i\n",
    "print(c)"
   ]
  },
  {
   "cell_type": "code",
   "execution_count": null,
   "metadata": {},
   "outputs": [
    {
     "name": "stdout",
     "output_type": "stream",
     "text": [
      "1\n"
     ]
    }
   ],
   "source": [
    "#minimum number using 1-pointer and while loop\n",
    "arr=[4,1,2,3,23,3,5,2,7,9,4,55,33,22,88,11]\n",
    "c=arr[0]\n",
    "it=0\n",
    "while it<len(arr):\n",
    "    if c>arr[it]:\n",
    "        c=arr[it]\n",
    "    it+=1\n",
    "print(c)"
   ]
  },
  {
   "cell_type": "code",
   "execution_count": 19,
   "metadata": {},
   "outputs": [
    {
     "name": "stdout",
     "output_type": "stream",
     "text": [
      "2 [1, 2]\n"
     ]
    }
   ],
   "source": [
    "nums = [1, 1, 2]\n",
    "li=[]\n",
    "for i in nums:\n",
    "    if i not in li:\n",
    "        li.append(i)\n",
    "print(len(li),li)"
   ]
  },
  {
   "cell_type": "code",
   "execution_count": null,
   "metadata": {},
   "outputs": [
    {
     "name": "stdout",
     "output_type": "stream",
     "text": [
      "2 [1, 2]\n"
     ]
    }
   ],
   "source": [
    "nums = [1, 1, 2]\n",
    "k = 0\n",
    "\n",
    "for i in range(1, len(nums)):\n",
    "    if nums[i] != nums[k]:\n",
    "        k += 1\n",
    "        nums[k] = nums[i]\n",
    "\n",
    "print(k + 1, nums[:k + 1])  # Output: 2, [1, 2]"
   ]
  },
  {
   "cell_type": "code",
   "execution_count": 25,
   "metadata": {},
   "outputs": [
    {
     "name": "stdout",
     "output_type": "stream",
     "text": [
      "2 [1, 2]\n"
     ]
    }
   ],
   "source": [
    "nums = [1, 1, 2]\n",
    "k=0\n",
    "for i in nums:\n",
    "    if nums[k]!=i:\n",
    "        k+=1\n",
    "        nums[k]=i\n",
    "print(k+1,nums[:k+1])"
   ]
  },
  {
   "cell_type": "code",
   "execution_count": 27,
   "metadata": {},
   "outputs": [
    {
     "data": {
      "text/plain": [
       "[1, 3]"
      ]
     },
     "execution_count": 27,
     "metadata": {},
     "output_type": "execute_result"
    }
   ],
   "source": [
    "def intersection_naive(arr1, arr2):\n",
    "    result = []\n",
    "    for i in arr1:\n",
    "        if i in arr2 and i not in result:\n",
    "            result.append(i)\n",
    "    return result\n",
    "arr1=[1,2,3]\n",
    "arr2=[1,3,4]\n",
    "intersection_naive(arr1,arr2)"
   ]
  },
  {
   "cell_type": "code",
   "execution_count": 28,
   "metadata": {},
   "outputs": [
    {
     "name": "stdout",
     "output_type": "stream",
     "text": [
      "[1, 3]\n"
     ]
    }
   ],
   "source": [
    "arr1=[1,2,3]\n",
    "arr2=[1,3,4]\n",
    "\n",
    "li=[]\n",
    "for i in arr1:\n",
    "    if i in arr2:\n",
    "        li.append(i)\n",
    "print(li)"
   ]
  },
  {
   "cell_type": "code",
   "execution_count": 39,
   "metadata": {},
   "outputs": [
    {
     "name": "stdout",
     "output_type": "stream",
     "text": [
      "[1, 2, 3, 6, 4, 7, 8, 9, 3, 2, 5, 7, 8, 9, 0, 7, 6]\n"
     ]
    }
   ],
   "source": [
    "#union using for loop\n",
    "arr1=[1,2,3,6,4,7,8,9,3,2,5,7,8,9,0,7,6]\n",
    "arr2=[1,3,4,2,6,9,4,3,2,6]\n",
    "\n",
    "li=arr1[:]\n",
    "for i in arr2:\n",
    "    if i not in li:\n",
    "        li.append(i)\n",
    "print(li)"
   ]
  },
  {
   "cell_type": "code",
   "execution_count": 40,
   "metadata": {},
   "outputs": [
    {
     "name": "stdout",
     "output_type": "stream",
     "text": [
      "[1, 2, 3, 4, 6, 9]\n",
      "[0, 1, 2, 3, 4, 5, 6, 7, 8, 9]\n"
     ]
    }
   ],
   "source": [
    "#intersection perform on two lists\n",
    "print(list(set(arr1).intersection(set(arr2))))\n",
    "\n",
    "#union perform on two lists\n",
    "print(list(set(arr1).union(set(arr2))))"
   ]
  },
  {
   "cell_type": "code",
   "execution_count": 4,
   "metadata": {},
   "outputs": [
    {
     "name": "stdout",
     "output_type": "stream",
     "text": [
      "[2]\n",
      "[9, 4]\n"
     ]
    }
   ],
   "source": [
    "def intersection(nums1, nums2):\n",
    "    # Step 1: Sort both arrays\n",
    "    nums1.sort()\n",
    "    nums2.sort()\n",
    "    \n",
    "    # Step 2: Initialize pointers and result set\n",
    "    i, j = 0, 0\n",
    "    result = set()\n",
    "    \n",
    "    # Step 3: Traverse both arrays\n",
    "    while i < len(nums1) and j < len(nums2):\n",
    "        if nums1[i] == nums2[j]:  # Match found\n",
    "            result.add(nums1[i])\n",
    "            i += 1\n",
    "            j += 1\n",
    "        elif nums1[i] < nums2[j]:  # Move pointer in nums1\n",
    "            i += 1\n",
    "        else:  # Move pointer in nums2\n",
    "            j += 1\n",
    "    \n",
    "    # Step 4: Return the result as a list\n",
    "    return list(result)\n",
    "\n",
    "# Example usage\n",
    "nums1 = [1, 2, 2, 1]\n",
    "nums2 = [2, 2]\n",
    "print(intersection(nums1, nums2))  # Output: [2]\n",
    "\n",
    "nums1 = [4, 9, 5]\n",
    "nums2 = [9, 4, 9, 8, 4]\n",
    "print(intersection(nums1, nums2))  # Output: [4, 9] or [9, 4]\n"
   ]
  },
  {
   "cell_type": "code",
   "execution_count": 20,
   "metadata": {},
   "outputs": [
    {
     "name": "stdout",
     "output_type": "stream",
     "text": [
      "[]\n"
     ]
    }
   ],
   "source": [
    "arr=[3,2,4]\n",
    "target=6\n",
    "\n",
    "n=len(arr)\n",
    "left=0\n",
    "right=n-1\n",
    "\n",
    "while left < right:\n",
    "    c_sum=arr[left]+arr[right]\n",
    "    if c_sum==target:\n",
    "        print([left,right])\n",
    "        break\n",
    "    elif c_sum<target:\n",
    "        left+=1\n",
    "    else:\n",
    "        right-=1\n",
    "print(li)\n"
   ]
  },
  {
   "cell_type": "code",
   "execution_count": 21,
   "metadata": {},
   "outputs": [
    {
     "name": "stdout",
     "output_type": "stream",
     "text": [
      "[]\n"
     ]
    }
   ],
   "source": [
    "nums = [3, 2, 4]\n",
    "target = 6\n",
    "\n",
    "# Initialize pointers\n",
    "left = 0\n",
    "right = len(nums) - 1\n",
    "\n",
    "# Iterate through the array using the two-pointer approach\n",
    "while left < right:\n",
    "    current_sum = nums[left] + nums[right]\n",
    "    \n",
    "    if current_sum == target:\n",
    "        print([left, right])  # Return the indices of the two numbers\n",
    "        break\n",
    "    elif current_sum < target:\n",
    "        left += 1  # Increase sum by moving left pointer to the right\n",
    "    else:\n",
    "        right -= 1  # Decrease sum by moving right pointer to the left\n",
    "else:\n",
    "    print([])  # If no such pair is found\n"
   ]
  },
  {
   "cell_type": "code",
   "execution_count": 24,
   "metadata": {},
   "outputs": [
    {
     "name": "stdout",
     "output_type": "stream",
     "text": [
      "{3: 0, 2: 1}\n"
     ]
    }
   ],
   "source": [
    "nums = [3, 2, 4]\n",
    "target = 6\n",
    "\n",
    "# Create a dictionary to store numbers and their indices\n",
    "index_map = {}\n",
    "\n",
    "# Iterate through the array using a regular for loop\n",
    "for i in range(len(nums)):\n",
    "    num = nums[i]\n",
    "    complement = target - num\n",
    "    if complement in index_map:\n",
    "        # Return the indices of the two numbers that add up to the target\n",
    "        print(index_map)\n",
    "        break\n",
    "    # Store the number and its index\n",
    "    index_map[num] = i\n",
    "else:\n",
    "    print([])  # If no pair is found\n"
   ]
  },
  {
   "cell_type": "code",
   "execution_count": 9,
   "metadata": {},
   "outputs": [
    {
     "name": "stdout",
     "output_type": "stream",
     "text": [
      "[[1], [1, 4], [4], [5], [3], [3, 2], [3, 2, 1], [2], [2, 1], [1], [6]]\n"
     ]
    }
   ],
   "source": [
    "prices = [1, 4, 5, 3, 2, 1, 6]\n",
    "money=6\n",
    "li=[]\n",
    "for i in range(len(prices)):\n",
    "    for j in range(i,len(prices)):\n",
    "        if sum(prices[i:j+1])<=money:\n",
    "            li.append(prices[i:j+1])\n",
    "print(li)\n",
    "        "
   ]
  },
  {
   "cell_type": "code",
   "execution_count": 14,
   "metadata": {},
   "outputs": [
    {
     "name": "stdout",
     "output_type": "stream",
     "text": [
      "6\n"
     ]
    }
   ],
   "source": [
    "prices =  [10,1,5,6,7,1]\n",
    "max_profit=0\n",
    "buy=prices[0]\n",
    "\n",
    "for i in range(1,len(prices)):\n",
    "    if buy<prices[i]:\n",
    "        profit=prices[i]-buy\n",
    "        max_profit=max(max_profit,profit)\n",
    "    else:\n",
    "        buy=prices[i]\n",
    "print(max_profit)\n"
   ]
  },
  {
   "cell_type": "code",
   "execution_count": 20,
   "metadata": {},
   "outputs": [
    {
     "name": "stdout",
     "output_type": "stream",
     "text": [
      "3\n"
     ]
    }
   ],
   "source": [
    "s=\"zxyzxyz\"\n",
    "\n",
    "sett=set()\n",
    "left=0\n",
    "\n",
    "for right in range(len(s)):\n",
    "    if s[right] in sett:\n",
    "        sett.remove(s[left])\n",
    "        left+=1\n",
    "    sett.add(s[right])\n",
    "print(len(sett))"
   ]
  },
  {
   "cell_type": "code",
   "execution_count": 22,
   "metadata": {},
   "outputs": [
    {
     "name": "stdout",
     "output_type": "stream",
     "text": [
      "{'p', 'e', 'w', 'k'}\n"
     ]
    }
   ],
   "source": [
    "s=\"pwwkew\"\n",
    "sett=set()\n",
    "for i in range(len(s)):\n",
    "    if s[i] in sett:\n",
    "        sett.remove(s[i])\n",
    "    else:\n",
    "        sett.add(s[i])\n",
    "print(sett)\n"
   ]
  },
  {
   "cell_type": "code",
   "execution_count": 31,
   "metadata": {},
   "outputs": [],
   "source": [
    "nums1 = [1,2,3,0,0,0]\n",
    "m = 3\n",
    "nums2 = [2,5,6]\n",
    "n = 3\n",
    "\n",
    "nums1[:m]\n",
    "nums2[:n]\n",
    "nums1[:]=nums1+nums2\n",
    "nums1.sort()"
   ]
  },
  {
   "cell_type": "code",
   "execution_count": 7,
   "metadata": {},
   "outputs": [
    {
     "name": "stdout",
     "output_type": "stream",
     "text": [
      "False\n",
      "aabceeel\n"
     ]
    }
   ],
   "source": [
    "s1=\"abc\"\n",
    "s2=\"lecaabee\"\n",
    "\n",
    "print(s1 in s2)\n",
    "print(l2)"
   ]
  },
  {
   "cell_type": "code",
   "execution_count": 22,
   "metadata": {},
   "outputs": [
    {
     "name": "stdout",
     "output_type": "stream",
     "text": [
      "[3, 3, 2]\n"
     ]
    }
   ],
   "source": [
    "nums=[1,3,2,2,5,2,3,7]\n",
    "li=[]\n",
    "\n",
    "c=nums[0]\n",
    "\n",
    "for i in range(1,len(nums)):\n",
    "    if abs(c-nums[i])==1:\n",
    "        li.append(c)\n",
    "    else:\n",
    "        c=nums[i]\n",
    "print(li)\n"
   ]
  },
  {
   "cell_type": "code",
   "execution_count": 35,
   "metadata": {},
   "outputs": [
    {
     "name": "stdout",
     "output_type": "stream",
     "text": [
      "[1, 1, 1]\n"
     ]
    }
   ],
   "source": [
    "nums= [1,1,1,1]\n",
    "nums.sort()\n",
    "li=[]\n",
    "\n",
    "for i in range(len(nums)):\n",
    "    for j in range(i,len(nums)):\n",
    "        if nums[i]-nums[j]<=1:\n",
    "            li.append(nums[i:j])\n",
    "print(max(li))\n"
   ]
  },
  {
   "cell_type": "code",
   "execution_count": 20,
   "metadata": {},
   "outputs": [
    {
     "name": "stdout",
     "output_type": "stream",
     "text": [
      "2 3\n",
      "2 2\n",
      "2 5\n",
      "3 2\n"
     ]
    }
   ],
   "source": [
    "nums=[1,3,2,2,5,2,3,7]\n",
    "li=[]\n",
    "left=0\n",
    "\n",
    "for right in range(len(nums)-1):\n",
    "    if nums[right] - nums[left]<=1:\n",
    "        left+=1\n",
    "        li.append([nums[left],nums[right]])\n",
    "for j in li:\n",
    "    if (j[0]-j[1])<=1:\n",
    "        print(j[0],j[1])\n"
   ]
  },
  {
   "cell_type": "code",
   "execution_count": 1,
   "metadata": {},
   "outputs": [
    {
     "name": "stdout",
     "output_type": "stream",
     "text": [
      "-1\n",
      "[1, -1, 5, 4]\n"
     ]
    }
   ],
   "source": [
    "nums=[3,-2,1,4]\n",
    "left=2\n",
    "right=3\n",
    "min_sum=0\n",
    "li=[]\n",
    "for i in range(len(nums)):\n",
    "    c_sum=sum(nums[i:i+left])\n",
    "    li.append(c_sum)\n",
    "    min_sum=min(min_sum,c_sum)\n",
    "print(min_sum)\n",
    "print(li)\n"
   ]
  },
  {
   "cell_type": "code",
   "execution_count": 15,
   "metadata": {},
   "outputs": [
    {
     "name": "stdout",
     "output_type": "stream",
     "text": [
      "[]\n",
      "[7, 1, 4]\n"
     ]
    }
   ],
   "source": [
    "code = [5,7,1,4]\n",
    "print(code[:1-1])\n",
    "print(code[1:])"
   ]
  },
  {
   "cell_type": "code",
   "execution_count": 24,
   "metadata": {},
   "outputs": [
    {
     "name": "stdout",
     "output_type": "stream",
     "text": [
      "[12, 10, 16, 13]\n"
     ]
    }
   ],
   "source": [
    "li=[]\n",
    "for i in range(1,len(code)+1):\n",
    "    li.append(sum(code[:i-1]+code[i:]))\n",
    "print(li)"
   ]
  },
  {
   "cell_type": "code",
   "execution_count": 56,
   "metadata": {},
   "outputs": [
    {
     "name": "stdout",
     "output_type": "stream",
     "text": [
      "[9, 3]\n",
      "[3, 2]\n",
      "[2, 4]\n",
      "[4, 9]\n"
     ]
    }
   ],
   "source": [
    "nums=[2,4,9,3]\n",
    "n=len(nums)\n",
    "arr=nums+nums\n",
    "k=-2\n",
    "for i in range(len(nums)):\n",
    "    print(arr[i+n+k:i+n])"
   ]
  },
  {
   "cell_type": "code",
   "execution_count": 3,
   "metadata": {},
   "outputs": [
    {
     "name": "stdout",
     "output_type": "stream",
     "text": [
      "8\n"
     ]
    }
   ],
   "source": [
    "def hcf(n1,n2):\n",
    "    smaller=0\n",
    "    if n1<n2:\n",
    "        smaller=n1\n",
    "    else:\n",
    "        smaller=n2\n",
    "\n",
    "    hf=0\n",
    "    for i in range(1,smaller+1):\n",
    "        if n1%i==0 and n2%i==0:\n",
    "            hf=i\n",
    "    return hf\n",
    "\n",
    "n1=32\n",
    "n2=40\n",
    "print(hcf(n1,n2))\n"
   ]
  },
  {
   "cell_type": "code",
   "execution_count": 21,
   "metadata": {},
   "outputs": [
    {
     "name": "stdout",
     "output_type": "stream",
     "text": [
      "0\n"
     ]
    }
   ],
   "source": [
    "target = 11\n",
    "nums = [1,2,3,4,5]\n",
    "ms=0\n",
    "li=[]\n",
    "\n",
    "for i in range(len(nums)):\n",
    "    for j in range(i,len(nums)):\n",
    "        if sum(nums[i:j+1])>=target:\n",
    "            c=sum(nums[i:j+1])\n",
    "            ms=min(ms,c)\n",
    "        \n",
    "print(ms)"
   ]
  },
  {
   "cell_type": "code",
   "execution_count": 7,
   "metadata": {},
   "outputs": [
    {
     "name": "stdout",
     "output_type": "stream",
     "text": [
      "False\n"
     ]
    }
   ],
   "source": [
    "pattern = \"aaaa\"\n",
    "s = 'dog cat cat dog'\n",
    "\n",
    "words=s.split()\n",
    "print(len(set(zip(pattern,words))) == len(set(pattern)))"
   ]
  },
  {
   "cell_type": "code",
   "execution_count": 6,
   "metadata": {},
   "outputs": [
    {
     "name": "stdout",
     "output_type": "stream",
     "text": [
      "3\n"
     ]
    }
   ],
   "source": [
    "s = \"abcabcbb\"\n",
    "sett=set()\n",
    "left=0\n",
    "ml=0\n",
    "for right in range(len(s)):\n",
    "    if s[right] in sett:\n",
    "        sett.remove(s[left])\n",
    "        left+=1\n",
    "    sett.add(s[right])\n",
    "    ml=max(ml,right-left+1)\n",
    "print(ml)"
   ]
  },
  {
   "cell_type": "code",
   "execution_count": 16,
   "metadata": {},
   "outputs": [
    {
     "name": "stdout",
     "output_type": "stream",
     "text": [
      " -042\n"
     ]
    }
   ],
   "source": [
    "s = \" -042\"\n",
    "l=\"\"\n",
    "for i in s:\n",
    "    if i.isdigit() or i.isascii() or i.isalpha():\n",
    "        l+=i\n",
    "print(l)"
   ]
  },
  {
   "cell_type": "code",
   "execution_count": 4,
   "metadata": {},
   "outputs": [
    {
     "name": "stdout",
     "output_type": "stream",
     "text": [
      "25\n"
     ]
    }
   ],
   "source": [
    "n = 7\n",
    "arr = [11, 22, 12, 24, 13, 26, 14]\n",
    "s = 5\n",
    "print(abs(arr[s-1] - arr[s]) + abs(arr[s+1] - arr[s]))"
   ]
  },
  {
   "cell_type": "code",
   "execution_count": 8,
   "metadata": {},
   "outputs": [
    {
     "name": "stdout",
     "output_type": "stream",
     "text": [
      "1000\n"
     ]
    }
   ],
   "source": [
    "arr = [1000, 2000, 3000, 4000, 5000]\n",
    "li = []\n",
    "for i in arr:\n",
    "    if i > 1000:\n",
    "        tax = i-1000\n",
    "        li.append(tax // 10)\n",
    "print(sum(li))"
   ]
  },
  {
   "cell_type": "code",
   "execution_count": 10,
   "metadata": {},
   "outputs": [
    {
     "name": "stdout",
     "output_type": "stream",
     "text": [
      "1 3 2 4 5\n"
     ]
    }
   ],
   "source": [
    "arr = [1,1,3,2,1,4,5,4]\n",
    "li=[]\n",
    "for i in arr:\n",
    "    if i not in li:\n",
    "        li.append(i)\n",
    "print(\" \".join(map(str,li)))"
   ]
  }
 ],
 "metadata": {
  "kernelspec": {
   "display_name": "Python 3",
   "language": "python",
   "name": "python3"
  },
  "language_info": {
   "codemirror_mode": {
    "name": "ipython",
    "version": 3
   },
   "file_extension": ".py",
   "mimetype": "text/x-python",
   "name": "python",
   "nbconvert_exporter": "python",
   "pygments_lexer": "ipython3",
   "version": "3.13.1"
  }
 },
 "nbformat": 4,
 "nbformat_minor": 2
}
