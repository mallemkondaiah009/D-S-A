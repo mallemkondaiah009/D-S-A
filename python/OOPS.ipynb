{
 "cells": [
  {
   "cell_type": "code",
   "execution_count": null,
   "metadata": {},
   "outputs": [
    {
     "name": "stdout",
     "output_type": "stream",
     "text": [
      "30\n"
     ]
    }
   ],
   "source": [
    "# polymorphism -  Many forms \n",
    "# 1.operator overloading\n",
    "# Overloading refers to defining multiple methods with same name but diffrent parameters within the same class.\n",
    "# Using magic functions only to perform operator overloading or dunder methods\n",
    "class Book:\n",
    "    def __init__(self,pages):\n",
    "        self.pages=pages\n",
    "\n",
    "    # using magic functions\n",
    "    def __add__(self,other):\n",
    "        return self.pages + other.pages\n",
    "\n",
    "b1=Book(10)\n",
    "b2=Book(20)\n",
    "print(b1+b2)"
   ]
  },
  {
   "cell_type": "code",
   "execution_count": null,
   "metadata": {},
   "outputs": [
    {
     "name": "stdout",
     "output_type": "stream",
     "text": [
      "two arguments\n"
     ]
    }
   ],
   "source": [
    "# method overloading- is not possible in python  it only execute last function directly\n",
    "# method names are same but diffrent parameters\n",
    "class Test:\n",
    "    def m1(self):\n",
    "        print(\"no arguments\")\n",
    "    def m1(self,a):\n",
    "        print(\"one argument\")\n",
    "    def m1(self,a,b):\n",
    "        print(\"two arguments\")\n",
    "\n",
    "\n",
    "T=Test()\n",
    "T.m1(1,2)"
   ]
  },
  {
   "cell_type": "code",
   "execution_count": null,
   "metadata": {},
   "outputs": [
    {
     "name": "stdout",
     "output_type": "stream",
     "text": [
      "one argument constructor\n"
     ]
    }
   ],
   "source": [
    "# constructor overloading- it is also same as method overloading\n",
    "# constuctor names are same but diffrent parameters\n",
    "\n",
    "class Test:\n",
    "    def __init__(self):\n",
    "        print(\"no constructor value\")\n",
    "    def __init__(self,a):\n",
    "        print(\"one argument constructor\")\n",
    "\n",
    "T=Test(2)"
   ]
  },
  {
   "cell_type": "code",
   "execution_count": 2,
   "metadata": {},
   "outputs": [
    {
     "name": "stdout",
     "output_type": "stream",
     "text": [
      "1960 cadilac car Upgrade to mustang! car!\n"
     ]
    }
   ],
   "source": [
    "# method overriding \n",
    "# Overriding means redefining a method from the parent class in a child class to provide a specific implementation.\n",
    "# methods override from the base class\n",
    "class parent:\n",
    "    def assets(self):\n",
    "        print(\"money+house\")\n",
    "\n",
    "    def car(self):\n",
    "        print(\"1960 cadilac car!\")\n",
    "\n",
    "class child(parent):\n",
    "    def car(self):\n",
    "        # s1=super().car()\n",
    "        # super().assets()\n",
    "        print(\"1960 cadilac car Upgrade to mustang! car!\")\n",
    "\n",
    "\n",
    "b1=child()\n",
    "b1.car()\n",
    "\n"
   ]
  },
  {
   "cell_type": "code",
   "execution_count": null,
   "metadata": {},
   "outputs": [
    {
     "name": "stdout",
     "output_type": "stream",
     "text": [
      "parent class constructor!\n",
      "child class constructor!\n"
     ]
    }
   ],
   "source": [
    "# constructor overriding\n",
    "class parent:\n",
    "    def __init__(self):\n",
    "        print(\"parent class constructor!\")\n",
    "\n",
    "class child(parent):\n",
    "    def __init__(self):\n",
    "        super().__init__()\n",
    "        print(\"child class constructor!\")\n",
    "\n",
    "c1=child()\n"
   ]
  },
  {
   "cell_type": "code",
   "execution_count": 7,
   "metadata": {},
   "outputs": [
    {
     "name": "stdout",
     "output_type": "stream",
     "text": [
      "Dog Barking\n",
      "Kill the deers and eat\n"
     ]
    }
   ],
   "source": [
    "# INHERITENCE\n",
    "# Single Inheritence\n",
    "# A child class inherits from one parent class is called single inheritance.\n",
    "\n",
    "class Animal:\n",
    "    def dog(self):\n",
    "        print(\"Dog Barking\")\n",
    "\n",
    "class Tiger(Animal):\n",
    "    def food(self):\n",
    "        print(\"Kill the deers and eat\")\n",
    "        \n",
    "t1 = Tiger()\n",
    "t1.dog()\n",
    "t1.food()"
   ]
  },
  {
   "cell_type": "code",
   "execution_count": 9,
   "metadata": {},
   "outputs": [
    {
     "name": "stdout",
     "output_type": "stream",
     "text": [
      "Eating...\n",
      "Flying...\n"
     ]
    }
   ],
   "source": [
    "# Multiple Inheritance\n",
    "# A child class inherits from multiple parent classes is called multiple inheritance.\n",
    "class Animal:\n",
    "    def eat(self):\n",
    "        print(\"Eating...\")\n",
    "\n",
    "class Bird:\n",
    "    def fly(self):\n",
    "        print(\"Flying...\")\n",
    "\n",
    "class FlyingDog(Animal, Bird):\n",
    "    pass\n",
    "\n",
    "d1=FlyingDog()\n",
    "d1.eat()\n",
    "d1.fly()"
   ]
  },
  {
   "cell_type": "code",
   "execution_count": 16,
   "metadata": {},
   "outputs": [
    {
     "name": "stdout",
     "output_type": "stream",
     "text": [
      "Eating...\n",
      "Barking...\n",
      "Barking...\n"
     ]
    }
   ],
   "source": [
    "# Multi-Level Inheritance\n",
    "# A child class is inherited from another child class \n",
    "class Animal:\n",
    "    def eat(self):\n",
    "        print(\"Eating...\")\n",
    "\n",
    "class Dog(Animal):\n",
    "    def bark(self):\n",
    "        print(\"Barking...\")\n",
    "\n",
    "class Puppy(Dog):\n",
    "    def weep(self):\n",
    "        print(\"Weeping...\")\n",
    "\n",
    "class Tiger(Puppy):\n",
    "    def Roar(self):\n",
    "        print(\"Roaring...\")\n",
    "\n",
    "# Create an instance of Puppy\n",
    "tiger = Tiger()\n",
    "tiger.eat()\n",
    "tiger.bark()\n",
    "puppy = Puppy()\n",
    "puppy.bark()\n"
   ]
  },
  {
   "cell_type": "code",
   "execution_count": 19,
   "metadata": {},
   "outputs": [
    {
     "name": "stdout",
     "output_type": "stream",
     "text": [
      "Eating...\n",
      "Eating...\n",
      "Eating...\n"
     ]
    }
   ],
   "source": [
    "# Hierarhical Inheritance\n",
    "# Multiple child classes inherits from a single parent class\n",
    "class Animal:\n",
    "    def eat(self):\n",
    "        print(\"Eating...\")\n",
    "\n",
    "class Dog(Animal):\n",
    "    def bark(self):\n",
    "        print(\"Barking...\")\n",
    "\n",
    "class Cat(Animal):\n",
    "    def meow(self):\n",
    "        print(\"Meowing...\")\n",
    "\n",
    "c1 = Cat()\n",
    "c1.eat()\n",
    "\n",
    "a1 = Animal()\n",
    "a1.eat()\n",
    "\n",
    "d1 = Dog()\n",
    "d1.eat()\n"
   ]
  },
  {
   "cell_type": "code",
   "execution_count": null,
   "metadata": {},
   "outputs": [
    {
     "name": "stdout",
     "output_type": "stream",
     "text": [
      "Eating...\n",
      "Barking...\n"
     ]
    }
   ],
   "source": [
    "# Hybrid Inheritance\n",
    "# A combination of two or more types of inheritance (like single, multilevel, multiple, hierarchical) in one structure.\n",
    "class Animal:\n",
    "    def eat(self):\n",
    "        print(\"Eating...\")\n",
    "\n",
    "class Bird(Animal):\n",
    "    def fly(self):\n",
    "        print(\"Flying...\")\n",
    "\n",
    "class Dog(Animal):\n",
    "    def bark(self):\n",
    "        print(\"Barking...\")\n",
    "\n",
    "class FlyingDog(Dog, Bird):\n",
    "    pass\n",
    "\n",
    "fd=FlyingDog()\n",
    "fd.eat()\n",
    "fd.bark()"
   ]
  },
  {
   "cell_type": "code",
   "execution_count": null,
   "metadata": {},
   "outputs": [
    {
     "name": "stdout",
     "output_type": "stream",
     "text": [
      "Bike have 2 wheels\n",
      "G! engine\n"
     ]
    }
   ],
   "source": [
    "# Data Abstraction\n",
    "# Hiding the internal details and showing only the essential features to the user.\n",
    "# Abstract class: A class that cannot be instantiated directly\n",
    "# cannot Instantiate means you cannot create an object of that class.\n",
    "# Abstract method: A method with no body\n",
    "\n",
    "from abc import ABC,abstractmethod\n",
    "\n",
    "class Vechicle(ABC):\n",
    "    \n",
    "    @abstractmethod\n",
    "    def wheels(self):\n",
    "        pass\n",
    "    \n",
    "    def engine(self):\n",
    "        print(\"G! engine\")\n",
    "    \n",
    "    \n",
    "class car(Vechicle):\n",
    "    def wheels(self):\n",
    "        print(\"Car have 4 Wheels\")\n",
    "        \n",
    "class Bike(Vechicle):\n",
    "    def wheels(self):\n",
    "        print(\"Bike have 2 wheels\")\n",
    "        \n",
    "v1=Bike()\n",
    "v1.wheels()\n",
    "v1.engine()"
   ]
  },
  {
   "cell_type": "code",
   "execution_count": null,
   "metadata": {},
   "outputs": [
    {
     "data": {
      "text/plain": [
       "'Luffy'"
      ]
     },
     "execution_count": 8,
     "metadata": {},
     "output_type": "execute_result"
    }
   ],
   "source": [
    "# Encapsulation\n",
    "# Protecting the data from outside interference.\n",
    "class Anime:\n",
    "    def __init__(self,a,b):\n",
    "        self.__a=a\n",
    "        self._b=b\n",
    "    \n",
    "    def display(self):\n",
    "        print(\"Enma:\",self._a)\n",
    "        print(\"God:\",self._b)\n",
    "        \n",
    "s1=Anime(\"Zoro\",\"Luffy\")\n",
    "s1._b\n",
    "\n"
   ]
  },
  {
   "cell_type": "code",
   "execution_count": null,
   "metadata": {},
   "outputs": [
    {
     "name": "stdout",
     "output_type": "stream",
     "text": [
      "One Piece is the best anime!\n",
      "Naruto is a great anime!\n"
     ]
    }
   ],
   "source": [
    "class Anime:\n",
    "    def Onepiece(self):\n",
    "        print(\"One Piece is the best anime!\")\n",
    "    def Naruto(self):\n",
    "        print(\"Naruto is a great anime!\")\n",
    "\n",
    "b1 = Anime()\n",
    "b1.Onepiece()\n",
    "b1.Naruto()\n"
   ]
  },
  {
   "cell_type": "code",
   "execution_count": null,
   "metadata": {},
   "outputs": [],
   "source": []
  },
  {
   "cell_type": "code",
   "execution_count": null,
   "metadata": {},
   "outputs": [],
   "source": []
  },
  {
   "cell_type": "code",
   "execution_count": null,
   "metadata": {},
   "outputs": [],
   "source": []
  },
  {
   "cell_type": "code",
   "execution_count": null,
   "metadata": {},
   "outputs": [],
   "source": []
  },
  {
   "cell_type": "code",
   "execution_count": null,
   "metadata": {},
   "outputs": [],
   "source": []
  },
  {
   "cell_type": "code",
   "execution_count": null,
   "metadata": {},
   "outputs": [],
   "source": []
  },
  {
   "cell_type": "code",
   "execution_count": null,
   "metadata": {},
   "outputs": [],
   "source": []
  },
  {
   "cell_type": "code",
   "execution_count": null,
   "metadata": {},
   "outputs": [],
   "source": []
  },
  {
   "cell_type": "code",
   "execution_count": null,
   "metadata": {},
   "outputs": [],
   "source": []
  },
  {
   "cell_type": "code",
   "execution_count": null,
   "metadata": {},
   "outputs": [],
   "source": []
  },
  {
   "cell_type": "code",
   "execution_count": null,
   "metadata": {},
   "outputs": [],
   "source": []
  },
  {
   "cell_type": "code",
   "execution_count": null,
   "metadata": {},
   "outputs": [],
   "source": []
  },
  {
   "cell_type": "code",
   "execution_count": null,
   "metadata": {},
   "outputs": [],
   "source": []
  },
  {
   "cell_type": "code",
   "execution_count": null,
   "metadata": {},
   "outputs": [],
   "source": []
  },
  {
   "cell_type": "code",
   "execution_count": null,
   "metadata": {},
   "outputs": [],
   "source": []
  },
  {
   "cell_type": "code",
   "execution_count": null,
   "metadata": {},
   "outputs": [],
   "source": []
  },
  {
   "cell_type": "code",
   "execution_count": null,
   "metadata": {},
   "outputs": [],
   "source": []
  },
  {
   "cell_type": "code",
   "execution_count": null,
   "metadata": {},
   "outputs": [],
   "source": []
  }
 ],
 "metadata": {
  "kernelspec": {
   "display_name": "Python 3",
   "language": "python",
   "name": "python3"
  },
  "language_info": {
   "codemirror_mode": {
    "name": "ipython",
    "version": 3
   },
   "file_extension": ".py",
   "mimetype": "text/x-python",
   "name": "python",
   "nbconvert_exporter": "python",
   "pygments_lexer": "ipython3",
   "version": "3.13.1"
  }
 },
 "nbformat": 4,
 "nbformat_minor": 2
}
