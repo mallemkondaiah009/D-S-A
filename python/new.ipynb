{
 "cells": [
  {
   "cell_type": "code",
   "execution_count": 3,
   "id": "d3125e9e",
   "metadata": {},
   "outputs": [
    {
     "name": "stdout",
     "output_type": "stream",
     "text": [
      "prime\n"
     ]
    }
   ],
   "source": [
    "#prime number\n",
    "\n",
    "n=int(input(\"Enter:\"))\n",
    "li1=[]\n",
    "for i in range(n*n):\n",
    "    if i>2:\n",
    "        for j in range(2,i):\n",
    "            if i%j==0:\n",
    "                break\n",
    "        else:\n",
    "            li1.append(i)\n",
    "for p in li1:\n",
    "    if p==n:\n",
    "        print(\"prime\")\n",
    "        break\n",
    "else:\n",
    "    print(\"not prime\")"
   ]
  },
  {
   "cell_type": "code",
   "execution_count": null,
   "id": "cbf3d0cf",
   "metadata": {},
   "outputs": [
    {
     "name": "stdout",
     "output_type": "stream",
     "text": [
      "[3, 5, 7, 11, 13]\n"
     ]
    }
   ],
   "source": [
    "# it give prime numbers how many you want.\n",
    "\n",
    "n = int(input(\"Enter: \"))\n",
    "li=[]\n",
    "\n",
    "for i in range(n*n):\n",
    "    if i > 2:\n",
    "        for j in range(2,i):\n",
    "            if i%j == 0:\n",
    "                break\n",
    "        else:\n",
    "            li.append(i)\n",
    "print(li[:n])"
   ]
  },
  {
   "cell_type": "code",
   "execution_count": 1,
   "id": "813213be",
   "metadata": {},
   "outputs": [
    {
     "name": "stdout",
     "output_type": "stream",
     "text": [
      "**\n",
      "***\n",
      "****\n",
      "*****\n",
      "******\n",
      "*******\n",
      "********\n",
      "*********\n"
     ]
    }
   ],
   "source": [
    "for i in range(2,10):\n",
    "    print(i*\"*\")"
   ]
  },
  {
   "cell_type": "code",
   "execution_count": null,
   "id": "0d24fe44",
   "metadata": {},
   "outputs": [
    {
     "name": "stdout",
     "output_type": "stream",
     "text": [
      "28657\n"
     ]
    }
   ],
   "source": [
    "# fibonacci Number\n",
    "def Fibonacci(n):\n",
    "    a,b=0,1\n",
    "    if n<0:\n",
    "        return False\n",
    "    if n<=1:\n",
    "        return n\n",
    "    \n",
    "    for _ in range(2,n+1):\n",
    "        a,b=b,a+b\n",
    "    return b\n",
    "\n",
    "n=int(input(\"Enter:\"))\n",
    "print(Fibonacci(n))\n"
   ]
  },
  {
   "cell_type": "code",
   "execution_count": 11,
   "id": "e15d021f",
   "metadata": {},
   "outputs": [
    {
     "name": "stdout",
     "output_type": "stream",
     "text": [
      "[0, 1]\n"
     ]
    }
   ],
   "source": [
    "# fibonacci series\n",
    "\n",
    "def Fibo(n):\n",
    "    a,b=0,1\n",
    "    li=[0,1]\n",
    "    if n<0:\n",
    "        return False\n",
    "    if n==0:\n",
    "        return li[0]\n",
    "    if n==1:\n",
    "        return li\n",
    "    for _ in range(2,n+1):\n",
    "        a,b=b,a+b\n",
    "        li.append(b)\n",
    "    return li\n",
    "\n",
    "n=int(input(\"Enter:\"))\n",
    "print(Fibo(n))"
   ]
  },
  {
   "cell_type": "code",
   "execution_count": 5,
   "id": "08596d54",
   "metadata": {},
   "outputs": [
    {
     "name": "stdout",
     "output_type": "stream",
     "text": [
      "0\n"
     ]
    }
   ],
   "source": [
    "for i in range(1):\n",
    "    print(i)"
   ]
  }
 ],
 "metadata": {
  "kernelspec": {
   "display_name": "Python 3",
   "language": "python",
   "name": "python3"
  },
  "language_info": {
   "codemirror_mode": {
    "name": "ipython",
    "version": 3
   },
   "file_extension": ".py",
   "mimetype": "text/x-python",
   "name": "python",
   "nbconvert_exporter": "python",
   "pygments_lexer": "ipython3",
   "version": "3.13.1"
  }
 },
 "nbformat": 4,
 "nbformat_minor": 5
}
