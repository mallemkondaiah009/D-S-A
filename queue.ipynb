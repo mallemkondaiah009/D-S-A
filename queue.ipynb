{
 "cells": [
  {
   "cell_type": "code",
   "execution_count": 7,
   "metadata": {},
   "outputs": [
    {
     "name": "stdout",
     "output_type": "stream",
     "text": [
      "[2]\n",
      "[3]\n",
      "[4]\n",
      "[5]\n"
     ]
    }
   ],
   "source": [
    "class Queue:\n",
    "\n",
    "    def __init__(self):\n",
    "        self.queue=[]\n",
    "\n",
    "    def enqueue(self,item):\n",
    "        return self.queue.append(item)\n",
    "\n",
    "    def dequeue(self):\n",
    "        return self.queue.pop(0)\n",
    "    \n",
    "    def size(self):\n",
    "        return len(self.queue)\n",
    "    \n",
    "    def display(self):\n",
    "        for i in self.queue:\n",
    "            print([i])\n",
    "    \n",
    "Q1=Queue()\n",
    "Q1.enqueue(1)\n",
    "Q1.enqueue(2)\n",
    "Q1.enqueue(3)\n",
    "Q1.enqueue(4)\n",
    "Q1.enqueue(5)\n",
    "Q1.dequeue()\n",
    "Q1.display()\n",
    "\n"
   ]
  }
 ],
 "metadata": {
  "kernelspec": {
   "display_name": "Python 3",
   "language": "python",
   "name": "python3"
  },
  "language_info": {
   "codemirror_mode": {
    "name": "ipython",
    "version": 3
   },
   "file_extension": ".py",
   "mimetype": "text/x-python",
   "name": "python",
   "nbconvert_exporter": "python",
   "pygments_lexer": "ipython3",
   "version": "3.13.0"
  }
 },
 "nbformat": 4,
 "nbformat_minor": 2
}
